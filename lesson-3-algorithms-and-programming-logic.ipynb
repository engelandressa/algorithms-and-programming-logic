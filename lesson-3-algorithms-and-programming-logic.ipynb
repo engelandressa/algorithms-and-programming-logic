{
  "nbformat": 4,
  "nbformat_minor": 0,
  "metadata": {
    "colab": {
      "provenance": []
    },
    "kernelspec": {
      "name": "python3",
      "display_name": "Python 3"
    },
    "language_info": {
      "name": "python"
    }
  },
  "cells": [
    {
      "cell_type": "markdown",
      "source": [
        "**1. Conversor de Moedas**\n",
        "Implemente um conversor de moedas que permita ao usuário escolher entre Dólar (USD), Euro (EUR) e Libra (GBP) e converter um valor informado para Reais (BRL)."
      ],
      "metadata": {
        "id": "V8RLII5Sm1Zc"
      }
    },
    {
      "cell_type": "code",
      "execution_count": null,
      "metadata": {
        "id": "Pf2jwz1xmr50",
        "colab": {
          "base_uri": "https://localhost:8080/"
        },
        "outputId": "4bad0185-32ed-42fc-ca7e-efc67d4ffae6"
      },
      "outputs": [
        {
          "output_type": "stream",
          "name": "stdout",
          "text": [
            "Converta Real para uma das moedas abaixo:\n",
            "USD: Dólar\n",
            "EUR: Euro\n",
            "GBP: Libra\n",
            "Escolha uma moeda: EUR\n",
            "Digite o valor: 100\n",
            "Valor convertido em Euro: €636.00\n"
          ]
        }
      ],
      "source": [
        "print(\"Converta Real para uma das moedas abaixo:\")\n",
        "print(\"USD: Dólar\")\n",
        "print(\"EUR: Euro\")\n",
        "print(\"GBP: Libra\")\n",
        "\n",
        "moeda = input(\"Escolha uma moeda: \")\n",
        "\n",
        "match moeda:\n",
        "    case \"USD\":\n",
        "      valor = float(input(\"Digite o valor: \"))\n",
        "      valor *= 5.43\n",
        "      print(f\"Valor convertido em Dólar: ${valor:.2f}\")\n",
        "\n",
        "    case \"EUR\":\n",
        "      valor = float(input(\"Digite o valor: \"))\n",
        "      valor *= 6.36\n",
        "      print(f\"Valor convertido em Euro: €{valor:.2f}\")\n",
        "\n",
        "    case \"GBP\":\n",
        "      valor = float(input(\"Digite o valor: \"))\n",
        "      valor *= 7.35\n",
        "      print(f\"Valor convertido em Libra: £{valor:.2f}\")\n",
        "\n",
        "    case _:\n",
        "      print(\"Opção inválida!\")\n"
      ]
    },
    {
      "cell_type": "markdown",
      "source": [
        "**2 . Cálculo de Área de Figuras Geométricas**\n",
        "\n",
        "Desenvolva um programa que permita ao usuário escolher entre calcular a área de um quadrado, retângulo ou triângulo e insira os valores necessários para o cálculo."
      ],
      "metadata": {
        "id": "Osb-TSHOnM2L"
      }
    },
    {
      "cell_type": "code",
      "source": [
        "print(\"Calcule a área das formas abaixo:\")\n",
        "print(\"1: Quadrado\")\n",
        "print(\"2: Retângulo\")\n",
        "print(\"3: Triângulo\")\n",
        "\n",
        "forma = int(input(\"Escolha a forma: \"))\n",
        "\n",
        "match forma:\n",
        "    case 1:\n",
        "        altura = float(input(\"Digite o altura do quadrado: \"))\n",
        "        altura *= altura\n",
        "        print(f\"A área do quadrado é: {altura}\")\n",
        "\n",
        "    case 2:\n",
        "        altura = float(input(\"Digite o altura do retângulo: \"))\n",
        "        largura = float(input(\"Digite o largura do retângulo: \"))\n",
        "        altura *= largura\n",
        "        print(f\"A área do retângulo é: {altura}\")\n",
        "\n",
        "    case 3:\n",
        "        altura = float(input(\"Digite o altura do triângulo: \"))\n",
        "        base = float(input(\"Digite o base do triângulo: \"))\n",
        "        altura *= base/2\n",
        "        print(f\"A área do triângulo é: {altura}\")\n",
        "\n",
        "    case _:\n",
        "        print(\"Opção inválida!\")"
      ],
      "metadata": {
        "id": "h-moMzKDnO56",
        "colab": {
          "base_uri": "https://localhost:8080/"
        },
        "outputId": "0005fd32-f715-4e29-cd81-27b8359aa685"
      },
      "execution_count": null,
      "outputs": [
        {
          "output_type": "stream",
          "name": "stdout",
          "text": [
            "Calcule a área das formas abaixo:\n",
            "1: Quadrado\n",
            "2: Retângulo\n",
            "3: Triângulo\n",
            "Escolha a forma: 2\n",
            "Digite o altura do retângulo: 3\n",
            "Digite o largura do retângulo: 5\n",
            "A área do retângulo é: 15.0\n"
          ]
        }
      ]
    },
    {
      "cell_type": "markdown",
      "source": [
        "**3. Sistema de Login Simples**\n",
        "\n",
        "O programa deve pedir ao usuário que informe seu nome de usuário e, com base nisso, conceder um nível de acesso:\n",
        "\n",
        "Admin → Acesso total\n",
        "\n",
        "Professor → Acesso ao ambiente acadêmico\n",
        "\n",
        "Aluno → Acesso ao ambiente de estudos"
      ],
      "metadata": {
        "id": "HLUod9pIncQs"
      }
    },
    {
      "cell_type": "code",
      "source": [
        "print(\"Escolha seu usuário para fazer login:\")\n",
        "print(\"1: Admin\")\n",
        "print(\"2: Professor\")\n",
        "print(\"3: Aluno\")\n",
        "\n",
        "usuario = int(input(\"Escolha o tipo do usuário: \"))\n",
        "\n",
        "match usuario:\n",
        "    case 1:\n",
        "        print(f\"Acesso total!\")\n",
        "\n",
        "    case 2:\n",
        "        print(f\"Acesso ao ambiente acadêmico!\")\n",
        "\n",
        "    case 3:\n",
        "        print(f\"Acesso ao ambiente de estudos!\")\n",
        "\n",
        "    case _:\n",
        "        print(\"Opção inválida!\")\n"
      ],
      "metadata": {
        "id": "0BHlCg7infgk",
        "colab": {
          "base_uri": "https://localhost:8080/"
        },
        "outputId": "d6214b7e-f242-4fa0-f513-e6ab89cb0bf3"
      },
      "execution_count": null,
      "outputs": [
        {
          "output_type": "stream",
          "name": "stdout",
          "text": [
            "Escolha seu usuário para fazer login:\n",
            "1: Admin\n",
            "2: Professor\n",
            "3: Aluno\n",
            "Escolha o tipo do usuário: 2\n",
            "Acesso ao ambiente acadêmico!\n"
          ]
        }
      ]
    },
    {
      "cell_type": "markdown",
      "source": [
        "**4. Cálculo de Desconto por Categoria**\n",
        "\n",
        "O usuário deve informar o tipo de produto (Eletrônico, Roupas, Alimentos, Móveis), e o programa exibirá o percentual de desconto correspondente."
      ],
      "metadata": {
        "id": "inxnpGSSni8a"
      }
    },
    {
      "cell_type": "code",
      "source": [
        "print(\"Descubra o desconto em relação as categorias:\")\n",
        "print(\"1: Eletrônico\")\n",
        "print(\"2: Roupas\")\n",
        "print(\"3: Alimento\")\n",
        "print(\"4: Móveis\")\n",
        "\n",
        "\n",
        "categoria = int(input(\"Escolha a categoria: \"))\n",
        "\n",
        "match categoria:\n",
        "    case 1:\n",
        "        print(f\"Eletrônico com desconto de 15%!\")\n",
        "\n",
        "    case 2:\n",
        "        print(f\"Roupas com desconto de 20%!\")\n",
        "\n",
        "    case 3:\n",
        "        print(f\"Alimento com desconto de 10%!\")\n",
        "\n",
        "    case 4:\n",
        "        print(f\"Móveis com desconto de 5%!\")\n",
        "\n",
        "    case _:\n",
        "        print(\"Opção inválida!\")"
      ],
      "metadata": {
        "id": "eQvqTG6gnoZC"
      },
      "execution_count": null,
      "outputs": []
    },
    {
      "cell_type": "markdown",
      "source": [
        "**5 . Tradutor de Cores**\n",
        "\n",
        "O usuário informa uma cor em português (vermelho, azul, verde, amarelo), e o programa exibe sua tradução para inglês."
      ],
      "metadata": {
        "id": "YAe8pzUAnlAw"
      }
    },
    {
      "cell_type": "code",
      "source": [
        "print(\"Traduzindo cores para Inglês:\")\n",
        "print(\"1: Vermelho\")\n",
        "print(\"2: Azul\")\n",
        "print(\"3: Verde\")\n",
        "print(\"4: Amarelo\")\n",
        "\n",
        "\n",
        "cor = int(input(\"Escolha uma cor: \"))\n",
        "\n",
        "match cor:\n",
        "    case 1:\n",
        "        print(f\"Red\")\n",
        "\n",
        "    case 2:\n",
        "        print(f\"Blue\")\n",
        "\n",
        "    case 3:\n",
        "        print(f\"Green\")\n",
        "\n",
        "    case 4:\n",
        "        print(f\"Yellow\")\n",
        "\n",
        "    case _:\n",
        "        print(\"Opção inválida!\")"
      ],
      "metadata": {
        "id": "VCHO2k_snrw6",
        "colab": {
          "base_uri": "https://localhost:8080/"
        },
        "outputId": "80c787a8-c961-4f71-d50d-5de96edcd8f8"
      },
      "execution_count": null,
      "outputs": [
        {
          "output_type": "stream",
          "name": "stdout",
          "text": [
            "Traduza as seguintes cores para Inglês:\n",
            "1: Vermelho\n",
            "2: Azul\n",
            "3: Verde\n",
            "4: Amarelo\n",
            "Escolha uma cor: 2\n",
            "Blue\n"
          ]
        }
      ]
    },
    {
      "cell_type": "markdown",
      "source": [
        "**6. Simulação de Atendimento Telefônico**\n",
        "\n",
        "O usuário seleciona uma opção de atendimento telefônico:\n",
        "\n",
        "1 - Suporte Técnico\n",
        "\n",
        "2 - Financeiro\n",
        "\n",
        "3 - Cancelamento\n",
        "\n",
        "4 - Falar com um atendente"
      ],
      "metadata": {
        "id": "MEfEcVn9nsMq"
      }
    },
    {
      "cell_type": "code",
      "source": [
        "print(\"Selecione uma opção para ser atendido:\")\n",
        "print(\"1: Suporte Técnico\")\n",
        "print(\"2: Financeiro\")\n",
        "print(\"3: Cancelamento\")\n",
        "print(\"4: Falar com um atendente\")\n",
        "\n",
        "\n",
        "categoria = int(input(\"Escolha a categoria: \"))\n",
        "\n",
        "match categoria:\n",
        "    case 1:\n",
        "        print(f\"O suporte será chamado!\")\n",
        "\n",
        "    case 2:\n",
        "        print(f\"Roupas com desconto de 20%!\")\n",
        "\n",
        "    case 3:\n",
        "        print(f\"Alimento com desconto de 10%!\")\n",
        "\n",
        "    case 4:\n",
        "        print(f\"Móveis com desconto de 5%!\")\n",
        "\n",
        "    case _:\n",
        "        print(\"Opção inválida!\")"
      ],
      "metadata": {
        "id": "SRIC8rtinvhi"
      },
      "execution_count": null,
      "outputs": []
    },
    {
      "cell_type": "markdown",
      "source": [
        "**7. Calculadora Simples**\n",
        "\n",
        "O usuário escolhe uma operação matemática (+, -, *, /) e insere dois números. O programa exibe o resultado."
      ],
      "metadata": {
        "id": "JpKVkCX2nvw6"
      }
    },
    {
      "cell_type": "code",
      "source": [
        "print(\"Calculadora\")\n",
        "print(\"Selecione a operação:\")\n",
        "print(\"1: Soma\")\n",
        "print(\"2: Subtração\")\n",
        "print(\"3: Multiplicação\")\n",
        "print(\"3: Divisão\")\n",
        "\n",
        "forma = int(input(\"Escolha a operação: \"))\n",
        "\n",
        "match forma:\n",
        "    case 1:\n",
        "        num1 = float(input(\"Digite o número 1: \"))\n",
        "        num2 = float(input(\"Digite o número 2: \"))\n",
        "        num1 += num2\n",
        "        print(f\"O resultado da soma é: {num1:.0f}\")\n",
        "\n",
        "    case 2:\n",
        "        num1 = float(input(\"Digite o número 1: \"))\n",
        "        num2 = float(input(\"Digite o número 2: \"))\n",
        "        num1 -= num2\n",
        "        print(f\"O resultado da subtração é: {num1:.0f}\")\n",
        "\n",
        "    case 3:\n",
        "        num1 = float(input(\"Digite o número 1: \"))\n",
        "        num2 = float(input(\"Digite o número 2: \"))\n",
        "        num1 *= num2\n",
        "        print(f\"O resultado da multiplicação é: {num1:.0f}\")\n",
        "\n",
        "    case 41:\n",
        "        num1 = float(input(\"Digite o número 1: \"))\n",
        "        num2 = float(input(\"Digite o número 2: \"))\n",
        "        num1 /= num2\n",
        "        print(f\"O resultado da divisão é: {num1:.0f}\")\n",
        "\n",
        "    case _:\n",
        "        print(\"Opção inválida!\")"
      ],
      "metadata": {
        "id": "BQaPkEvMnyyp",
        "colab": {
          "base_uri": "https://localhost:8080/"
        },
        "outputId": "3ff7262a-0c16-4e7b-9373-53335a7b58c2"
      },
      "execution_count": 24,
      "outputs": [
        {
          "output_type": "stream",
          "name": "stdout",
          "text": [
            "Calculadora\n",
            "Selecione a operação:\n",
            "1: Soma\n",
            "2: Subtração\n",
            "3: Multiplicação\n",
            "3: Divisão\n",
            "Escolha a operação: 1\n",
            "Digite o número 1: 1\n",
            "Digite o número 2: 1\n",
            "O resultado da soma é: 2\n"
          ]
        }
      ]
    },
    {
      "cell_type": "markdown",
      "source": [
        "**8. Sistema de Reserva de Passagens**\n",
        "\n",
        "O usuário escolhe um destino (São Paulo, Rio de Janeiro, Curitiba, Salvador) e recebe o valor da passagem."
      ],
      "metadata": {
        "id": "Y0YqLb7BnzMj"
      }
    },
    {
      "cell_type": "code",
      "source": [
        "print(\"Consultar o valor das passagens das seguintes localidades:\")\n",
        "print(\"1: São Paulo\")\n",
        "print(\"2: Rio de Janeiro\")\n",
        "print(\"3: Curitiba\")\n",
        "print(\"4: Salvador\")\n",
        "\n",
        "\n",
        "categoria = int(input(\"Escolha o destino: \"))\n",
        "\n",
        "match categoria:\n",
        "    case 1:\n",
        "        print(f\"Passagem de VCP para GRU é de R$210,00!\")\n",
        "\n",
        "    case 2:\n",
        "        print(f\"Passagem de VCP para GIG é de R$330,00!\")\n",
        "\n",
        "    case 3:\n",
        "        print(f\"Passagem de VCP para CWB é de R$460,00!\")\n",
        "\n",
        "    case 4:\n",
        "        print(f\"Passagem de VCP para SSA é de R$570,00!\")\n",
        "\n",
        "    case _:\n",
        "        print(\"Opção inválida!\")"
      ],
      "metadata": {
        "id": "Z9-K0OB8n2JR",
        "colab": {
          "base_uri": "https://localhost:8080/"
        },
        "outputId": "e9c27fa0-5bc8-4500-e163-8d6fb2faab66"
      },
      "execution_count": 25,
      "outputs": [
        {
          "output_type": "stream",
          "name": "stdout",
          "text": [
            "Consultar o valor das passagens das seguintes localidades:\n",
            "1: São Paulo\n",
            "2: Rio de Janeiro\n",
            "3: Curitiba\n",
            "4: Salvador\n",
            "Escolha o destino: 3\n",
            "Passagem de VCP para CWB é de R$460,00!\n"
          ]
        }
      ]
    },
    {
      "cell_type": "markdown",
      "source": [
        "**9. Simulador de Compra em Loja Online**\n",
        "\n",
        "O usuário escolhe um produto e o programa informa o preço."
      ],
      "metadata": {
        "id": "TrRN97Vun4Sj"
      }
    },
    {
      "cell_type": "code",
      "source": [
        "print(\"Consultar o valor do metro dos seguintes tecidos:\")\n",
        "print(\"1: Viscose\")\n",
        "print(\"2: Tricoline\")\n",
        "print(\"3: Veludo Alemão\")\n",
        "print(\"4: Georgete de Seda\")\n",
        "\n",
        "\n",
        "categoria = int(input(\"Escolha o destino: \"))\n",
        "\n",
        "match categoria:\n",
        "    case 1:\n",
        "        print(f\"O metro da Viscose é de R$10,00!\")\n",
        "\n",
        "    case 2:\n",
        "        print(f\"O metro do Tricoline é de R$25,00!\")\n",
        "\n",
        "    case 3:\n",
        "        print(f\"O metro do Veludo Alemão é de R$160,00!\")\n",
        "\n",
        "    case 4:\n",
        "        print(f\"O metro do Georgete de Seda é de R$200,00!\")\n",
        "\n",
        "    case _:\n",
        "        print(\"Opção inválida!\")"
      ],
      "metadata": {
        "colab": {
          "base_uri": "https://localhost:8080/"
        },
        "id": "4h7729T9kYI2",
        "outputId": "573448d8-c938-4e50-9937-f4983ec393fa"
      },
      "execution_count": 26,
      "outputs": [
        {
          "output_type": "stream",
          "name": "stdout",
          "text": [
            "Consultar o valor do metro dos seguintes tecidos:\n",
            "1: Viscose\n",
            "2: Tricoline\n",
            "3: Veludo Alemão\n",
            "4: Georgete de Seda\n",
            "Escolha o destino: 2\n",
            "O metro do Tricoline é de R$25,00!\n"
          ]
        }
      ]
    },
    {
      "cell_type": "markdown",
      "source": [
        "**10. Sistema de Pagamento**\n",
        "\n",
        "O usuário escolhe uma forma de pagamento e o programa informa se há desconto ou acréscimo."
      ],
      "metadata": {
        "id": "xU0gMg1un6QJ"
      }
    },
    {
      "cell_type": "code",
      "source": [
        "print(\"Selecione o método de pagamento:\")\n",
        "print(\"1: À vista\")\n",
        "print(\"2: Débito\")\n",
        "print(\"3: Crédito\")\n",
        "\n",
        "\n",
        "categoria = int(input(\"Escolha a categoria: \"))\n",
        "\n",
        "match categoria:\n",
        "    case 1:\n",
        "        print(f\"À vista tem 10% de desconto!\")\n",
        "\n",
        "    case 2:\n",
        "        print(f\"Débito tem 5% de desconto!\")\n",
        "\n",
        "    case 3:\n",
        "        print(f\"Crédito tem 5% de juros!\")\n",
        "\n",
        "    case _:\n",
        "        print(\"Opção inválida!\")"
      ],
      "metadata": {
        "id": "JMD0x_Rsn53K",
        "colab": {
          "base_uri": "https://localhost:8080/"
        },
        "outputId": "9a67dbcb-1dbe-4b40-bac5-fe1926385d37"
      },
      "execution_count": 27,
      "outputs": [
        {
          "output_type": "stream",
          "name": "stdout",
          "text": [
            "Selecione o método de pagamento:\n",
            "1: À vista\n",
            "2: Débito\n",
            "3: Crédito\n",
            "Escolha a categoria: 1\n",
            "À vista tem 10% de desconto!\n"
          ]
        }
      ]
    }
  ]
}