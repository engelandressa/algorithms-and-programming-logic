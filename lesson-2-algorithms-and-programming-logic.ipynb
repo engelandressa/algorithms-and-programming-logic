{
  "nbformat": 4,
  "nbformat_minor": 0,
  "metadata": {
    "colab": {
      "provenance": []
    },
    "kernelspec": {
      "name": "python3",
      "display_name": "Python 3"
    },
    "language_info": {
      "name": "python"
    }
  },
  "cells": [
    {
      "cell_type": "markdown",
      "source": [
        "1. Receba dois números do usuário e mostre qual deles é o maior."
      ],
      "metadata": {
        "id": "6K00Odzs2C30"
      }
    },
    {
      "cell_type": "code",
      "source": [
        "numero_1 = float(input(\"Digite o número 1: \"))\n",
        "numero_2 = float(input(\"Digite o número 2: \"))\n",
        "\n",
        "if numero_1 > numero_2:\n",
        "  print(f\"O {numero_1} é o maior!\")\n",
        "elif numero_2 > numero_1:\n",
        "  print(f\"O {numero_2} é o maior!\")"
      ],
      "metadata": {
        "id": "kvCGOTNK2ERk",
        "colab": {
          "base_uri": "https://localhost:8080/"
        },
        "outputId": "071d81f4-4f8a-4c34-bfac-17b682fd290c"
      },
      "execution_count": null,
      "outputs": [
        {
          "output_type": "stream",
          "name": "stdout",
          "text": [
            "Digite o número 1: 12\n",
            "Digite o número 2: 10\n",
            "O 12.0 é o maior!\n"
          ]
        }
      ]
    },
    {
      "cell_type": "markdown",
      "source": [
        "2. Solicite a idade do usuário e informe se ele é menor de idade, maior de idade ou idoso (considerando 18 e 65 anos como limites)."
      ],
      "metadata": {
        "id": "IpIv6SRI2Fbz"
      }
    },
    {
      "cell_type": "code",
      "source": [
        "idade = int(input(\"Digite sua idade: \"))\n",
        "\n",
        "if idade >= 65:\n",
        "  print(f\"Você é idoso!\")\n",
        "elif idade >= 18:\n",
        "    print(f\"Você é maior de idade!\")\n",
        "else:\n",
        "  print(f\"Você é menor de idade!\")"
      ],
      "metadata": {
        "id": "CtKXO4U02YXx",
        "colab": {
          "base_uri": "https://localhost:8080/"
        },
        "outputId": "3d0c0bdd-b6e7-4d9b-c947-5366dd3b6da5"
      },
      "execution_count": null,
      "outputs": [
        {
          "output_type": "stream",
          "name": "stdout",
          "text": [
            "Digite sua idade: 65\n",
            "Você é idoso!\n"
          ]
        }
      ]
    },
    {
      "cell_type": "markdown",
      "source": [
        "3. Peça ao usuário para inserir a idade de uma pessoa e classifique-a como \"Criança\" (0-12 anos), \"Adolescente\" (13-17 anos), \"Adulto\" (18-64 anos) ou \"Idoso\" (65+ anos)."
      ],
      "metadata": {
        "id": "6kH_-5aw2YtK"
      }
    },
    {
      "cell_type": "code",
      "source": [
        "idade = int(input(\"Digite a idade: \"))\n",
        "\n",
        "if idade >= 65:\n",
        "  print(f\"Idoso!\")\n",
        "elif idade >= 18:\n",
        "  print(f\"Adulto!\")\n",
        "elif idade >= 13:\n",
        "  print(f\"Adolescente!\")\n",
        "else:\n",
        "  print(f\"Criança!\")"
      ],
      "metadata": {
        "id": "zyHJyIug2qcR",
        "colab": {
          "base_uri": "https://localhost:8080/"
        },
        "outputId": "9eaedadb-ba58-46e9-ce61-679ab9edbbc2"
      },
      "execution_count": null,
      "outputs": [
        {
          "output_type": "stream",
          "name": "stdout",
          "text": [
            "Digite a idade: 28\n",
            "Adulto!\n"
          ]
        }
      ]
    },
    {
      "cell_type": "code",
      "source": [
        "idade = int(input(\"Digite a idade: \"))\n",
        "\n",
        "if idade >= 65:\n",
        "  print(f\"Idoso!\")\n",
        "elif idade >= 18:\n",
        "  print(f\"Adulto!\")\n",
        "elif idade >= 13:\n",
        "  print(f\"Adolescente!\")\n",
        "elif idade >= 3:\n",
        "  print(f\"Criança!\")\n",
        "else:\n",
        "  print(f\"Bebê!\")"
      ],
      "metadata": {
        "id": "fwIcT0X0XNng",
        "colab": {
          "base_uri": "https://localhost:8080/"
        },
        "outputId": "2c38c1d4-90ee-4d6b-d60f-2c16b11fa72c"
      },
      "execution_count": null,
      "outputs": [
        {
          "output_type": "stream",
          "name": "stdout",
          "text": [
            "Digite a idade: 28\n",
            "Adulto!\n"
          ]
        }
      ]
    },
    {
      "cell_type": "markdown",
      "source": [
        "4. Crie uma calculadora simples que permita ao usuário escolher uma operação (adição, subtração, multiplicação ou divisão) e dois números, e então exiba o resultado."
      ],
      "metadata": {
        "id": "2t8K0ugq2qsB"
      }
    },
    {
      "cell_type": "code",
      "source": [
        "operacao = input(\"Escolha entre uma das operações e digite: +, -, *, /,: \")\n",
        "\n",
        "numero_1 = float(input(\"Digite um número: \"))\n",
        "numero_2 = float(input(\"Digite um número: \"))\n",
        "\n",
        "conta = (numero_1+operacao+numero_2)\n",
        "\n",
        "print(f\"conta\")"
      ],
      "metadata": {
        "id": "6TqNywKO2shA",
        "colab": {
          "base_uri": "https://localhost:8080/",
          "height": 373
        },
        "outputId": "59c54fcb-2c8f-460f-d78e-bfc3c0b3f6ad"
      },
      "execution_count": null,
      "outputs": [
        {
          "output_type": "error",
          "ename": "KeyboardInterrupt",
          "evalue": "Interrupted by user",
          "traceback": [
            "\u001b[0;31m---------------------------------------------------------------------------\u001b[0m",
            "\u001b[0;31mKeyboardInterrupt\u001b[0m                         Traceback (most recent call last)",
            "\u001b[0;32m/tmp/ipython-input-4147352434.py\u001b[0m in \u001b[0;36m<cell line: 0>\u001b[0;34m()\u001b[0m\n\u001b[0;32m----> 1\u001b[0;31m \u001b[0moperacao\u001b[0m \u001b[0;34m=\u001b[0m \u001b[0minput\u001b[0m\u001b[0;34m(\u001b[0m\u001b[0;34m\"Escolha entre uma das operações e digite: +, -, *, /,: \"\u001b[0m\u001b[0;34m)\u001b[0m\u001b[0;34m\u001b[0m\u001b[0;34m\u001b[0m\u001b[0m\n\u001b[0m\u001b[1;32m      2\u001b[0m \u001b[0;34m\u001b[0m\u001b[0m\n\u001b[1;32m      3\u001b[0m \u001b[0mnumero_1\u001b[0m \u001b[0;34m=\u001b[0m \u001b[0mfloat\u001b[0m\u001b[0;34m(\u001b[0m\u001b[0minput\u001b[0m\u001b[0;34m(\u001b[0m\u001b[0;34m\"Digite um número: \"\u001b[0m\u001b[0;34m)\u001b[0m\u001b[0;34m)\u001b[0m\u001b[0;34m\u001b[0m\u001b[0;34m\u001b[0m\u001b[0m\n\u001b[1;32m      4\u001b[0m \u001b[0mnumero_2\u001b[0m \u001b[0;34m=\u001b[0m \u001b[0mfloat\u001b[0m\u001b[0;34m(\u001b[0m\u001b[0minput\u001b[0m\u001b[0;34m(\u001b[0m\u001b[0;34m\"Digite um número: \"\u001b[0m\u001b[0;34m)\u001b[0m\u001b[0;34m)\u001b[0m\u001b[0;34m\u001b[0m\u001b[0;34m\u001b[0m\u001b[0m\n\u001b[1;32m      5\u001b[0m \u001b[0;34m\u001b[0m\u001b[0m\n",
            "\u001b[0;32m/usr/local/lib/python3.12/dist-packages/ipykernel/kernelbase.py\u001b[0m in \u001b[0;36mraw_input\u001b[0;34m(self, prompt)\u001b[0m\n\u001b[1;32m   1175\u001b[0m                 \u001b[0;34m\"raw_input was called, but this frontend does not support input requests.\"\u001b[0m\u001b[0;34m\u001b[0m\u001b[0;34m\u001b[0m\u001b[0m\n\u001b[1;32m   1176\u001b[0m             )\n\u001b[0;32m-> 1177\u001b[0;31m         return self._input_request(\n\u001b[0m\u001b[1;32m   1178\u001b[0m             \u001b[0mstr\u001b[0m\u001b[0;34m(\u001b[0m\u001b[0mprompt\u001b[0m\u001b[0;34m)\u001b[0m\u001b[0;34m,\u001b[0m\u001b[0;34m\u001b[0m\u001b[0;34m\u001b[0m\u001b[0m\n\u001b[1;32m   1179\u001b[0m             \u001b[0mself\u001b[0m\u001b[0;34m.\u001b[0m\u001b[0m_parent_ident\u001b[0m\u001b[0;34m[\u001b[0m\u001b[0;34m\"shell\"\u001b[0m\u001b[0;34m]\u001b[0m\u001b[0;34m,\u001b[0m\u001b[0;34m\u001b[0m\u001b[0;34m\u001b[0m\u001b[0m\n",
            "\u001b[0;32m/usr/local/lib/python3.12/dist-packages/ipykernel/kernelbase.py\u001b[0m in \u001b[0;36m_input_request\u001b[0;34m(self, prompt, ident, parent, password)\u001b[0m\n\u001b[1;32m   1217\u001b[0m             \u001b[0;32mexcept\u001b[0m \u001b[0mKeyboardInterrupt\u001b[0m\u001b[0;34m:\u001b[0m\u001b[0;34m\u001b[0m\u001b[0;34m\u001b[0m\u001b[0m\n\u001b[1;32m   1218\u001b[0m                 \u001b[0;31m# re-raise KeyboardInterrupt, to truncate traceback\u001b[0m\u001b[0;34m\u001b[0m\u001b[0;34m\u001b[0m\u001b[0m\n\u001b[0;32m-> 1219\u001b[0;31m                 \u001b[0;32mraise\u001b[0m \u001b[0mKeyboardInterrupt\u001b[0m\u001b[0;34m(\u001b[0m\u001b[0;34m\"Interrupted by user\"\u001b[0m\u001b[0;34m)\u001b[0m \u001b[0;32mfrom\u001b[0m \u001b[0;32mNone\u001b[0m\u001b[0;34m\u001b[0m\u001b[0;34m\u001b[0m\u001b[0m\n\u001b[0m\u001b[1;32m   1220\u001b[0m             \u001b[0;32mexcept\u001b[0m \u001b[0mException\u001b[0m\u001b[0;34m:\u001b[0m\u001b[0;34m\u001b[0m\u001b[0;34m\u001b[0m\u001b[0m\n\u001b[1;32m   1221\u001b[0m                 \u001b[0mself\u001b[0m\u001b[0;34m.\u001b[0m\u001b[0mlog\u001b[0m\u001b[0;34m.\u001b[0m\u001b[0mwarning\u001b[0m\u001b[0;34m(\u001b[0m\u001b[0;34m\"Invalid Message:\"\u001b[0m\u001b[0;34m,\u001b[0m \u001b[0mexc_info\u001b[0m\u001b[0;34m=\u001b[0m\u001b[0;32mTrue\u001b[0m\u001b[0;34m)\u001b[0m\u001b[0;34m\u001b[0m\u001b[0;34m\u001b[0m\u001b[0m\n",
            "\u001b[0;31mKeyboardInterrupt\u001b[0m: Interrupted by user"
          ]
        }
      ]
    },
    {
      "cell_type": "markdown",
      "source": [
        "5. Peça um número ao usuário e informe se ele é par ou ímpar."
      ],
      "metadata": {
        "id": "F_Iw71r_2s15"
      }
    },
    {
      "cell_type": "code",
      "source": [
        "numero = float(input(\"Digite um número: \"))\n",
        "\n",
        "if numero%2 == 0:\n",
        "  print(f\"par\")\n",
        "else:\n",
        "  print(\"ímpar\")"
      ],
      "metadata": {
        "id": "5Z8oPa5F2vy4",
        "colab": {
          "base_uri": "https://localhost:8080/"
        },
        "outputId": "a12731a1-7deb-4706-fc3e-9678ac0d16f1"
      },
      "execution_count": null,
      "outputs": [
        {
          "output_type": "stream",
          "name": "stdout",
          "text": [
            "Digite um número: 10\n",
            "par\n"
          ]
        }
      ]
    },
    {
      "cell_type": "markdown",
      "source": [
        "6. Crie um programa que simule um sistema de login. Solicite um nome de usuário e senha e verifique se as credenciais estão corretas."
      ],
      "metadata": {
        "id": "DFNgunN92v_w"
      }
    },
    {
      "cell_type": "code",
      "source": [
        "usuario = input(\"Digite seu usuário: \")\n",
        "senha = input(\"Digite sua senha: \")\n",
        "\n",
        "usuario_conf = (\"engelandressa\")\n",
        "senha_conf  = 1234\n",
        "\n",
        "if usuario == usuario_conf:\n",
        "  print(\"Usuário correto!\")\n",
        "else:\n",
        "  print(\"Usuário incoreto!\")\n",
        "\n",
        "if senha == senha_conf:\n",
        "  print(\"Senha correta!\")\n",
        "else:\n",
        "  print(\"Senha incoreta!\")\n"
      ],
      "metadata": {
        "colab": {
          "base_uri": "https://localhost:8080/"
        },
        "id": "37h5yHw8ek2r",
        "outputId": "83bbe6aa-44a5-4fbb-ee3b-7cb5df8f6500"
      },
      "execution_count": null,
      "outputs": [
        {
          "output_type": "stream",
          "name": "stdout",
          "text": [
            "Digite seu usuário: engelandressa\n",
            "Digite sua senha: 1234\n",
            "Usuário correto!\n",
            "Senha incoreta!\n"
          ]
        }
      ]
    },
    {
      "cell_type": "code",
      "source": [
        "print(\"Vamos cadastrar seu usuário!\")\n",
        "\n",
        "usuario = input(\"Digite seu usuário: \")\n",
        "senha = input(\"Digite sua senha: \")\n",
        "\n",
        "usuario_conf = input(\"Confirme seu usuário: \")\n",
        "senha_conf  = input(\"Confirme sua senha: \")\n",
        "\n",
        "if usuario == usuario_conf:\n",
        "  print(\"Usuário correto!\")\n",
        "else:\n",
        "  print(\"Usuário incoreto!\")\n",
        "\n",
        "if senha == senha_conf:\n",
        "  print(\"Senha correta!\")\n",
        "else:\n",
        "  print(\"Senha incoreta!\")\n",
        "\n"
      ],
      "metadata": {
        "id": "R6CD4t7z2wsB",
        "colab": {
          "base_uri": "https://localhost:8080/"
        },
        "outputId": "e3135fce-7454-4ace-fc96-5ecaa586a2da"
      },
      "execution_count": null,
      "outputs": [
        {
          "output_type": "stream",
          "name": "stdout",
          "text": [
            "Vamos cadastrar seu usuário!\n",
            "Digite seu usuário: 123\n",
            "Digite sua senha: 123\n",
            "Confirme seu usuário: 125\n",
            "Confirme sua senha: 125\n",
            "Usuário incoreto!\n",
            "Senha incoreta!\n"
          ]
        }
      ]
    },
    {
      "cell_type": "markdown",
      "source": [
        "7. Receba a nota de um aluno e classifique-a como A (90-100), B (80-89), C (70-79), D (60-69), ou F (menos de 60)."
      ],
      "metadata": {
        "id": "2_HmOcaA2w9Y"
      }
    },
    {
      "cell_type": "code",
      "source": [
        "nota = float(input(\"Digite sua nota: \"))\n",
        "\n",
        "if nota >= 90:\n",
        "  print(\"A\")\n",
        "elif nota >= 80:\n",
        "  print(\"B\")\n",
        "elif nota >= 70:\n",
        "  print(\"C\")\n",
        "elif nota >= 60:\n",
        "  print(\"D\")\n",
        "else:\n",
        "  print(\"F\")"
      ],
      "metadata": {
        "id": "DhcmFoVE2zf4",
        "colab": {
          "base_uri": "https://localhost:8080/"
        },
        "outputId": "df4409c2-f1cb-4f77-a619-bb69facf5475"
      },
      "execution_count": null,
      "outputs": [
        {
          "output_type": "stream",
          "name": "stdout",
          "text": [
            "Digite sua nota: 90\n",
            "A\n"
          ]
        }
      ]
    },
    {
      "cell_type": "markdown",
      "source": [
        "8. Peça ao usuário seu peso e altura, calcule o Índice de Massa Corporal (IMC) e classifique-o como \"Abaixo do peso\", \"Peso normal\", \"Sobrepeso\" ou \"Obesidade\"."
      ],
      "metadata": {
        "id": "wbhG1FV-2z7R"
      }
    },
    {
      "cell_type": "code",
      "source": [
        "print(\"Vamos calcular seu IMC\")\n",
        "\n",
        "altura = float(input(\"Digite a sua altura: \"))\n",
        "peso = float(input(\"Digite seu peso: \"))\n",
        "imc = peso/(altura*altura)\n",
        "imc_formatado = f\"{imc:.2f}\"\n",
        "\n",
        "print(f\"Seu IMC é de {imc_formatado}\")\n",
        "\n",
        "#IMC\n",
        "\n",
        "if imc > 29.9:\n",
        "    print(\"Obesidade!\")\n",
        "elif imc >= 24.9:\n",
        "    print(\"Sobrepeso!\")\n",
        "elif imc >= 18.5:\n",
        "    print(\"Peso normal!\")\n",
        "else:\n",
        "    print(\"Abaixo do peso!\")"
      ],
      "metadata": {
        "id": "98FTbcbY22GJ",
        "colab": {
          "base_uri": "https://localhost:8080/"
        },
        "outputId": "64bb615d-9320-4886-9331-24850650429e"
      },
      "execution_count": null,
      "outputs": [
        {
          "output_type": "stream",
          "name": "stdout",
          "text": [
            "Vamos calcular seu IMC\n",
            "Digite a sua altura: 1.56\n",
            "Digite seu peso: 45\n",
            "Seu IMC é de 18.49\n",
            "Abaixo do peso!\n"
          ]
        }
      ]
    },
    {
      "cell_type": "markdown",
      "source": [
        "9. Solicite o preço de um produto e aplique um desconto de 10% se o preço for maior que R$ 100. Exiba o valor final."
      ],
      "metadata": {
        "id": "vCcoWuwT21jY"
      }
    },
    {
      "cell_type": "code",
      "source": [
        "produto = float(input(\"Digite o preço do produto: \"))\n",
        "\n",
        "if produto >= 100:\n",
        "  print(f\"Produto com desconto de 10%: {produto-(produto*(10/100)):.2f}\")\n",
        "else:\n",
        "  print(\"Produto sem desconto!\")"
      ],
      "metadata": {
        "id": "gx1yFvfO28_Y",
        "colab": {
          "base_uri": "https://localhost:8080/"
        },
        "outputId": "5198e842-2cc0-49cc-bb25-28350372e423"
      },
      "execution_count": null,
      "outputs": [
        {
          "output_type": "stream",
          "name": "stdout",
          "text": [
            "Digite o preço do produto: 150\n",
            "Produto com desconto de 10%: 135.00\n"
          ]
        }
      ]
    },
    {
      "cell_type": "markdown",
      "source": [
        "10. Desenvolva um programa que permita ao usuário escolher uma operação (saque, depósito) e simule o comportamento de um caixa eletrônico com validações básicas (ex.: saldo insuficiente para saque)."
      ],
      "metadata": {
        "id": "9qSmRzO729Ro"
      }
    },
    {
      "cell_type": "code",
      "source": [],
      "metadata": {
        "id": "NnEZuwYT2_7Y"
      },
      "execution_count": null,
      "outputs": []
    },
    {
      "cell_type": "markdown",
      "source": [
        "11. Faça um programa que leia a idade e a categoria de um jogador de futebol (juvenil, adulto, veterano) e calcule a sua classificação no time."
      ],
      "metadata": {
        "id": "hG5PRSUM3APa"
      }
    },
    {
      "cell_type": "code",
      "source": [],
      "metadata": {
        "id": "RB8a-A4ijIIn"
      },
      "execution_count": null,
      "outputs": []
    }
  ]
}