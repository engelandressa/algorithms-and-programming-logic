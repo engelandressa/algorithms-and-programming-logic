{
  "nbformat": 4,
  "nbformat_minor": 0,
  "metadata": {
    "colab": {
      "provenance": []
    },
    "kernelspec": {
      "name": "python3",
      "display_name": "Python 3"
    },
    "language_info": {
      "name": "python"
    }
  },
  "cells": [
    {
      "cell_type": "markdown",
      "source": [
        "1. Receba dois números do usuário e mostre qual deles é o maior."
      ],
      "metadata": {
        "id": "6K00Odzs2C30"
      }
    },
    {
      "cell_type": "code",
      "source": [
        "numero_1 = float(input(\"Digite o número 1: \"))\n",
        "numero_2 = float(input(\"Digite o número 2: \"))\n",
        "\n",
        "if numero_1 > numero_2:\n",
        "  print(f\"O {numero_1} é o maior!\")\n",
        "elif numero_2 > numero_1:\n",
        "  print(f\"O {numero_2} é o maior!\")"
      ],
      "metadata": {
        "id": "kvCGOTNK2ERk",
        "colab": {
          "base_uri": "https://localhost:8080/"
        },
        "outputId": "071d81f4-4f8a-4c34-bfac-17b682fd290c"
      },
      "execution_count": 3,
      "outputs": [
        {
          "output_type": "stream",
          "name": "stdout",
          "text": [
            "Digite o número 1: 12\n",
            "Digite o número 2: 10\n",
            "O 12.0 é o maior!\n"
          ]
        }
      ]
    },
    {
      "cell_type": "markdown",
      "source": [
        "2. Solicite a idade do usuário e informe se ele é menor de idade, maior de idade ou idoso (considerando 18 e 65 anos como limites)."
      ],
      "metadata": {
        "id": "IpIv6SRI2Fbz"
      }
    },
    {
      "cell_type": "code",
      "source": [
        "idade = int(input(\"Digite sua idade: \"))\n",
        "\n",
        "if idade < 18:\n",
        "  print(f\"Você é menor de idade!\")\n",
        "elif idade >= 18 < 65:\n",
        "  print(f\"Você é maior de idade!\")\n",
        "else:\n",
        "  print(f\"Você é idoso!\")"
      ],
      "metadata": {
        "id": "CtKXO4U02YXx",
        "colab": {
          "base_uri": "https://localhost:8080/"
        },
        "outputId": "d857a1ff-f4f8-47af-e442-258c67857662"
      },
      "execution_count": 32,
      "outputs": [
        {
          "output_type": "stream",
          "name": "stdout",
          "text": [
            "Digite sua idade: 28\n",
            "Você é maior de idade!\n"
          ]
        }
      ]
    },
    {
      "cell_type": "markdown",
      "source": [
        "3. Peça ao usuário para inserir a idade de uma pessoa e classifique-a como \"Criança\" (0-12 anos), \"Adolescente\" (13-17 anos), \"Adulto\" (18-64 anos) ou \"Idoso\" (65+ anos)."
      ],
      "metadata": {
        "id": "6kH_-5aw2YtK"
      }
    },
    {
      "cell_type": "code",
      "source": [],
      "metadata": {
        "id": "zyHJyIug2qcR"
      },
      "execution_count": null,
      "outputs": []
    },
    {
      "cell_type": "markdown",
      "source": [
        "5. Crie uma calculadora simples que permita ao usuário escolher uma operação (adição, subtração, multiplicação ou divisão) e dois números, e então exiba o resultado."
      ],
      "metadata": {
        "id": "2t8K0ugq2qsB"
      }
    },
    {
      "cell_type": "code",
      "source": [],
      "metadata": {
        "id": "6TqNywKO2shA"
      },
      "execution_count": null,
      "outputs": []
    },
    {
      "cell_type": "markdown",
      "source": [
        "6. Peça um número ao usuário e informe se ele é par ou ímpar."
      ],
      "metadata": {
        "id": "F_Iw71r_2s15"
      }
    },
    {
      "cell_type": "code",
      "source": [],
      "metadata": {
        "id": "5Z8oPa5F2vy4"
      },
      "execution_count": null,
      "outputs": []
    },
    {
      "cell_type": "markdown",
      "source": [
        "7. Crie um programa que simule um sistema de login. Solicite um nome de usuário e senha e verifique se as credenciais estão corretas."
      ],
      "metadata": {
        "id": "DFNgunN92v_w"
      }
    },
    {
      "cell_type": "code",
      "source": [],
      "metadata": {
        "id": "R6CD4t7z2wsB"
      },
      "execution_count": null,
      "outputs": []
    },
    {
      "cell_type": "markdown",
      "source": [
        "8. Receba a nota de um aluno e classifique-a como A (90-100), B (80-89), C (70-79), D (60-69), ou F (menos de 60)."
      ],
      "metadata": {
        "id": "2_HmOcaA2w9Y"
      }
    },
    {
      "cell_type": "code",
      "source": [],
      "metadata": {
        "id": "DhcmFoVE2zf4"
      },
      "execution_count": null,
      "outputs": []
    },
    {
      "cell_type": "markdown",
      "source": [
        "9. Peça ao usuário seu peso e altura, calcule o Índice de Massa Corporal (IMC) e classifique-o como \"Abaixo do peso\", \"Peso normal\", \"Sobrepeso\" ou \"Obesidade\"."
      ],
      "metadata": {
        "id": "wbhG1FV-2z7R"
      }
    },
    {
      "cell_type": "code",
      "source": [],
      "metadata": {
        "id": "98FTbcbY22GJ"
      },
      "execution_count": null,
      "outputs": []
    },
    {
      "cell_type": "markdown",
      "source": [
        "10. Solicite o preço de um produto e aplique um desconto de 10% se o preço for maior que R$ 100. Exiba o valor final."
      ],
      "metadata": {
        "id": "vCcoWuwT21jY"
      }
    },
    {
      "cell_type": "code",
      "source": [],
      "metadata": {
        "id": "gx1yFvfO28_Y"
      },
      "execution_count": null,
      "outputs": []
    },
    {
      "cell_type": "markdown",
      "source": [
        "11. Desenvolva um programa que permita ao usuário escolher uma operação (saque, depósito) e simule o comportamento de um caixa eletrônico com validações básicas (ex.: saldo insuficiente para saque)."
      ],
      "metadata": {
        "id": "9qSmRzO729Ro"
      }
    },
    {
      "cell_type": "code",
      "source": [],
      "metadata": {
        "id": "NnEZuwYT2_7Y"
      },
      "execution_count": null,
      "outputs": []
    },
    {
      "cell_type": "markdown",
      "source": [
        "12. Faça um programa que leia a idade e a categoria de um jogador de futebol (juvenil, adulto, veterano) e calcule a sua classificação no time."
      ],
      "metadata": {
        "id": "hG5PRSUM3APa"
      }
    }
  ]
}