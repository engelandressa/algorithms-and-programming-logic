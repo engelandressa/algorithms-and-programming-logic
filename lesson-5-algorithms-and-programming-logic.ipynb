{
  "nbformat": 4,
  "nbformat_minor": 0,
  "metadata": {
    "colab": {
      "provenance": []
    },
    "kernelspec": {
      "name": "python3",
      "display_name": "Python 3"
    },
    "language_info": {
      "name": "python"
    }
  },
  "cells": [
    {
      "cell_type": "markdown",
      "source": [
        "# **Lista de Exercícios com while**"
      ],
      "metadata": {
        "id": "n_FF8psUulCa"
      }
    },
    {
      "cell_type": "markdown",
      "source": [
        "1. **Soma de Números**: Crie um programa que solicite ao usuário para inserir números e some esses números até que o usuário insira zero. Quando zero for inserido, o programa deve imprimir a soma total."
      ],
      "metadata": {
        "id": "1mGSufCruqVU"
      }
    },
    {
      "cell_type": "code",
      "source": [
        "num = 1\n",
        "soma = 0\n",
        "while num != 0:\n",
        "  num = int(input(\"Digite um número: \"))\n",
        "  soma += num\n",
        "  print(f\"A soma é :{soma}\")\n"
      ],
      "metadata": {
        "colab": {
          "base_uri": "https://localhost:8080/"
        },
        "id": "dImeFgDQvY1o",
        "outputId": "d9631f08-c8a9-4af3-c8f8-21f902b61beb"
      },
      "execution_count": null,
      "outputs": [
        {
          "output_type": "stream",
          "name": "stdout",
          "text": [
            "Digite um número: 2\n",
            "A soma é :2\n",
            "Digite um número: 3\n",
            "A soma é :5\n",
            "Digite um número: 0\n",
            "A soma é :5\n"
          ]
        }
      ]
    },
    {
      "cell_type": "markdown",
      "source": [
        "2. **Encontrar o Máximo**: Crie um programa que peça ao usuário para inserir números e encontre o maior número inserido. O programa deve continuar pedindo números até que o usuário digite \"sair\"."
      ],
      "metadata": {
        "id": "BqlEZqZeuwEw"
      }
    },
    {
      "cell_type": "code",
      "source": [
        "print(\"Digite números e eu vou encontrar o maior deles.\")\n",
        "print(\"Digite 'sair' para encerrar o programa.\")\n",
        "\n",
        "num = 0\n",
        "\n",
        "while True:\n",
        "  entrada = input(\"Digite um número: \")\n",
        "  if entrada.lower() == \"sair\":\n",
        "    break\n",
        "  converter = int(entrada)\n",
        "  if num is None or converter > num:\n",
        "    num = converter\n",
        "if num is not None:\n",
        "    print(f\"O maior número digitado foi: {num}\")\n",
        "else:\n",
        "    print(\"Nenhum número foi digitado.\")"
      ],
      "metadata": {
        "id": "Gl1NZsPX3_Rw",
        "colab": {
          "base_uri": "https://localhost:8080/"
        },
        "outputId": "d8dd4f37-f4e7-420e-86b7-7a641b58221d"
      },
      "execution_count": null,
      "outputs": [
        {
          "output_type": "stream",
          "name": "stdout",
          "text": [
            "Digite números e eu vou encontrar o maior deles.\n",
            "Digite 'sair' para encerrar o programa.\n",
            "Digite um número: 100\n",
            "Digite um número: 1000\n",
            "Digite um número: -100\n",
            "Digite um número: -1000\n",
            "Digite um número: 10000\n",
            "Digite um número: sair\n",
            "O maior número digitado foi: 10000\n"
          ]
        }
      ]
    },
    {
      "cell_type": "markdown",
      "source": [
        "3. **Quantidade de valores**: Conte quantos valores positivos, negativos e zeros foram digitados."
      ],
      "metadata": {
        "id": "nPQQLCiguzP6"
      }
    },
    {
      "cell_type": "code",
      "source": [],
      "metadata": {
        "id": "m8VAEXfj3-0m"
      },
      "execution_count": null,
      "outputs": []
    },
    {
      "cell_type": "markdown",
      "source": [
        "4. **Conversão de Temperatura**: Faça um programa que converta uma temperatura de Celsius para Fahrenheit. Continue pedindo ao usuário para inserir uma nova temperatura em Celsius até que ele digite \"sair\"."
      ],
      "metadata": {
        "id": "ZW2jmgoCu0eo"
      }
    },
    {
      "cell_type": "code",
      "source": [
        "print(\"Converta Celsius para Fahrenheit\")\n",
        "\n",
        "valor = input(\"Digite o valor em Celsius: \")\n",
        "\n",
        "while True:\n",
        "  if valor.lower() == \"sair\":\n",
        "    break\n",
        "  valor = float(valor)\n",
        "  valor = (valor*1.8) + 32\n",
        "  print(f\"Valor convertido em Fahrenheit: {valor:.0f}°F\")\n",
        "  valor = input(\"Digite o valor em Celsius: \")\n",
        "\n"
      ],
      "metadata": {
        "id": "yCtySPY93-fW",
        "colab": {
          "base_uri": "https://localhost:8080/"
        },
        "outputId": "1ca005ff-cb30-4925-a8b0-f3f70640b704"
      },
      "execution_count": null,
      "outputs": [
        {
          "name": "stdout",
          "output_type": "stream",
          "text": [
            "Converta Celsius para Fahrenheit\n",
            "Digite o valor em Celsius: 20\n",
            "Valor convertido em Fahrenheit: 68°F\n",
            "Digite o valor em Celsius: 35\n",
            "Valor convertido em Fahrenheit: 95°F\n",
            "Digite o valor em Celsius: 10\n",
            "Valor convertido em Fahrenheit: 50°F\n",
            "Digite o valor em Celsius: 0\n",
            "Valor convertido em Fahrenheit: 32°F\n",
            "Digite o valor em Celsius: sair\n"
          ]
        }
      ]
    },
    {
      "cell_type": "markdown",
      "source": [
        "5. **Simulador de Caixa Eletrônico**: Crie um programa que simule um caixa eletrônico, que continue pedindo ao usuário para inserir um valor de saque até que o saldo da conta seja zero ou negativo."
      ],
      "metadata": {
        "id": "Gg-W3YChu4N_"
      }
    },
    {
      "cell_type": "code",
      "source": [],
      "metadata": {
        "id": "5jyL8VCQ3-AQ"
      },
      "execution_count": null,
      "outputs": []
    },
    {
      "cell_type": "markdown",
      "source": [
        "6. **Média de Notas**: Escreva um programa que continue pedindo ao usuário para inserir notas (0 a 10) e calcule a média dessas notas. O programa deve parar quando o usuário digitar uma nota negativa."
      ],
      "metadata": {
        "id": "LkcnFiZHu5nh"
      }
    },
    {
      "cell_type": "code",
      "source": [
        "media = 0\n",
        "qtd = 0\n",
        "nota = int(input(\"Digite a nota: \"))\n",
        "\n",
        "while nota >= 0:\n",
        "  if nota <= 10:\n",
        "    media += nota\n",
        "    qtd += 1\n",
        "    print(f\"{media/qtd}\")\n",
        "  else:\n",
        "    print(\"Nota inválida! Digite entre 0 e 10.\")\n",
        "  nota = int(input(\"Digite a nota: \"))\n",
        "\n",
        "\n",
        "if qtd > 0:\n",
        "    print(f\"Média: {media/qtd}\")\n",
        "else:\n",
        "    print(\"Nenhuma nota válida foi inserida.\")\n",
        "\n"
      ],
      "metadata": {
        "id": "sOAl28Zk39oe",
        "colab": {
          "base_uri": "https://localhost:8080/"
        },
        "outputId": "f6f87feb-f1d2-4b29-96e6-a634d3c93191"
      },
      "execution_count": null,
      "outputs": [
        {
          "output_type": "stream",
          "name": "stdout",
          "text": [
            "Digite a nota: 10\n",
            "10.0\n",
            "Digite a nota: 10\n",
            "10.0\n",
            "Digite a nota: 11\n",
            "Nota inválida! Digite entre 0 e 10.\n",
            "Digite a nota: 10\n",
            "10.0\n",
            "Digite a nota: 10\n",
            "10.0\n",
            "Digite a nota: -1\n",
            "Média: 10.0\n"
          ]
        }
      ]
    },
    {
      "cell_type": "code",
      "source": [
        "#3 provas: p1 peso 1, p2 peso 3 e p3 peso 8\n",
        "#media: m = 1xp1 + 3xp2 + 8xp3 /12\n",
        "\n",
        "\n"
      ],
      "metadata": {
        "id": "F55Jw93elwpU"
      },
      "execution_count": null,
      "outputs": []
    },
    {
      "cell_type": "markdown",
      "source": [
        "7. **Conversor de Moeda**: Crie um programa que converta uma quantia em dólares para euros. Continue pedindo ao usuário quantias em dólares para converter até que ele insira \"0\"."
      ],
      "metadata": {
        "id": "UzD_nsqfu7kV"
      }
    },
    {
      "cell_type": "code",
      "source": [
        "print(\"Converta Dólar para Euro\")\n",
        "\n",
        "valor = float(input(\"Digite o valor em Dólares: \"))\n",
        "\n",
        "while True:\n",
        "  if valor == 0:\n",
        "    break\n",
        "  valor *= 5.43\n",
        "  print(f\"Valor convertido em Dólar: ${valor:.2f}\")\n",
        "  valor = float(input(\"Digite o valor em Dólares: \"))\n",
        "\n"
      ],
      "metadata": {
        "id": "OwUy-9jZ39P0",
        "colab": {
          "base_uri": "https://localhost:8080/"
        },
        "outputId": "3e297bd5-fa37-4e0c-f766-28ad6b92ab74"
      },
      "execution_count": null,
      "outputs": [
        {
          "name": "stdout",
          "output_type": "stream",
          "text": [
            "Converta Dólar para Euro\n",
            "Digite o valor em Dólares: 100\n",
            "Valor convertido em Dólar: $543.00\n",
            "Digite o valor em Dólares: 250\n",
            "Valor convertido em Dólar: $1357.50\n",
            "Digite o valor em Dólares: 0\n"
          ]
        }
      ]
    },
    {
      "cell_type": "markdown",
      "source": [
        "8. **Controle de Estoque**: Faça um controle de estoque com menu de entrada, saída e exibição.\n"
      ],
      "metadata": {
        "id": "URJw46vHu8_N"
      }
    },
    {
      "cell_type": "code",
      "source": [],
      "metadata": {
        "id": "azVaYlmT39Au"
      },
      "execution_count": null,
      "outputs": []
    },
    {
      "cell_type": "markdown",
      "source": [
        "9. **Simulação de Dados de Sensor**: Crie um programa que simule a leitura de dados de um sensor e continue capturando dados até que um valor fora do intervalo de operação seja detectado (por exemplo, fora de 0 a 100)."
      ],
      "metadata": {
        "id": "P2k-o_lqu-pc"
      }
    },
    {
      "cell_type": "code",
      "source": [],
      "metadata": {
        "id": "aGSKUYKO38uI"
      },
      "execution_count": null,
      "outputs": []
    },
    {
      "cell_type": "markdown",
      "source": [
        "10. **Controle de Votação**: Faça um programa que permita cadastrar votos para 3 candidatos. Exibe contagem ao final quando for digitado \"fim\"."
      ],
      "metadata": {
        "id": "NZsd4_27vAUl"
      }
    },
    {
      "cell_type": "code",
      "source": [],
      "metadata": {
        "id": "2hQxnGHP38PL"
      },
      "execution_count": null,
      "outputs": []
    },
    {
      "cell_type": "markdown",
      "source": [
        "11. **Simulador de Caixa Registradora**: O usuário digita o preço e a quantidade de produtos até digitar “sair”. O Sistema mostra a quantidade de produtos e o valor final da compra.\n"
      ],
      "metadata": {
        "id": "iQQ5jxvkvBpD"
      }
    },
    {
      "cell_type": "code",
      "source": [],
      "metadata": {
        "id": "ePmC8nvD37hQ"
      },
      "execution_count": null,
      "outputs": []
    },
    {
      "cell_type": "markdown",
      "source": [
        "12. **Sistema de Vendas com Estoque Reduzido**: O Sistema define um estoque inicial de produtos e a cada venda, retira quantidade do estoque. O sistema encerra quando não permite vender mais do que o disponível."
      ],
      "metadata": {
        "id": "X_37p1kHvC3z"
      }
    },
    {
      "cell_type": "code",
      "source": [],
      "metadata": {
        "id": "Hx-_8jA74ACF"
      },
      "execution_count": null,
      "outputs": []
    }
  ]
}