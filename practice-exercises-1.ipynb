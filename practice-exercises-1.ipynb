{
  "nbformat": 4,
  "nbformat_minor": 0,
  "metadata": {
    "colab": {
      "provenance": []
    },
    "kernelspec": {
      "name": "python3",
      "display_name": "Python 3"
    },
    "language_info": {
      "name": "python"
    }
  },
  "cells": [
    {
      "cell_type": "markdown",
      "source": [
        "**Exercícios Simples com if / if-else**"
      ],
      "metadata": {
        "id": "MDs7ypdxgvmy"
      }
    },
    {
      "cell_type": "markdown",
      "source": [
        "1. Receba dois números e mostre qual é o maior."
      ],
      "metadata": {
        "id": "gnEz-A-xgz4o"
      }
    },
    {
      "cell_type": "code",
      "execution_count": null,
      "metadata": {
        "colab": {
          "base_uri": "https://localhost:8080/"
        },
        "id": "Ocfujm2rgpjr",
        "outputId": "1f45e107-2b21-41ea-8bf1-8b62abb2ae46"
      },
      "outputs": [
        {
          "output_type": "stream",
          "name": "stdout",
          "text": [
            "Digite um número: -10\n",
            "Digite outro número: 10\n",
            "O número 10.0 é o maior!\n"
          ]
        }
      ],
      "source": [
        "num1 = float(input(\"Digite um número: \"))\n",
        "num2 = float(input(\"Digite outro número: \"))\n",
        "\n",
        "if num1 > num2:\n",
        "  print(f\"O número {num1} é o maior!\")\n",
        "elif num2 > num1:\n",
        "  print(f\"O número {num2} é o maior!\")\n",
        "else:\n",
        "  print(f\"Os números são iguais!\")"
      ]
    },
    {
      "cell_type": "markdown",
      "source": [
        "2. Solicite a idade do usuário e informe se é maior de idade."
      ],
      "metadata": {
        "id": "A7hIOLwSg5Eo"
      }
    },
    {
      "cell_type": "code",
      "source": [
        "idade = int(input(\"Digite sua idade: \"))\n",
        "\n",
        "if idade >= 65:\n",
        "  print(f\"Você é idoso!\")\n",
        "elif idade >= 18:\n",
        "  print(f\"Você é maior de idade!\")\n",
        "else:\n",
        "  print(f\"Você é menor de idade!\")"
      ],
      "metadata": {
        "colab": {
          "base_uri": "https://localhost:8080/"
        },
        "id": "fwUdYEibg6n1",
        "outputId": "9874c8e2-30c3-4d4f-acdd-cfffb2f93d3b"
      },
      "execution_count": null,
      "outputs": [
        {
          "output_type": "stream",
          "name": "stdout",
          "text": [
            "Digite sua idade: 18\n",
            "Você é maior de idade!\n"
          ]
        }
      ]
    },
    {
      "cell_type": "code",
      "source": [
        "idade = int(input(\"Digite sua idade: \"))\n",
        "\n",
        "if idade >= 18:\n",
        "  print(f\"Você é maior de idade!\")\n",
        "else:\n",
        "  print(f\"Você é menor de idade!\")"
      ],
      "metadata": {
        "colab": {
          "base_uri": "https://localhost:8080/"
        },
        "id": "EkC4cFx9q3wK",
        "outputId": "1d453980-d6c6-4246-c908-6bbab8415e21"
      },
      "execution_count": null,
      "outputs": [
        {
          "output_type": "stream",
          "name": "stdout",
          "text": [
            "Digite sua idade: 18\n",
            "Você é maior de idade!\n"
          ]
        }
      ]
    },
    {
      "cell_type": "markdown",
      "source": [
        "3. Verifique se um número é positivo, negativo ou zero."
      ],
      "metadata": {
        "id": "LSRo1Bptg6_F"
      }
    },
    {
      "cell_type": "code",
      "source": [
        "numero = float(input(\"Digite um número: \"))\n",
        "\n",
        "if numero == 0:\n",
        "  print(f\"O número {numero:.0f} é zero\")\n",
        "elif numero > 0:\n",
        "  print(f\"O número {numero:.0f} é positivo\")\n",
        "else:\n",
        "  print(f\"O número {numero:.0f} é negativo\")"
      ],
      "metadata": {
        "colab": {
          "base_uri": "https://localhost:8080/"
        },
        "id": "y2kZVqQPg8Mv",
        "outputId": "6e6cf22b-5e82-4b97-b8b4-d963d509c668"
      },
      "execution_count": null,
      "outputs": [
        {
          "output_type": "stream",
          "name": "stdout",
          "text": [
            "Digite um número: 10\n",
            "O número 10 é positivo\n"
          ]
        }
      ]
    },
    {
      "cell_type": "markdown",
      "source": [
        "4. Peça um número e informe se é par ou ímpar."
      ],
      "metadata": {
        "id": "w5ktUiwsg8ed"
      }
    },
    {
      "cell_type": "code",
      "source": [
        "numero = float(input(\"Digite um número: \"))\n",
        "\n",
        "if numero%2 == 0:\n",
        "  print(f\"O número {numero:.0f} é par\")\n",
        "else:\n",
        "  print(f\"O número {numero:.0f} é ímpar\")"
      ],
      "metadata": {
        "colab": {
          "base_uri": "https://localhost:8080/"
        },
        "id": "GMEHy4ipg99F",
        "outputId": "34d45cee-f170-468e-ec43-bfa5de43df5c"
      },
      "execution_count": null,
      "outputs": [
        {
          "output_type": "stream",
          "name": "stdout",
          "text": [
            "Digite um número: 10\n",
            "O número 10 é par\n"
          ]
        }
      ]
    },
    {
      "cell_type": "markdown",
      "source": [
        "5. Pergunte a altura e informe se a pessoa pode entrar no brinquedo (mínimo 1,50m)."
      ],
      "metadata": {
        "id": "nXlipTcRg-Li"
      }
    },
    {
      "cell_type": "code",
      "source": [
        "altura = float(input(\"Informe sua altura em cm: \"))\n",
        "\n",
        "if altura >= 150:\n",
        "  print(\"Pode entrar no brinquedo\")\n",
        "else:\n",
        "    print(\"Não pode entrar no brinquedo\")\n"
      ],
      "metadata": {
        "colab": {
          "base_uri": "https://localhost:8080/"
        },
        "id": "8e7_ujtbg_et",
        "outputId": "0a2924ca-7087-47e8-e127-f438b724386f"
      },
      "execution_count": null,
      "outputs": [
        {
          "output_type": "stream",
          "name": "stdout",
          "text": [
            "Informe sua altura em cm: 140\n",
            "Não pode entrar no brinquedo\n"
          ]
        }
      ]
    },
    {
      "cell_type": "markdown",
      "source": [
        "**Exercícios com elif**"
      ],
      "metadata": {
        "id": "CqZxeoalg_ua"
      }
    },
    {
      "cell_type": "markdown",
      "source": [
        "6. Classifique a nota de um aluno (A, B, C, D, F)."
      ],
      "metadata": {
        "id": "8s_bo9aRhBc3"
      }
    },
    {
      "cell_type": "code",
      "source": [
        "nota = float(input(\"Digite a nota do aluno:\"))\n",
        "\n",
        "if nota >= 8:\n",
        "  print(\"Nota A\")\n",
        "elif nota >= 6:\n",
        "  print(\"Nota B\")\n",
        "elif nota >= 4:\n",
        "  print(\"Nota C\")\n",
        "elif nota >= 2:\n",
        "  print(\"Nota D\")\n",
        "else:\n",
        "  print(\"Nota E\")"
      ],
      "metadata": {
        "colab": {
          "base_uri": "https://localhost:8080/"
        },
        "id": "0bfCujQhhD9Z",
        "outputId": "c6570e2e-7add-430c-d24d-ba72eed5ef60"
      },
      "execution_count": null,
      "outputs": [
        {
          "output_type": "stream",
          "name": "stdout",
          "text": [
            "Digite a nota do aluno:8\n",
            "Nota A\n"
          ]
        }
      ]
    },
    {
      "cell_type": "markdown",
      "source": [
        "7. Solicite a idade e classifique: criança, adolescente, adulto ou idoso."
      ],
      "metadata": {
        "id": "5ERuZEiOhEXH"
      }
    },
    {
      "cell_type": "code",
      "source": [
        "idade = int(input(\"Digite a idade: \"))\n",
        "\n",
        "if idade >= 65:\n",
        "  print(f\"Idoso!\")\n",
        "elif idade >= 18:\n",
        "  print(f\"Adulto!\")\n",
        "elif idade >= 13:\n",
        "  print(f\"Adolescente!\")\n",
        "else:\n",
        "  print(f\"Criança!\")"
      ],
      "metadata": {
        "colab": {
          "base_uri": "https://localhost:8080/"
        },
        "id": "e19AJ4-HhFvV",
        "outputId": "1f101807-6cfa-460a-9f13-3f1637cbf15d"
      },
      "execution_count": null,
      "outputs": [
        {
          "output_type": "stream",
          "name": "stdout",
          "text": [
            "Digite a idade: 18\n",
            "Adulto!\n"
          ]
        }
      ]
    },
    {
      "cell_type": "code",
      "source": [
        "idade = int(input(\"Digite a idade: \"))\n",
        "\n",
        "if idade >= 65:\n",
        "  print(f\"Idoso!\")\n",
        "elif idade >= 18:\n",
        "  print(f\"Adulto!\")\n",
        "elif idade >= 13:\n",
        "  print(f\"Adolescente!\")\n",
        "elif idade >= 3:\n",
        "  print(f\"Criança!\")\n",
        "else:\n",
        "  print(f\"Bebê!\")"
      ],
      "metadata": {
        "id": "fwIcT0X0XNng",
        "colab": {
          "base_uri": "https://localhost:8080/"
        },
        "outputId": "2c38c1d4-90ee-4d6b-d60f-2c16b11fa72c"
      },
      "execution_count": null,
      "outputs": [
        {
          "output_type": "stream",
          "name": "stdout",
          "text": [
            "Digite a idade: 28\n",
            "Adulto!\n"
          ]
        }
      ]
    },
    {
      "cell_type": "markdown",
      "source": [
        "8. Pergunte o mês (1-12) e mostre a estação correspondente."
      ],
      "metadata": {
        "id": "xXPRXyQYhGID"
      }
    },
    {
      "cell_type": "code",
      "source": [
        "print(\"Vamos descobrir a estação do ano\")\n",
        "print(\"Escolha uma estação:\")\n",
        "print(\"1: Janeiro\")\n",
        "print(\"2: Fevereiro\")\n",
        "print(\"3: Março\")\n",
        "print(\"4: Abril\")\n",
        "print(\"5: Maio\")\n",
        "print(\"6: Junho\")\n",
        "print(\"7: Julho\")\n",
        "print(\"8: Agosto\")\n",
        "print(\"9: Setembro\")\n",
        "print(\"10: Outubro\")\n",
        "print(\"11: Novembro\")\n",
        "print(\"12: Dezembro\")\n",
        "\n",
        "opcao = int(input(\"Digite o número da opção: \"))\n",
        "\n",
        "if opcao in (12, 1, 2):\n",
        "    print(\"Verão\")\n",
        "elif opcao in (3, 4, 5):\n",
        "    print(\"Outono\")\n",
        "elif opcao in (6, 7, 8):\n",
        "    print(\"Inverno\")\n",
        "elif opcao in (9, 10, 11):\n",
        "    print(\"Primavera\")\n",
        "else:\n",
        "    print(\"Opção inválida!\")"
      ],
      "metadata": {
        "colab": {
          "base_uri": "https://localhost:8080/"
        },
        "id": "-kzN0z1JhHMf",
        "outputId": "cf73298d-706e-49e2-9278-153c7c63ef4e"
      },
      "execution_count": null,
      "outputs": [
        {
          "output_type": "stream",
          "name": "stdout",
          "text": [
            "Vamos descobrir a estação do ano\n",
            "Escolha uma estação:\n",
            "1: Janeiro\n",
            "2: Fevereiro\n",
            "3: Março\n",
            "4: Abril\n",
            "5: Maio\n",
            "6: Junho\n",
            "7: Julho\n",
            "8: Agosto\n",
            "9: Setembro\n",
            "10: Outubro\n",
            "11: Novembro\n",
            "12: Dezembro\n",
            "Digite o número da opção: 3\n",
            "Outono\n"
          ]
        }
      ]
    },
    {
      "cell_type": "markdown",
      "source": [
        "9. Receba o peso e altura e calcule o IMC, mostrando a classificação."
      ],
      "metadata": {
        "id": "Tu2wHmyyhHkt"
      }
    },
    {
      "cell_type": "code",
      "source": [
        "print(\"Vamos calcular seu IMC\")\n",
        "\n",
        "altura = float(input(\"Digite a sua altura: \"))\n",
        "peso = float(input(\"Digite seu peso: \"))\n",
        "imc = peso/(altura*altura)\n",
        "imc_formatado = f\"{imc:.2f}\"\n",
        "\n",
        "print(f\"Seu IMC é de {imc_formatado}\")\n",
        "\n",
        "#IMC\n",
        "\n",
        "if imc > 29.9:\n",
        "    print(\"Obesidade!\")\n",
        "elif imc >= 24.9:\n",
        "    print(\"Sobrepeso!\")\n",
        "elif imc >= 18.5:\n",
        "    print(\"Peso normal!\")\n",
        "else:\n",
        "    print(\"Abaixo do peso!\")"
      ],
      "metadata": {
        "colab": {
          "base_uri": "https://localhost:8080/"
        },
        "id": "aHgjhExFhI3j",
        "outputId": "080ce9f5-9749-41d0-ae6e-b8540166e591"
      },
      "execution_count": null,
      "outputs": [
        {
          "output_type": "stream",
          "name": "stdout",
          "text": [
            "Vamos calcular seu IMC\n",
            "Digite a sua altura: 1.56\n",
            "Digite seu peso: 45\n",
            "Seu IMC é de 18.49\n",
            "Abaixo do peso!\n"
          ]
        }
      ]
    },
    {
      "cell_type": "markdown",
      "source": [
        "10. Solicite um número de 1 a 7 e mostre o dia da semana."
      ],
      "metadata": {
        "id": "5T4i9MUkhJHW"
      }
    },
    {
      "cell_type": "code",
      "source": [
        "numero = int(input(\"Digite um número inteiro de 1 a 7: \"))\n",
        "\n",
        "if numero == 7:\n",
        "  print(\"Sábado\")\n",
        "elif numero == 6:\n",
        "  print(\"Sexta-feira\")\n",
        "elif numero == 5:\n",
        "  print(\"Quinta-feira\")\n",
        "elif numero == 4:\n",
        "  print(\"Quarta-feira\")\n",
        "elif numero == 3:\n",
        "  print(\"Terça-feira\")\n",
        "elif numero == 2:\n",
        "  print(\"Segunda-feira\")\n",
        "elif numero == 1:\n",
        "  print(\"Domingo\")\n",
        "else:\n",
        "  print(\"Digite novamente\")"
      ],
      "metadata": {
        "colab": {
          "base_uri": "https://localhost:8080/"
        },
        "id": "nKJFNJe3hKjw",
        "outputId": "d95c2668-4289-4445-d19d-6c6c4ee7971d"
      },
      "execution_count": null,
      "outputs": [
        {
          "output_type": "stream",
          "name": "stdout",
          "text": [
            "Digite um número inteiro de 1 a 7: 4\n",
            "Quarta-feira\n"
          ]
        }
      ]
    },
    {
      "cell_type": "markdown",
      "source": [
        "**Exercícios com if aninhado**"
      ],
      "metadata": {
        "id": "pR496mjahK9V"
      }
    },
    {
      "cell_type": "markdown",
      "source": [
        "11. Sistema de login com usuário e senha."
      ],
      "metadata": {
        "id": "bsuOLeh8hMrn"
      }
    },
    {
      "cell_type": "code",
      "source": [
        "print(\"Login\")\n",
        "input(\"Digite seu usuário: \")\n",
        "print(\"Senha\")\n",
        "input(\"Digite sua senha: \")\n"
      ],
      "metadata": {
        "id": "Ct8O8uZthMcz",
        "colab": {
          "base_uri": "https://localhost:8080/",
          "height": 105
        },
        "outputId": "0e11c1d9-dbcb-45ce-9b19-f07f7ceb2212"
      },
      "execution_count": 8,
      "outputs": [
        {
          "name": "stdout",
          "output_type": "stream",
          "text": [
            "Login\n",
            "Digite seu usuário: 12\n",
            "Senha\n",
            "Digite sua senha: 232\n"
          ]
        },
        {
          "output_type": "execute_result",
          "data": {
            "text/plain": [
              "'232'"
            ],
            "application/vnd.google.colaboratory.intrinsic+json": {
              "type": "string"
            }
          },
          "metadata": {},
          "execution_count": 8
        }
      ]
    },
    {
      "cell_type": "markdown",
      "source": [
        "12. Aprovação de aluno considerando nota e presença."
      ],
      "metadata": {
        "id": "wRVNOIlUhPb-"
      }
    },
    {
      "cell_type": "code",
      "source": [
        "aluno = input(\"Digite o nome do aluno: \")\n",
        "nota = float(input(\"Digite a nota do aluno: \"))\n",
        "faltas = int(input(\"Digite a quantidade de faltas: \"))\n",
        "aulas = 100\n",
        "max_faltas = 25\n",
        "#O aluno tem que ter 75% de presença para ser aprovado.\n",
        "\n",
        "if nota <6:\n",
        "  print(\"Reprovado!\")\n",
        "\n",
        "elif nota >= 6:\n",
        "  if faltas >= 25:\n",
        "    print(\"Reprovado!\")\n",
        "  else:\n",
        "    print(\"Aprovado!\")\n",
        "\n",
        "else:\n",
        "  print(\"Erro!\")\n",
        "\n"
      ],
      "metadata": {
        "id": "ej9b218WhQkL",
        "colab": {
          "base_uri": "https://localhost:8080/"
        },
        "outputId": "5e287a9d-7c59-4321-99fd-0a4e9714d31f"
      },
      "execution_count": 7,
      "outputs": [
        {
          "output_type": "stream",
          "name": "stdout",
          "text": [
            "Digite o nome do aluno: Jane\n",
            "Digite a nota do aluno: 10\n",
            "Digite a quantidade de faltas: 25\n",
            "Reprovado!\n"
          ]
        }
      ]
    },
    {
      "cell_type": "markdown",
      "source": [
        "13. Desconto extra em compras altas se pagamento à vista."
      ],
      "metadata": {
        "id": "qL3_s-1nhRFb"
      }
    },
    {
      "cell_type": "code",
      "source": [
        "print(\"Compras a partir de R$1000 tem desconto de 5% à vista\")\n",
        "print(\"Compras no crédito à vista é sem juros e sem desconto\")\n",
        "print(\"Compras no crédito, em até 3x com juros de 3% por mês\")\n",
        "\n",
        "valor = float(input(\"Digite o valor total: \"))\n",
        "\n",
        "print(\"Escolha uma opção de pagamento:\")\n",
        "print(\"1: À vista\")\n",
        "print(\"2: Crédito\")\n",
        "\n",
        "opcao = input(\"Digite o número da opção de pagamento: \")\n",
        "\n",
        "#Pagamento à vista\n",
        "if opcao == \"1\":\n",
        "  if valor >= 1000:\n",
        "    print(f\"Valor com desconto: R${valor-(valor*(5/100)):.2f}\")\n",
        "  else:\n",
        "    print(f\"Produto sem desconto: R${valor:.2f}\")\n",
        "#Pagamento no crédito\n",
        "elif opcao == \"2\":\n",
        "  pagamento = int(input(\"Pagamento em quantas vezes, disponível em até 3x: \"))\n",
        "  if pagamento == 1:\n",
        "    print(f\"Valor total: R${valor:.2f}\")\n",
        "  elif pagamento == 2:\n",
        "    print(f\"Valor total com juros: R${valor+(valor*(3/100)):.2f}\")\n",
        "  elif pagamento == 3:\n",
        "    print(f\"Valor total com juros: R${valor+(valor*(6/100)):.2f}\")\n",
        "  else:\n",
        "    print(\"Opção inválida! Só é possível parcelar em até 3x.\")\n",
        "else:\n",
        "    print(\"Opção inválida! Tente novamente!\")\n",
        "\n"
      ],
      "metadata": {
        "colab": {
          "base_uri": "https://localhost:8080/"
        },
        "id": "8J_nFICZhSJU",
        "outputId": "1f5bc1c7-0d10-4f64-d84b-b3048b0239f5"
      },
      "execution_count": null,
      "outputs": [
        {
          "output_type": "stream",
          "name": "stdout",
          "text": [
            "Compras a partir de R$1000 tem desconto de 5% à vista\n",
            "Compras no crédito à vista é sem juros e sem desconto\n",
            "Compras no crédito, em até 3x com juros de 3% por mês\n",
            "Digite o valor total: 1000\n",
            "Escolha uma opção de pagamento:\n",
            "1: À vista\n",
            "2: Crédito\n",
            "Digite o número da opção de pagamento: 2\n",
            "Pagamento em quantas vezes, disponível em até 3x: 1\n",
            "Valor total: R$1000.00\n"
          ]
        }
      ]
    },
    {
      "cell_type": "markdown",
      "source": [
        "14. Empréstimo na biblioteca: precisa estar cadastrado e sem atraso."
      ],
      "metadata": {
        "id": "dDoWKPShhTI3"
      }
    },
    {
      "cell_type": "code",
      "source": [
        "while True:\n",
        "\n",
        "  print(\"Biblioteca Municipal\")\n",
        "  print(\"Possui cadastro?\")\n",
        "  print(\"1: Sim\")\n",
        "  print(\"2: Não\")\n",
        "\n",
        "  cadastro = int(input(\"Resposta: \"))\n",
        "\n",
        "  match cadastro:\n",
        "      case 1:\n",
        "        livro = input(\"Digite o nome do livro: \")\n",
        "        print(f\"O livro:{livro} será emprestado por 7 dias, podendo ser renovado por mais 7 dias.\")\n",
        "        print(\"O atraso na entrega resultará em multa!\")\n",
        "        break\n",
        "\n",
        "      case 2:\n",
        "        print(\"Realizar o cadastro\")\n",
        "        input(\"Nome: \")\n",
        "        input(\"Telefone: \")\n",
        "        print(\"Cadastro realizado!\")\n",
        "\n",
        "      case _:\n",
        "        print(\"Opção inválida!\")\n"
      ],
      "metadata": {
        "id": "t-zD0tI0hTok",
        "colab": {
          "base_uri": "https://localhost:8080/"
        },
        "outputId": "973c2193-8176-4435-a2a8-0ea74809fee0"
      },
      "execution_count": 25,
      "outputs": [
        {
          "output_type": "stream",
          "name": "stdout",
          "text": [
            "Biblioteca Municipal\n",
            "Possui cadastro?\n",
            "1: Sim\n",
            "2: Não\n",
            "Resposta: 2\n",
            "Realizar o cadastro\n",
            "Nome: Jane\n",
            "Telefone: 99 9999-9999\n",
            "Cadastro realizado!\n",
            "Biblioteca Municipal\n",
            "Possui cadastro?\n",
            "1: Sim\n",
            "2: Não\n",
            "Resposta: 1\n",
            "Digite o nome do livro: John Doe\n",
            "O livro:John Doe será emprestado por 7 dias, podendo ser renovado por mais 7 dias.\n",
            "O atraso na entrega resultará em multa!\n"
          ]
        }
      ]
    },
    {
      "cell_type": "markdown",
      "source": [
        "15. Avaliação física: idade ≥ 18 e desempenho ≥ 70%."
      ],
      "metadata": {
        "id": "73iDo2M6hV4T"
      }
    },
    {
      "cell_type": "code",
      "source": [],
      "metadata": {
        "id": "ndt0EU5phWVO"
      },
      "execution_count": null,
      "outputs": []
    },
    {
      "cell_type": "markdown",
      "source": [
        "16. Saque bancário: conta ativa e saldo suficiente."
      ],
      "metadata": {
        "id": "1EHzIMmahWjp"
      }
    },
    {
      "cell_type": "code",
      "source": [
        "while True:\n",
        "\n",
        "  print(\"\\nCaixa Eletrônico Bank\")\n",
        "  print(\"Escolha uma opção:\")\n",
        "  print(\"1 - Saldo\")\n",
        "  print(\"2 - Saque\")\n",
        "  print(\"3 - Depósito\")\n",
        "  print(\"4 - Sair\")\n",
        "\n",
        "  opcao = input(\"Digite o número da opção: \")\n",
        "  saldo = 1000\n",
        "\n",
        "  match opcao:\n",
        "      case \"1\":\n",
        "        print(f\"Saldo atual é de: R${saldo:.2f}!\")\n",
        "\n",
        "      case \"2\":\n",
        "        saque = float(input(\"Digite o valor do saque: \"))\n",
        "        if saldo < saque:\n",
        "          print(\"Saldo insuficiente!\")\n",
        "        else:\n",
        "          saldo -= saque\n",
        "          print(f\"Foi efetuado um saque de R${saque:.2f}, saldo total de R${saldo:.2f}!\")\n",
        "\n",
        "      case \"3\":\n",
        "        deposito = float(input(\"Digite o valor do depósito: \"))\n",
        "        saldo += deposito\n",
        "        print(f\"Foi efetuado um depósito de R${deposito:.2f}, saldo total de R${saldo:.2f}!\")\n",
        "\n",
        "      case \"4\":\n",
        "        print(\"Obrigado por usar o Bank!\")\n",
        "        break\n",
        "\n",
        "      case _:\n",
        "        print(\"Estamos passando por instabilidades, tente novamente!\")"
      ],
      "metadata": {
        "colab": {
          "base_uri": "https://localhost:8080/"
        },
        "id": "hGMFrb4l2bYP",
        "outputId": "557f0dfd-03a2-4e5a-eb3f-a569bcaab8a1"
      },
      "execution_count": 39,
      "outputs": [
        {
          "output_type": "stream",
          "name": "stdout",
          "text": [
            "\n",
            "Caixa Eletrônico Bank\n",
            "Escolha uma opção:\n",
            "1 - Saldo\n",
            "2 - Saque\n",
            "3 - Depósito\n",
            "4 - Sair\n",
            "Digite o número da opção: 1\n",
            "Saldo atual é de: R$1000.00!\n",
            "\n",
            "Caixa Eletrônico Bank\n",
            "Escolha uma opção:\n",
            "1 - Saldo\n",
            "2 - Saque\n",
            "3 - Depósito\n",
            "4 - Sair\n",
            "Digite o número da opção: 2\n",
            "Digite o valor do saque: 1000\n",
            "Foi efetuado um saque de R$1000.00, saldo total de R$0.00!\n",
            "\n",
            "Caixa Eletrônico Bank\n",
            "Escolha uma opção:\n",
            "1 - Saldo\n",
            "2 - Saque\n",
            "3 - Depósito\n",
            "4 - Sair\n",
            "Digite o número da opção: 1\n",
            "Saldo atual é de: R$1000.00!\n",
            "\n",
            "Caixa Eletrônico Bank\n",
            "Escolha uma opção:\n",
            "1 - Saldo\n",
            "2 - Saque\n",
            "3 - Depósito\n",
            "4 - Sair\n",
            "Digite o número da opção: 4\n",
            "Obrigado por usar o Bank!\n"
          ]
        }
      ]
    },
    {
      "cell_type": "code",
      "source": [
        "while True:\n",
        "\n",
        "  print(\"\\nCaixa Eletrônico Bank\")\n",
        "  print(\"Escolha uma opção:\")\n",
        "  print(\"1 - Saldo\")\n",
        "  print(\"2 - Saque\")\n",
        "  print(\"3 - Depósito\")\n",
        "  print(\"4 - Sair\")\n",
        "\n",
        "  opcao = input(\"Digite o número da opção: \")\n",
        "  saldo = 1000\n",
        "\n",
        "  if opcao == \"1\":\n",
        "      print(f\"Saldo atual é de: R${saldo:.2f}!\")\n",
        "\n",
        "  elif opcao == \"2\":\n",
        "    saque = float(input(\"Digite o valor do saque: \"))\n",
        "    if saldo < saque:\n",
        "      print(\"Saldo insuficiente!\")\n",
        "    else:\n",
        "      saldo -= saque\n",
        "      print(f\"Foi efetuado um saque de R${saque:.2f}, saldo total de R${saldo:.2f}!\")\n",
        "\n",
        "  elif opcao == \"3\":\n",
        "    deposito = float(input(\"Digite o valor do depósito: \"))\n",
        "    saldo += deposito\n",
        "    print(f\"Foi efetuado um depósito de R${deposito:.2f}, saldo total de R${saldo:.2f}!\")\n",
        "\n",
        "  elif opcao == \"4\":\n",
        "    print(\"Obrigado por usar o Bank!\")\n",
        "    break\n",
        "\n",
        "  else:\n",
        "    print(\"Estamos passando por instabilidades, tente novamente!\")"
      ],
      "metadata": {
        "id": "ckrimyKyhYFQ",
        "colab": {
          "base_uri": "https://localhost:8080/"
        },
        "outputId": "d2aa4e8b-27cc-42fc-a929-0cd9aa294c8a"
      },
      "execution_count": 33,
      "outputs": [
        {
          "output_type": "stream",
          "name": "stdout",
          "text": [
            "\n",
            "Caixa Eletrônico Bank\n",
            "Escolha uma opção:\n",
            "1 - Saldo\n",
            "2 - Saque\n",
            "3 - Depósito\n",
            "4 - Sair\n",
            "Digite o número da opção: 1\n",
            "Saldo atual é de: R$1000.00!\n",
            "\n",
            "Caixa Eletrônico Bank\n",
            "Escolha uma opção:\n",
            "1 - Saldo\n",
            "2 - Saque\n",
            "3 - Depósito\n",
            "4 - Sair\n",
            "Digite o número da opção: 2\n",
            "Digite o valor do saque: 1000\n",
            "Foi efetuado um saque de R$1000.00, saldo total de R$0.00!\n",
            "\n",
            "Caixa Eletrônico Bank\n",
            "Escolha uma opção:\n",
            "1 - Saldo\n",
            "2 - Saque\n",
            "3 - Depósito\n",
            "4 - Sair\n",
            "Digite o número da opção: 1\n",
            "Saldo atual é de: R$1000.00!\n",
            "\n",
            "Caixa Eletrônico Bank\n",
            "Escolha uma opção:\n",
            "1 - Saldo\n",
            "2 - Saque\n",
            "3 - Depósito\n",
            "4 - Sair\n",
            "Digite o número da opção: 4\n",
            "Obrigado por usar o Bank!\n"
          ]
        }
      ]
    },
    {
      "cell_type": "markdown",
      "source": [
        "17. Promoção e-commerce: cliente cadastrado e compra acima de R$500."
      ],
      "metadata": {
        "id": "0C-J3GENhYfu"
      }
    },
    {
      "cell_type": "code",
      "source": [],
      "metadata": {
        "id": "4FN2URAghZlk"
      },
      "execution_count": null,
      "outputs": []
    },
    {
      "cell_type": "markdown",
      "source": [
        "18. Votação: idade ≥16 e título válido."
      ],
      "metadata": {
        "id": "aZyRlcq_ha1Y"
      }
    },
    {
      "cell_type": "code",
      "source": [],
      "metadata": {
        "id": "lQKS9KfEhbTY"
      },
      "execution_count": null,
      "outputs": []
    },
    {
      "cell_type": "markdown",
      "source": [
        "19. Concurso: idade ≥18 e escolaridade adequada."
      ],
      "metadata": {
        "id": "uzya8IPWhcyW"
      }
    },
    {
      "cell_type": "code",
      "source": [],
      "metadata": {
        "id": "YNju9c4Chca8"
      },
      "execution_count": null,
      "outputs": []
    },
    {
      "cell_type": "markdown",
      "source": [
        "20. Transporte escolar: distância >2 km e frequência ≥80%."
      ],
      "metadata": {
        "id": "ebpMHE0ZhdbD"
      }
    },
    {
      "cell_type": "code",
      "source": [],
      "metadata": {
        "id": "DZ6JHWAthf6e"
      },
      "execution_count": null,
      "outputs": []
    },
    {
      "cell_type": "markdown",
      "source": [
        "**Exercícios com operadores lógicos (and, or, not)**"
      ],
      "metadata": {
        "id": "_ym7aiqmhe9G"
      }
    },
    {
      "cell_type": "markdown",
      "source": [
        "21. Entrada em festa: idade ≥18 ou acompanhado dos pais."
      ],
      "metadata": {
        "id": "DMiQJzkChhwk"
      }
    },
    {
      "cell_type": "code",
      "source": [],
      "metadata": {
        "id": "bEro7QbYhjeD"
      },
      "execution_count": null,
      "outputs": []
    },
    {
      "cell_type": "markdown",
      "source": [
        "22. Meia-entrada no cinema: estudante ou menor de 18 anos."
      ],
      "metadata": {
        "id": "3-VBGWwghj1w"
      }
    },
    {
      "cell_type": "code",
      "source": [],
      "metadata": {
        "id": "3DVljYJwhlK7"
      },
      "execution_count": null,
      "outputs": []
    },
    {
      "cell_type": "markdown",
      "source": [
        "23. Biblioteca: acesso permitido a alunos ou funcionários."
      ],
      "metadata": {
        "id": "l5VyezEVhlbI"
      }
    },
    {
      "cell_type": "code",
      "source": [],
      "metadata": {
        "id": "8RtlkSIwhmbW"
      },
      "execution_count": null,
      "outputs": []
    },
    {
      "cell_type": "markdown",
      "source": [
        "24. Login alternativo: senha correta ou computador autorizado."
      ],
      "metadata": {
        "id": "FGxB6_y1hmnR"
      }
    },
    {
      "cell_type": "code",
      "source": [],
      "metadata": {
        "id": "0jb2V79dhn3I"
      },
      "execution_count": null,
      "outputs": []
    },
    {
      "cell_type": "markdown",
      "source": [
        "25. Promoção: desconto se compra > R$100 ou cliente VIP."
      ],
      "metadata": {
        "id": "bvWvOKM5hoF9"
      }
    },
    {
      "cell_type": "code",
      "source": [],
      "metadata": {
        "id": "RufUNezrhpob"
      },
      "execution_count": null,
      "outputs": []
    },
    {
      "cell_type": "markdown",
      "source": [
        "26. Parque: entrada proibida se idade <12 **ou** >60."
      ],
      "metadata": {
        "id": "J1554jW1hp9g"
      }
    },
    {
      "cell_type": "code",
      "source": [],
      "metadata": {
        "id": "GNjjBAaBhrlW"
      },
      "execution_count": null,
      "outputs": []
    },
    {
      "cell_type": "markdown",
      "source": [
        "27. Doação de sangue: idade entre 18 e 65 e peso >50kg."
      ],
      "metadata": {
        "id": "Sxqwehschr5z"
      }
    },
    {
      "cell_type": "code",
      "source": [],
      "metadata": {
        "id": "zW59FsDzhtLD"
      },
      "execution_count": null,
      "outputs": []
    },
    {
      "cell_type": "markdown",
      "source": [
        "28. Alarme: dispara se ninguém em casa ou porta aberta."
      ],
      "metadata": {
        "id": "rrKIElOWhtl5"
      }
    },
    {
      "cell_type": "code",
      "source": [],
      "metadata": {
        "id": "ibWPgBeRhu16"
      },
      "execution_count": null,
      "outputs": []
    },
    {
      "cell_type": "markdown",
      "source": [
        "29. Guarda-chuva: sair se não estiver chovendo."
      ],
      "metadata": {
        "id": "39rKIDaMhvE9"
      }
    },
    {
      "cell_type": "code",
      "source": [],
      "metadata": {
        "id": "FwVpaqN5hwI4"
      },
      "execution_count": null,
      "outputs": []
    },
    {
      "cell_type": "markdown",
      "source": [
        "30. Jogo de adivinhação: vence se número igual ao secreto ou ±1."
      ],
      "metadata": {
        "id": "AU2QhVjYhwfI"
      }
    },
    {
      "cell_type": "code",
      "source": [],
      "metadata": {
        "id": "bCqdgpbZhy3n"
      },
      "execution_count": null,
      "outputs": []
    }
  ]
}