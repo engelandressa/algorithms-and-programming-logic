{
  "nbformat": 4,
  "nbformat_minor": 0,
  "metadata": {
    "colab": {
      "provenance": []
    },
    "kernelspec": {
      "name": "python3",
      "display_name": "Python 3"
    },
    "language_info": {
      "name": "python"
    }
  },
  "cells": [
    {
      "cell_type": "markdown",
      "source": [
        "**Exercícios Simples com if / if-else**"
      ],
      "metadata": {
        "id": "MDs7ypdxgvmy"
      }
    },
    {
      "cell_type": "markdown",
      "source": [
        "1. Receba dois números e mostre qual é o maior."
      ],
      "metadata": {
        "id": "gnEz-A-xgz4o"
      }
    },
    {
      "cell_type": "code",
      "execution_count": null,
      "metadata": {
        "colab": {
          "base_uri": "https://localhost:8080/"
        },
        "id": "Ocfujm2rgpjr",
        "outputId": "1f45e107-2b21-41ea-8bf1-8b62abb2ae46"
      },
      "outputs": [
        {
          "output_type": "stream",
          "name": "stdout",
          "text": [
            "Digite um número: -10\n",
            "Digite outro número: 10\n",
            "O número 10.0 é o maior!\n"
          ]
        }
      ],
      "source": [
        "num1 = float(input(\"Digite um número: \"))\n",
        "num2 = float(input(\"Digite outro número: \"))\n",
        "\n",
        "if num1 > num2:\n",
        "  print(f\"O número {num1} é o maior!\")\n",
        "elif num2 > num1:\n",
        "  print(f\"O número {num2} é o maior!\")\n",
        "else:\n",
        "  print(f\"Os números são iguais!\")"
      ]
    },
    {
      "cell_type": "markdown",
      "source": [
        "2. Solicite a idade do usuário e informe se é maior de idade."
      ],
      "metadata": {
        "id": "A7hIOLwSg5Eo"
      }
    },
    {
      "cell_type": "code",
      "source": [
        "idade = int(input(\"Digite sua idade: \"))\n",
        "\n",
        "if idade >= 65:\n",
        "  print(f\"Você é idoso!\")\n",
        "elif idade >= 18:\n",
        "  print(f\"Você é maior de idade!\")\n",
        "else:\n",
        "  print(f\"Você é menor de idade!\")"
      ],
      "metadata": {
        "colab": {
          "base_uri": "https://localhost:8080/"
        },
        "id": "fwUdYEibg6n1",
        "outputId": "9874c8e2-30c3-4d4f-acdd-cfffb2f93d3b"
      },
      "execution_count": null,
      "outputs": [
        {
          "output_type": "stream",
          "name": "stdout",
          "text": [
            "Digite sua idade: 18\n",
            "Você é maior de idade!\n"
          ]
        }
      ]
    },
    {
      "cell_type": "code",
      "source": [
        "idade = int(input(\"Digite sua idade: \"))\n",
        "\n",
        "if idade >= 18:\n",
        "  print(f\"Você é maior de idade!\")\n",
        "else:\n",
        "  print(f\"Você é menor de idade!\")"
      ],
      "metadata": {
        "colab": {
          "base_uri": "https://localhost:8080/"
        },
        "id": "EkC4cFx9q3wK",
        "outputId": "1d453980-d6c6-4246-c908-6bbab8415e21"
      },
      "execution_count": null,
      "outputs": [
        {
          "output_type": "stream",
          "name": "stdout",
          "text": [
            "Digite sua idade: 18\n",
            "Você é maior de idade!\n"
          ]
        }
      ]
    },
    {
      "cell_type": "markdown",
      "source": [
        "3. Verifique se um número é positivo, negativo ou zero."
      ],
      "metadata": {
        "id": "LSRo1Bptg6_F"
      }
    },
    {
      "cell_type": "code",
      "source": [
        "numero = float(input(\"Digite um número: \"))\n",
        "\n",
        "if numero == 0:\n",
        "  print(f\"O número {numero:.0f} é zero\")\n",
        "elif numero > 0:\n",
        "  print(f\"O número {numero:.0f} é positivo\")\n",
        "else:\n",
        "  print(f\"O número {numero:.0f} é negativo\")"
      ],
      "metadata": {
        "colab": {
          "base_uri": "https://localhost:8080/"
        },
        "id": "y2kZVqQPg8Mv",
        "outputId": "6e6cf22b-5e82-4b97-b8b4-d963d509c668"
      },
      "execution_count": null,
      "outputs": [
        {
          "output_type": "stream",
          "name": "stdout",
          "text": [
            "Digite um número: 10\n",
            "O número 10 é positivo\n"
          ]
        }
      ]
    },
    {
      "cell_type": "markdown",
      "source": [
        "4. Peça um número e informe se é par ou ímpar."
      ],
      "metadata": {
        "id": "w5ktUiwsg8ed"
      }
    },
    {
      "cell_type": "code",
      "source": [
        "numero = float(input(\"Digite um número: \"))\n",
        "\n",
        "if numero%2 == 0:\n",
        "  print(f\"O número {numero:.0f} é par\")\n",
        "else:\n",
        "  print(f\"O número {numero:.0f} é ímpar\")"
      ],
      "metadata": {
        "colab": {
          "base_uri": "https://localhost:8080/"
        },
        "id": "GMEHy4ipg99F",
        "outputId": "34d45cee-f170-468e-ec43-bfa5de43df5c"
      },
      "execution_count": null,
      "outputs": [
        {
          "output_type": "stream",
          "name": "stdout",
          "text": [
            "Digite um número: 10\n",
            "O número 10 é par\n"
          ]
        }
      ]
    },
    {
      "cell_type": "markdown",
      "source": [
        "5. Pergunte a altura e informe se a pessoa pode entrar no brinquedo (mínimo 1,50m)."
      ],
      "metadata": {
        "id": "nXlipTcRg-Li"
      }
    },
    {
      "cell_type": "code",
      "source": [
        "altura = float(input(\"Informe sua altura em cm: \"))\n",
        "\n",
        "if altura >= 150:\n",
        "  print(\"Pode entrar no brinquedo\")\n",
        "else:\n",
        "    print(\"Não pode entrar no brinquedo\")\n"
      ],
      "metadata": {
        "colab": {
          "base_uri": "https://localhost:8080/"
        },
        "id": "8e7_ujtbg_et",
        "outputId": "0a2924ca-7087-47e8-e127-f438b724386f"
      },
      "execution_count": null,
      "outputs": [
        {
          "output_type": "stream",
          "name": "stdout",
          "text": [
            "Informe sua altura em cm: 140\n",
            "Não pode entrar no brinquedo\n"
          ]
        }
      ]
    },
    {
      "cell_type": "markdown",
      "source": [
        "**Exercícios com elif**"
      ],
      "metadata": {
        "id": "CqZxeoalg_ua"
      }
    },
    {
      "cell_type": "markdown",
      "source": [
        "6. Classifique a nota de um aluno (A, B, C, D, F)."
      ],
      "metadata": {
        "id": "8s_bo9aRhBc3"
      }
    },
    {
      "cell_type": "code",
      "source": [
        "nota = float(input(\"Digite a nota do aluno:\"))\n",
        "\n",
        "if nota >= 8:\n",
        "  print(\"Nota A\")\n",
        "elif nota >= 6:\n",
        "  print(\"Nota B\")\n",
        "elif nota >= 4:\n",
        "  print(\"Nota C\")\n",
        "elif nota >= 2:\n",
        "  print(\"Nota D\")\n",
        "else:\n",
        "  print(\"Nota E\")"
      ],
      "metadata": {
        "colab": {
          "base_uri": "https://localhost:8080/"
        },
        "id": "0bfCujQhhD9Z",
        "outputId": "c6570e2e-7add-430c-d24d-ba72eed5ef60"
      },
      "execution_count": null,
      "outputs": [
        {
          "output_type": "stream",
          "name": "stdout",
          "text": [
            "Digite a nota do aluno:8\n",
            "Nota A\n"
          ]
        }
      ]
    },
    {
      "cell_type": "markdown",
      "source": [
        "7. Solicite a idade e classifique: criança, adolescente, adulto ou idoso."
      ],
      "metadata": {
        "id": "5ERuZEiOhEXH"
      }
    },
    {
      "cell_type": "code",
      "source": [
        "idade = int(input(\"Digite a idade: \"))\n",
        "\n",
        "if idade >= 65:\n",
        "  print(f\"Idoso!\")\n",
        "elif idade >= 18:\n",
        "  print(f\"Adulto!\")\n",
        "elif idade >= 13:\n",
        "  print(f\"Adolescente!\")\n",
        "else:\n",
        "  print(f\"Criança!\")"
      ],
      "metadata": {
        "colab": {
          "base_uri": "https://localhost:8080/"
        },
        "id": "e19AJ4-HhFvV",
        "outputId": "1f101807-6cfa-460a-9f13-3f1637cbf15d"
      },
      "execution_count": null,
      "outputs": [
        {
          "output_type": "stream",
          "name": "stdout",
          "text": [
            "Digite a idade: 18\n",
            "Adulto!\n"
          ]
        }
      ]
    },
    {
      "cell_type": "code",
      "source": [
        "idade = int(input(\"Digite a idade: \"))\n",
        "\n",
        "if idade >= 65:\n",
        "  print(f\"Idoso!\")\n",
        "elif idade >= 18:\n",
        "  print(f\"Adulto!\")\n",
        "elif idade >= 13:\n",
        "  print(f\"Adolescente!\")\n",
        "elif idade >= 3:\n",
        "  print(f\"Criança!\")\n",
        "else:\n",
        "  print(f\"Bebê!\")"
      ],
      "metadata": {
        "id": "fwIcT0X0XNng",
        "colab": {
          "base_uri": "https://localhost:8080/"
        },
        "outputId": "2c38c1d4-90ee-4d6b-d60f-2c16b11fa72c"
      },
      "execution_count": null,
      "outputs": [
        {
          "output_type": "stream",
          "name": "stdout",
          "text": [
            "Digite a idade: 28\n",
            "Adulto!\n"
          ]
        }
      ]
    },
    {
      "cell_type": "markdown",
      "source": [
        "8. Pergunte o mês (1-12) e mostre a estação correspondente."
      ],
      "metadata": {
        "id": "xXPRXyQYhGID"
      }
    },
    {
      "cell_type": "code",
      "source": [
        "print(\"Vamos descobrir a estação do ano\")\n",
        "print(\"Escolha uma estação:\")\n",
        "print(\"1: Janeiro\")\n",
        "print(\"2: Fevereiro\")\n",
        "print(\"3: Março\")\n",
        "print(\"4: Abril\")\n",
        "print(\"5: Maio\")\n",
        "print(\"6: Junho\")\n",
        "print(\"7: Julho\")\n",
        "print(\"8: Agosto\")\n",
        "print(\"9: Setembro\")\n",
        "print(\"10: Outubro\")\n",
        "print(\"11: Novembro\")\n",
        "print(\"12: Dezembro\")\n",
        "\n",
        "opcao = int(input(\"Digite o número da opção: \"))\n",
        "\n",
        "if opcao in (12, 1, 2):\n",
        "    print(\"Verão\")\n",
        "elif opcao in (3, 4, 5):\n",
        "    print(\"Outono\")\n",
        "elif opcao in (6, 7, 8):\n",
        "    print(\"Inverno\")\n",
        "elif opcao in (9, 10, 11):\n",
        "    print(\"Primavera\")\n",
        "else:\n",
        "    print(\"Opção inválida!\")"
      ],
      "metadata": {
        "colab": {
          "base_uri": "https://localhost:8080/"
        },
        "id": "-kzN0z1JhHMf",
        "outputId": "cf73298d-706e-49e2-9278-153c7c63ef4e"
      },
      "execution_count": null,
      "outputs": [
        {
          "output_type": "stream",
          "name": "stdout",
          "text": [
            "Vamos descobrir a estação do ano\n",
            "Escolha uma estação:\n",
            "1: Janeiro\n",
            "2: Fevereiro\n",
            "3: Março\n",
            "4: Abril\n",
            "5: Maio\n",
            "6: Junho\n",
            "7: Julho\n",
            "8: Agosto\n",
            "9: Setembro\n",
            "10: Outubro\n",
            "11: Novembro\n",
            "12: Dezembro\n",
            "Digite o número da opção: 3\n",
            "Outono\n"
          ]
        }
      ]
    },
    {
      "cell_type": "markdown",
      "source": [
        "9. Receba o peso e altura e calcule o IMC, mostrando a classificação."
      ],
      "metadata": {
        "id": "Tu2wHmyyhHkt"
      }
    },
    {
      "cell_type": "code",
      "source": [
        "print(\"Vamos calcular seu IMC\")\n",
        "\n",
        "altura = float(input(\"Digite a sua altura: \"))\n",
        "peso = float(input(\"Digite seu peso: \"))\n",
        "imc = peso/(altura*altura)\n",
        "imc_formatado = f\"{imc:.2f}\"\n",
        "\n",
        "print(f\"Seu IMC é de {imc_formatado}\")\n",
        "\n",
        "#IMC\n",
        "\n",
        "if imc > 29.9:\n",
        "    print(\"Obesidade!\")\n",
        "elif imc >= 24.9:\n",
        "    print(\"Sobrepeso!\")\n",
        "elif imc >= 18.5:\n",
        "    print(\"Peso normal!\")\n",
        "else:\n",
        "    print(\"Abaixo do peso!\")"
      ],
      "metadata": {
        "colab": {
          "base_uri": "https://localhost:8080/"
        },
        "id": "aHgjhExFhI3j",
        "outputId": "080ce9f5-9749-41d0-ae6e-b8540166e591"
      },
      "execution_count": null,
      "outputs": [
        {
          "output_type": "stream",
          "name": "stdout",
          "text": [
            "Vamos calcular seu IMC\n",
            "Digite a sua altura: 1.56\n",
            "Digite seu peso: 45\n",
            "Seu IMC é de 18.49\n",
            "Abaixo do peso!\n"
          ]
        }
      ]
    },
    {
      "cell_type": "markdown",
      "source": [
        "10. Solicite um número de 1 a 7 e mostre o dia da semana."
      ],
      "metadata": {
        "id": "5T4i9MUkhJHW"
      }
    },
    {
      "cell_type": "code",
      "source": [
        "numero = int(input(\"Digite um número inteiro de 1 a 7: \"))\n",
        "\n",
        "if numero == 7:\n",
        "  print(\"Sábado\")\n",
        "elif numero == 6:\n",
        "  print(\"Sexta-feira\")\n",
        "elif numero == 5:\n",
        "  print(\"Quinta-feira\")\n",
        "elif numero == 4:\n",
        "  print(\"Quarta-feira\")\n",
        "elif numero == 3:\n",
        "  print(\"Terça-feira\")\n",
        "elif numero == 2:\n",
        "  print(\"Segunda-feira\")\n",
        "elif numero == 1:\n",
        "  print(\"Domingo\")\n",
        "else:\n",
        "  print(\"Digite novamente\")"
      ],
      "metadata": {
        "colab": {
          "base_uri": "https://localhost:8080/"
        },
        "id": "nKJFNJe3hKjw",
        "outputId": "d95c2668-4289-4445-d19d-6c6c4ee7971d"
      },
      "execution_count": null,
      "outputs": [
        {
          "output_type": "stream",
          "name": "stdout",
          "text": [
            "Digite um número inteiro de 1 a 7: 4\n",
            "Quarta-feira\n"
          ]
        }
      ]
    },
    {
      "cell_type": "markdown",
      "source": [
        "**Exercícios com if aninhado**"
      ],
      "metadata": {
        "id": "pR496mjahK9V"
      }
    },
    {
      "cell_type": "markdown",
      "source": [
        "11. Sistema de login com usuário e senha."
      ],
      "metadata": {
        "id": "bsuOLeh8hMrn"
      }
    },
    {
      "cell_type": "code",
      "source": [
        "print(\"Login\")\n",
        "usuario = input(\"Digite seu usuário: \")\n",
        "print(\"Senha\")\n",
        "senha = input(\"Digite sua senha: \")\n",
        "\n",
        "if usuario == \"aluno\":\n",
        "  if senha == \"1234\":\n",
        "    print(\"Acesso liberado!\")\n",
        "  else:\n",
        "    print(\"Acesso negado!\")\n",
        "else:\n",
        "  print(\"Acesso negado!\")"
      ],
      "metadata": {
        "id": "Ct8O8uZthMcz",
        "colab": {
          "base_uri": "https://localhost:8080/"
        },
        "outputId": "ab887c2a-2e40-4312-87dd-ae9724e9443e"
      },
      "execution_count": null,
      "outputs": [
        {
          "output_type": "stream",
          "name": "stdout",
          "text": [
            "Login\n",
            "Digite seu usuário: aluno\n",
            "Senha\n",
            "Digite sua senha: 123\n",
            "Acesso negado!\n"
          ]
        }
      ]
    },
    {
      "cell_type": "code",
      "source": [
        "print(\"Login\")\n",
        "usuario = input(\"Digite seu usuário: \")\n",
        "print(\"Senha\")\n",
        "senha = input(\"Digite sua senha: \")\n",
        "\n",
        "if usuario == \"aluno\" and senha == \"1234\":\n",
        "    print(\"Acesso liberado!\")\n",
        "else:\n",
        "    print(\"Acesso negado!\")"
      ],
      "metadata": {
        "colab": {
          "base_uri": "https://localhost:8080/"
        },
        "id": "FKm3dkah0bt9",
        "outputId": "229269dc-a124-44ac-dfb0-be902d0c6ce9"
      },
      "execution_count": null,
      "outputs": [
        {
          "output_type": "stream",
          "name": "stdout",
          "text": [
            "Login\n",
            "Digite seu usuário: aluno\n",
            "Senha\n",
            "Digite sua senha: 1234\n",
            "Acesso liberado!\n"
          ]
        }
      ]
    },
    {
      "cell_type": "markdown",
      "source": [
        "12. Aprovação de aluno considerando nota e presença."
      ],
      "metadata": {
        "id": "wRVNOIlUhPb-"
      }
    },
    {
      "cell_type": "code",
      "source": [
        "aluno = input(\"Digite o nome do aluno: \")\n",
        "nota = float(input(\"Digite a nota do aluno: \"))\n",
        "faltas = int(input(\"Digite a quantidade de faltas: \"))\n",
        "aulas = 100\n",
        "max_faltas = 25\n",
        "#O aluno tem que ter 75% de presença para ser aprovado.\n",
        "\n",
        "if nota <6:\n",
        "  print(\"Reprovado!\")\n",
        "\n",
        "elif nota >= 6:\n",
        "  if faltas >= 25:\n",
        "    print(\"Reprovado!\")\n",
        "  else:\n",
        "    print(\"Aprovado!\")\n",
        "\n",
        "else:\n",
        "  print(\"Erro!\")\n",
        "\n"
      ],
      "metadata": {
        "id": "ej9b218WhQkL",
        "colab": {
          "base_uri": "https://localhost:8080/"
        },
        "outputId": "5e287a9d-7c59-4321-99fd-0a4e9714d31f"
      },
      "execution_count": null,
      "outputs": [
        {
          "output_type": "stream",
          "name": "stdout",
          "text": [
            "Digite o nome do aluno: Jane\n",
            "Digite a nota do aluno: 10\n",
            "Digite a quantidade de faltas: 25\n",
            "Reprovado!\n"
          ]
        }
      ]
    },
    {
      "cell_type": "markdown",
      "source": [
        "13. Desconto extra em compras altas se pagamento à vista."
      ],
      "metadata": {
        "id": "qL3_s-1nhRFb"
      }
    },
    {
      "cell_type": "code",
      "source": [
        "print(\"Compras a partir de R$1000 tem desconto de 5% à vista\")\n",
        "print(\"Compras no crédito à vista é sem juros e sem desconto\")\n",
        "print(\"Compras no crédito, em até 3x com juros de 3% por mês\")\n",
        "\n",
        "valor = float(input(\"Digite o valor total: \"))\n",
        "\n",
        "print(\"Escolha uma opção de pagamento:\")\n",
        "print(\"1: À vista\")\n",
        "print(\"2: Crédito\")\n",
        "\n",
        "opcao = input(\"Digite o número da opção de pagamento: \")\n",
        "\n",
        "#Pagamento à vista\n",
        "if opcao == \"1\":\n",
        "  if valor >= 1000:\n",
        "    print(f\"Valor com desconto: R${valor-(valor*(5/100)):.2f}\")\n",
        "  else:\n",
        "    print(f\"Produto sem desconto: R${valor:.2f}\")\n",
        "#Pagamento no crédito\n",
        "elif opcao == \"2\":\n",
        "  pagamento = int(input(\"Pagamento em quantas vezes, disponível em até 3x: \"))\n",
        "  if pagamento == 1:\n",
        "    print(f\"Valor total: R${valor:.2f}\")\n",
        "  elif pagamento == 2:\n",
        "    print(f\"Valor total com juros: R${valor+(valor*(3/100)):.2f}\")\n",
        "  elif pagamento == 3:\n",
        "    print(f\"Valor total com juros: R${valor+(valor*(6/100)):.2f}\")\n",
        "  else:\n",
        "    print(\"Opção inválida! Só é possível parcelar em até 3x.\")\n",
        "else:\n",
        "    print(\"Opção inválida! Tente novamente!\")\n",
        "\n"
      ],
      "metadata": {
        "colab": {
          "base_uri": "https://localhost:8080/"
        },
        "id": "8J_nFICZhSJU",
        "outputId": "1f5bc1c7-0d10-4f64-d84b-b3048b0239f5"
      },
      "execution_count": null,
      "outputs": [
        {
          "output_type": "stream",
          "name": "stdout",
          "text": [
            "Compras a partir de R$1000 tem desconto de 5% à vista\n",
            "Compras no crédito à vista é sem juros e sem desconto\n",
            "Compras no crédito, em até 3x com juros de 3% por mês\n",
            "Digite o valor total: 1000\n",
            "Escolha uma opção de pagamento:\n",
            "1: À vista\n",
            "2: Crédito\n",
            "Digite o número da opção de pagamento: 2\n",
            "Pagamento em quantas vezes, disponível em até 3x: 1\n",
            "Valor total: R$1000.00\n"
          ]
        }
      ]
    },
    {
      "cell_type": "markdown",
      "source": [
        "14. Empréstimo na biblioteca: precisa estar cadastrado e sem atraso."
      ],
      "metadata": {
        "id": "dDoWKPShhTI3"
      }
    },
    {
      "cell_type": "code",
      "source": [
        "while True:\n",
        "\n",
        "  print(\"Biblioteca Municipal\")\n",
        "  print(\"Possui cadastro?\")\n",
        "  print(\"1: Sim\")\n",
        "  print(\"2: Não\")\n",
        "\n",
        "  cadastro = int(input(\"Resposta: \"))\n",
        "\n",
        "  match cadastro:\n",
        "      case 1:\n",
        "        livro = input(\"Digite o nome do livro: \")\n",
        "        print(f\"O livro:{livro} será emprestado por 7 dias, podendo ser renovado por mais 7 dias.\")\n",
        "        print(\"O atraso na entrega resultará em multa!\")\n",
        "        break\n",
        "\n",
        "      case 2:\n",
        "        print(\"Realizar o cadastro\")\n",
        "        input(\"Nome: \")\n",
        "        input(\"Telefone: \")\n",
        "        print(\"Cadastro realizado!\")\n",
        "\n",
        "      case _:\n",
        "        print(\"Opção inválida!\")\n"
      ],
      "metadata": {
        "id": "t-zD0tI0hTok",
        "colab": {
          "base_uri": "https://localhost:8080/"
        },
        "outputId": "973c2193-8176-4435-a2a8-0ea74809fee0"
      },
      "execution_count": null,
      "outputs": [
        {
          "output_type": "stream",
          "name": "stdout",
          "text": [
            "Biblioteca Municipal\n",
            "Possui cadastro?\n",
            "1: Sim\n",
            "2: Não\n",
            "Resposta: 2\n",
            "Realizar o cadastro\n",
            "Nome: Jane\n",
            "Telefone: 99 9999-9999\n",
            "Cadastro realizado!\n",
            "Biblioteca Municipal\n",
            "Possui cadastro?\n",
            "1: Sim\n",
            "2: Não\n",
            "Resposta: 1\n",
            "Digite o nome do livro: John Doe\n",
            "O livro:John Doe será emprestado por 7 dias, podendo ser renovado por mais 7 dias.\n",
            "O atraso na entrega resultará em multa!\n"
          ]
        }
      ]
    },
    {
      "cell_type": "markdown",
      "source": [
        "15. Avaliação física: idade ≥ 18 e desempenho ≥ 70%."
      ],
      "metadata": {
        "id": "73iDo2M6hV4T"
      }
    },
    {
      "cell_type": "code",
      "source": [
        "print(\"Avaliação Física\")\n",
        "\n",
        "idade = int(input(\"Digite sua idade: \"))\n",
        "desempenho = int(input(\"Digite seu desempenho: \"))\n",
        "\n",
        "if idade >= 18 and desempenho >= 70:\n",
        "  print(\"Avaliação física aprovada!\")\n",
        "else:\n",
        "  print(\"Avaliação física não aprovada!\")"
      ],
      "metadata": {
        "id": "ndt0EU5phWVO",
        "colab": {
          "base_uri": "https://localhost:8080/"
        },
        "outputId": "ca1060da-8aa9-4cb3-cea1-d5872efe1b84"
      },
      "execution_count": null,
      "outputs": [
        {
          "output_type": "stream",
          "name": "stdout",
          "text": [
            "Avaliação Física\n",
            "Digite sua idade: 28\n",
            "Digite seu desempenho: 90\n",
            "Avaliação física aprovada!\n"
          ]
        }
      ]
    },
    {
      "cell_type": "markdown",
      "source": [
        "16. Saque bancário: conta ativa e saldo suficiente."
      ],
      "metadata": {
        "id": "1EHzIMmahWjp"
      }
    },
    {
      "cell_type": "code",
      "source": [
        "saldo = 1000\n",
        "\n",
        "while True:\n",
        "\n",
        "  print(\"\\nCaixa Eletrônico Bank\")\n",
        "  print(\"Escolha uma opção:\")\n",
        "  print(\"1 - Saldo\")\n",
        "  print(\"2 - Saque\")\n",
        "  print(\"3 - Depósito\")\n",
        "  print(\"4 - Sair\")\n",
        "\n",
        "  opcao = input(\"Digite o número da opção: \")\n",
        "\n",
        "  match opcao:\n",
        "      case \"1\":\n",
        "        print(f\"Saldo atual é de: R${saldo:.2f}!\")\n",
        "\n",
        "      case \"2\":\n",
        "        saque = float(input(\"Digite o valor do saque: \"))\n",
        "        if saldo < saque:\n",
        "          print(\"Saldo insuficiente!\")\n",
        "        else:\n",
        "          saldo -= saque\n",
        "          print(f\"Foi efetuado um saque de R${saque:.2f}, saldo total de R${saldo:.2f}!\")\n",
        "\n",
        "      case \"3\":\n",
        "        deposito = float(input(\"Digite o valor do depósito: \"))\n",
        "        saldo += deposito\n",
        "        print(f\"Foi efetuado um depósito de R${deposito:.2f}, saldo total de R${saldo:.2f}!\")\n",
        "\n",
        "      case \"4\":\n",
        "        print(\"Obrigado por usar o Bank!\")\n",
        "        break\n",
        "\n",
        "      case _:\n",
        "        print(\"Estamos passando por instabilidades, tente novamente!\")"
      ],
      "metadata": {
        "colab": {
          "base_uri": "https://localhost:8080/"
        },
        "id": "hGMFrb4l2bYP",
        "outputId": "9c770ccc-509e-43c8-ff7f-8391138f2006"
      },
      "execution_count": null,
      "outputs": [
        {
          "output_type": "stream",
          "name": "stdout",
          "text": [
            "\n",
            "Caixa Eletrônico Bank\n",
            "Escolha uma opção:\n",
            "1 - Saldo\n",
            "2 - Saque\n",
            "3 - Depósito\n",
            "4 - Sair\n",
            "Digite o número da opção: 2\n",
            "Digite o valor do saque: 1000\n",
            "Foi efetuado um saque de R$1000.00, saldo total de R$0.00!\n",
            "\n",
            "Caixa Eletrônico Bank\n",
            "Escolha uma opção:\n",
            "1 - Saldo\n",
            "2 - Saque\n",
            "3 - Depósito\n",
            "4 - Sair\n",
            "Digite o número da opção: 1\n",
            "Saldo atual é de: R$0.00!\n",
            "\n",
            "Caixa Eletrônico Bank\n",
            "Escolha uma opção:\n",
            "1 - Saldo\n",
            "2 - Saque\n",
            "3 - Depósito\n",
            "4 - Sair\n",
            "Digite o número da opção: 4\n",
            "Obrigado por usar o Bank!\n"
          ]
        }
      ]
    },
    {
      "cell_type": "markdown",
      "source": [
        "17. Promoção e-commerce: cliente cadastrado e compra acima de R$500."
      ],
      "metadata": {
        "id": "0C-J3GENhYfu"
      }
    },
    {
      "cell_type": "code",
      "source": [
        "  while True:\n",
        "\n",
        "    print(\"\\nPromoção para clientes cadastrados em compras acima de R$500!\")\n",
        "    print(\"Possui cadastro?\")\n",
        "    print(\"1: Sim\")\n",
        "    print(\"2: Não\")\n",
        "\n",
        "    cadastro = int(input(\"Resposta: \"))\n",
        "\n",
        "    match cadastro:\n",
        "        case 1:\n",
        "          compra = float(input(\"Digite o valor da compra: \"))\n",
        "          if compra >= 500:\n",
        "            print(\"Parabéns, você ganhou um desconto de 10%!\")\n",
        "            print(f\"Valor com desconto: R${compra-(compra*0.10):.2f}\")\n",
        "          else:\n",
        "            print(f\"Valor da compra: R${compra:.2f}\")\n",
        "          break\n",
        "\n",
        "        case 2:\n",
        "          print(\"Realizar o cadastro\")\n",
        "          input(\"Nome: \")\n",
        "          input(\"Telefone: \")\n",
        "          print(\"Cadastro realizado!\")\n",
        "\n",
        "        case _:\n",
        "          print(\"Opção inválida!\")\n"
      ],
      "metadata": {
        "id": "4FN2URAghZlk",
        "colab": {
          "base_uri": "https://localhost:8080/"
        },
        "outputId": "5265e32d-8594-4826-df96-8fbfc4a36365"
      },
      "execution_count": null,
      "outputs": [
        {
          "output_type": "stream",
          "name": "stdout",
          "text": [
            "\n",
            "Promoção para clientes cadastrados em compras acima de R$500!\n",
            "Possui cadastro?\n",
            "1: Sim\n",
            "2: Não\n",
            "Resposta: 1\n",
            "Digite o valor da compra: 510\n",
            "Parabéns, você ganhou um desconto de 10%!\n",
            "Valor com desconto: R$459.00\n"
          ]
        }
      ]
    },
    {
      "cell_type": "markdown",
      "source": [
        "18. Votação: idade ≥16 e título válido."
      ],
      "metadata": {
        "id": "aZyRlcq_ha1Y"
      }
    },
    {
      "cell_type": "code",
      "source": [
        "print(\"Votação\")\n",
        "\n",
        "idade = int(input(\"Digite sua idade: \"))\n",
        "print(\"O título de eleitor está válido?\")\n",
        "print(\"1: Sim\")\n",
        "print(\"2: Não\")\n",
        "valido = int(input(\"Resposta : \"))\n",
        "\n",
        "if idade >= 16 and valido == 1:\n",
        "  print(\"O votação é permitida!\")\n",
        "else:\n",
        "  print(\"O votação não é permitida!\")"
      ],
      "metadata": {
        "id": "IqGeZAaJ17GH",
        "colab": {
          "base_uri": "https://localhost:8080/"
        },
        "outputId": "a24ecff9-6cd0-436c-a3ae-5af221bacef1"
      },
      "execution_count": null,
      "outputs": [
        {
          "output_type": "stream",
          "name": "stdout",
          "text": [
            "Votação\n",
            "Digite sua idade: 28\n",
            "O título de eleitor está válido?\n",
            "1: Sim\n",
            "2: Não\n",
            "Resposta : 1\n",
            "O votação é permitida!\n"
          ]
        }
      ]
    },
    {
      "cell_type": "code",
      "source": [
        "\n",
        "\"\"\"print(\"Votação\")\n",
        "\n",
        "idade = int(input(\"Digite sua idade: \"))\n",
        "\n",
        "if idade < 16:\n",
        "  print(\"Não atingiu a idade mínima para votação!\")\n",
        "elif idade >= 16 and idade < 18:\n",
        "  print(\"A votção não é obrigatória!\")\n",
        "  print(\"Deseja votar?\")\n",
        "  print(\"1: Sim\")\n",
        "  print(\"2: Não\")\n",
        "  voto = int(input(\"Resposta: \"))\n",
        "  match voto:\n",
        "      case 1:\n",
        "        print(\"Informações sobre o Título de Eleitor\")\n",
        "        print(\"1: Vencido\")\n",
        "        print(\"2: Na validade\")\n",
        "        validade1 = int(input(\"Qual a situação do Título de Eleitor: \"))\n",
        "      case 2:\n",
        "        match validade1:\n",
        "            case 1:\n",
        "              print(\"Não será possível votar! É preciso renovar o seu Título de Eleitor!\")\n",
        "            case 2:\n",
        "              print(\"Volte com 18 anos!\")\n",
        "\n",
        "elif idade >= 18 and idade < 70:\n",
        "  print(\"Informações sobre o Título de Eleitor\")\n",
        "  print(\"1: Vencido\")\n",
        "  print(\"2: Na validade\")\n",
        "  validade2 = int(input(\"Qual a situação do Título de Eleitor: \"))\n",
        "\n",
        "  match validade2:\n",
        "      case 1:\n",
        "        print(\"Não será possível votar! É preciso renovar o seu Título de Eleitor!\")\n",
        "      case 2:\n",
        "        print(\"Será possível votar!\")\n",
        "\n",
        "else:\n",
        "  print(\"A votação não é obrigatória!\")\n"
      ],
      "metadata": {
        "id": "lQKS9KfEhbTY",
        "colab": {
          "base_uri": "https://localhost:8080/"
        },
        "outputId": "70d43db0-2aea-49e3-d6eb-c1417da0f4f4"
      },
      "execution_count": null,
      "outputs": [
        {
          "output_type": "stream",
          "name": "stdout",
          "text": [
            "Votação\n",
            "Digite sua idade: 16\n",
            "A votção não é obrigatória!\n",
            "Deseja votar?\n",
            "1: Sim\n",
            "2: Não\n",
            "Resposta: 2\n",
            "Não será possível votar! É preciso renovar o seu Título de Eleitor!\n"
          ]
        }
      ]
    },
    {
      "cell_type": "markdown",
      "source": [
        "19. Concurso: idade ≥18 e escolaridade adequada."
      ],
      "metadata": {
        "id": "uzya8IPWhcyW"
      }
    },
    {
      "cell_type": "code",
      "source": [
        "print(\"Concurso Público\")\n",
        "\n",
        "idade = int(input(\"Digite sua idade: \"))\n",
        "print(\"Informe sua escolaridade\")\n",
        "print(\"1: Ensino Fundamental\")\n",
        "print(\"2: Ensino Médio\")\n",
        "print(\"3: Ensino Superior Incompleto\")\n",
        "print(\"4: Ensino Superior Completo\")\n",
        "escolaridade = int(input(\"Digite a escolaridade: \"))\n",
        "\n",
        "if idade >= 18:\n",
        "  match escolaridade:\n",
        "    case 1:\n",
        "      print(\"Será possivel prestar para as vagas de Ensino Fundamental\")\n",
        "    case 2:\n",
        "      print(\"Será possivel prestar para as vagas de Ensino Médio e Fundamental\")\n",
        "    case 3:\n",
        "      print(\"Será possivel prestar para as vagas de Ensino Médio e Fundamental\")\n",
        "    case 4:\n",
        "      print(\"Será possivel prestar para as vagas de Ensino Médio, Fundamental e Superior\")\n",
        "\n",
        "else:\n",
        "  print(\"Você não poderá prestar o concurso!\")\n",
        "\n"
      ],
      "metadata": {
        "id": "YNju9c4Chca8",
        "colab": {
          "base_uri": "https://localhost:8080/"
        },
        "outputId": "5bec269d-9bf3-470e-b4e7-bb537b0622da"
      },
      "execution_count": null,
      "outputs": [
        {
          "output_type": "stream",
          "name": "stdout",
          "text": [
            "Concurso Público\n",
            "Digite sua idade: 28\n",
            "Informe sua escolaridade\n",
            "1: Ensino Fundamental\n",
            "2: Ensino Médio\n",
            "3: Ensino Superior Incompleto\n",
            "4: Ensino Superior Completo\n",
            "Digite a escolaridade: 4\n",
            "Será possivel prestar para as vagas de Ensino Médio, Fundamental e Superior\n"
          ]
        }
      ]
    },
    {
      "cell_type": "markdown",
      "source": [
        "20. Transporte escolar: distância >2 km e frequência ≥80%."
      ],
      "metadata": {
        "id": "ebpMHE0ZhdbD"
      }
    },
    {
      "cell_type": "code",
      "source": [
        "print(\"Transporte Escolar\")\n",
        "\n",
        "distancia = int(input(\"Digite a diatancia entre a casa e a escola em km: \"))\n",
        "frequencia = int(input(\"Digite a frequência do aluno : \"))\n",
        "\n",
        "if distancia >= 2 and frequencia >= 80:\n",
        "  print(\"Transporte Escolar Aprovado!\")\n",
        "else:\n",
        "  print(\"Transporte Escolar NÃO Aprovado!\")"
      ],
      "metadata": {
        "id": "DZ6JHWAthf6e",
        "colab": {
          "base_uri": "https://localhost:8080/"
        },
        "outputId": "c7b3a8f9-d198-465f-f9eb-182f9a99d776"
      },
      "execution_count": null,
      "outputs": [
        {
          "output_type": "stream",
          "name": "stdout",
          "text": [
            "Transporte Escolar\n",
            "Digite a diatancia entre a casa e a escola em km: 2\n",
            "Digite a frequência do aluno : 90\n",
            "Transporte Escolar Aprovado!\n"
          ]
        }
      ]
    },
    {
      "cell_type": "markdown",
      "source": [
        "**Exercícios com operadores lógicos (and, or, not)**"
      ],
      "metadata": {
        "id": "_ym7aiqmhe9G"
      }
    },
    {
      "cell_type": "markdown",
      "source": [
        "21. Entrada em festa: idade ≥18 ou acompanhado dos pais."
      ],
      "metadata": {
        "id": "DMiQJzkChhwk"
      }
    },
    {
      "cell_type": "code",
      "source": [
        "print(\"Entrada em festa\")\n",
        "\n",
        "idade = int(input(\"Digite sua idade: \"))\n",
        "print(\"Acompanhado dos pais?\")\n",
        "print(\"1: Sim\")\n",
        "print(\"2: Não\")\n",
        "acompanhado = int(input(\"Resposta : \"))\n",
        "\n",
        "if idade >= 18 or acompanhado == 1:\n",
        "  print(\"Entrada em festa permitida!\")\n",
        "else:\n",
        "  print(\"Entrada em festa NÃO permitida!\")"
      ],
      "metadata": {
        "id": "bEro7QbYhjeD",
        "colab": {
          "base_uri": "https://localhost:8080/"
        },
        "outputId": "25d3bd5c-3cd9-47fe-9d7a-1b0f9e1cee36"
      },
      "execution_count": null,
      "outputs": [
        {
          "output_type": "stream",
          "name": "stdout",
          "text": [
            "Entrada em festa\n",
            "Digite sua idade: 28\n",
            "Acompanhado dos pais?\n",
            "1: Sim\n",
            "2: Não\n",
            "Resposta : 2\n",
            "Entrada em festa permitida!\n"
          ]
        }
      ]
    },
    {
      "cell_type": "markdown",
      "source": [
        "22. Meia-entrada no cinema: estudante ou menor de 18 anos."
      ],
      "metadata": {
        "id": "3-VBGWwghj1w"
      }
    },
    {
      "cell_type": "code",
      "source": [
        "print(\"Meia-entrada no cinema\")\n",
        "\n",
        "idade = int(input(\"Digite sua idade: \"))\n",
        "print(\"É estudante?\")\n",
        "print(\"1: Sim\")\n",
        "print(\"2: Não\")\n",
        "estudante = int(input(\"Resposta : \"))\n",
        "\n",
        "if idade < 18 or estudante == 1:\n",
        "  print(\"Meia-entrada no cinema permitida!\")\n",
        "else:\n",
        "  print(\"Meia-entrada no cinema NÃO permitida!\")"
      ],
      "metadata": {
        "id": "3DVljYJwhlK7",
        "colab": {
          "base_uri": "https://localhost:8080/"
        },
        "outputId": "e9287d91-e469-40d3-cae7-7621fde6e817"
      },
      "execution_count": null,
      "outputs": [
        {
          "output_type": "stream",
          "name": "stdout",
          "text": [
            "Meia-entrada no cinema\n",
            "Digite sua idade: 28\n",
            "É estudante?\n",
            "1: Sim\n",
            "2: Não\n",
            "Resposta : 1\n",
            "Meia-entrada no cinema permitida!\n"
          ]
        }
      ]
    },
    {
      "cell_type": "markdown",
      "source": [
        "23. Biblioteca: acesso permitido a alunos ou funcionários."
      ],
      "metadata": {
        "id": "l5VyezEVhlbI"
      }
    },
    {
      "cell_type": "code",
      "source": [
        "print(\"Acesso à Biblioteca\")\n",
        "\n",
        "print(\"É funcionário?\")\n",
        "print(\"1: Sim\")\n",
        "print(\"2: Não\")\n",
        "funcionario = int(input(\"Resposta : \"))\n",
        "print(\"É estudante?\")\n",
        "print(\"1: Sim\")\n",
        "print(\"2: Não\")\n",
        "estudante = int(input(\"Resposta : \"))\n",
        "\n",
        "if funcionario == 1 or estudante == 1:\n",
        "  print(\"Acesso à Biblioteca permitida!\")\n",
        "else:\n",
        "  print(\"Acesso à Biblioteca NÃO permitida!\")"
      ],
      "metadata": {
        "id": "8RtlkSIwhmbW",
        "colab": {
          "base_uri": "https://localhost:8080/"
        },
        "outputId": "5c8ef5f1-ae50-407c-dab3-2152ebb8cc0e"
      },
      "execution_count": null,
      "outputs": [
        {
          "output_type": "stream",
          "name": "stdout",
          "text": [
            "Acesso à Biblioteca\n",
            "É funcionário?\n",
            "1: Sim\n",
            "2: Não\n",
            "Resposta : 2\n",
            "É estudante?\n",
            "1: Sim\n",
            "2: Não\n",
            "Resposta : 1\n",
            "Acesso à Biblioteca permitida!\n"
          ]
        }
      ]
    },
    {
      "cell_type": "markdown",
      "source": [
        "24. Login alternativo: senha correta ou computador autorizado."
      ],
      "metadata": {
        "id": "FGxB6_y1hmnR"
      }
    },
    {
      "cell_type": "code",
      "source": [
        "print(\"Login\")\n",
        "\n",
        "print(\"Senha correta?\")\n",
        "print(\"1: Sim\")\n",
        "print(\"2: Não\")\n",
        "senha = int(input(\"Resposta: \"))\n",
        "print(\"Computador autorizado?\")\n",
        "print(\"1: Sim\")\n",
        "print(\"2: Não\")\n",
        "pc = int(input(\"Resposta: \"))\n",
        "\n",
        "if senha == 1 or pc == 1:\n",
        "  print(\"Login autorizado!\")\n",
        "else:\n",
        "  print(\"Login NÃO autorizado\")"
      ],
      "metadata": {
        "id": "0jb2V79dhn3I",
        "colab": {
          "base_uri": "https://localhost:8080/"
        },
        "outputId": "011822bd-75fa-4539-f05f-ba41e0d35dfe"
      },
      "execution_count": null,
      "outputs": [
        {
          "output_type": "stream",
          "name": "stdout",
          "text": [
            "Login\n",
            "Senha correta?\n",
            "1: Sim\n",
            "2: Não\n",
            "Resposta: 1\n",
            "Computador autorizado?\n",
            "1: Sim\n",
            "2: Não\n",
            "Resposta: 1\n",
            "Login autorizado!\n"
          ]
        }
      ]
    },
    {
      "cell_type": "markdown",
      "source": [
        "25. Promoção: desconto se compra > R$100 ou cliente VIP."
      ],
      "metadata": {
        "id": "bvWvOKM5hoF9"
      }
    },
    {
      "cell_type": "code",
      "source": [
        "print(\"Promoção\")\n",
        "\n",
        "compra = float(input(\"Digite o valor da compra: \"))\n",
        "cliente = int(input(\"Client VIP?: \"))\n",
        "print(\"1: Sim\")\n",
        "print(\"2: Não\")\n",
        "\n",
        "if compra >= 100 or cliente == 1:\n",
        "  print(\"Desconto aprovado!\")\n",
        "else:\n",
        "  print(\"Desconto NÃO aprovado!\")"
      ],
      "metadata": {
        "id": "RufUNezrhpob",
        "colab": {
          "base_uri": "https://localhost:8080/"
        },
        "outputId": "96c3db78-6c71-4c3d-c9a1-97b06234c674"
      },
      "execution_count": null,
      "outputs": [
        {
          "output_type": "stream",
          "name": "stdout",
          "text": [
            "Promoção\n",
            "Digite o valor da compra: 20\n",
            "Client VIP?: 1\n",
            "1: Sim\n",
            "2: Não\n",
            "Desconto aprovado!\n"
          ]
        }
      ]
    },
    {
      "cell_type": "markdown",
      "source": [
        "26. Parque: entrada proibida se idade <12 **ou** >60."
      ],
      "metadata": {
        "id": "J1554jW1hp9g"
      }
    },
    {
      "cell_type": "code",
      "source": [
        "print(\"Parque\")\n",
        "\n",
        "idade = int(input(\"Digite a idade: \"))\n",
        "\n",
        "if idade < 12 or idade > 60:\n",
        "  print(\"Entrada proibida!\")\n",
        "else:\n",
        "  print(\"Entrada permitida!\")"
      ],
      "metadata": {
        "id": "GNjjBAaBhrlW",
        "colab": {
          "base_uri": "https://localhost:8080/"
        },
        "outputId": "b59751ad-cae9-4024-d71a-7c8a83c38cf9"
      },
      "execution_count": null,
      "outputs": [
        {
          "output_type": "stream",
          "name": "stdout",
          "text": [
            "Parque\n",
            "Digite a idade: 28\n",
            "Entrada permitida!\n"
          ]
        }
      ]
    },
    {
      "cell_type": "markdown",
      "source": [
        "27. Doação de sangue: idade entre 18 e 65 e peso >50kg."
      ],
      "metadata": {
        "id": "Sxqwehschr5z"
      }
    },
    {
      "cell_type": "code",
      "source": [
        "print(\"Doação de sangue\")\n",
        "\n",
        "idade = int(input(\"Digite a idade: \"))\n",
        "peso = int(input(\"Digite o peso: \"))\n",
        "\n",
        "if idade >= 18 and idade < 65 and peso >= 50:\n",
        "  print(\"Doação de sangue aprovada!\")\n",
        "else:\n",
        "  print(\"Doação de sangue NÃO aprovada!\")"
      ],
      "metadata": {
        "id": "zW59FsDzhtLD",
        "colab": {
          "base_uri": "https://localhost:8080/"
        },
        "outputId": "32a41434-a374-4609-d267-2d8425bb2942"
      },
      "execution_count": null,
      "outputs": [
        {
          "output_type": "stream",
          "name": "stdout",
          "text": [
            "Doação de sangue\n",
            "Digite a idade: 28\n",
            "Digite o peso: 45\n",
            "Doação de sangue NÃO aprovada!\n"
          ]
        }
      ]
    },
    {
      "cell_type": "markdown",
      "source": [
        "28. Alarme: dispara se ninguém em casa ou porta aberta."
      ],
      "metadata": {
        "id": "rrKIElOWhtl5"
      }
    },
    {
      "cell_type": "code",
      "source": [
        "print(\"Alarme\")\n",
        "\n",
        "print(\"Tem gente em casa?\")\n",
        "print(\"1: Sim\")\n",
        "print(\"2: Não\")\n",
        "casa = int(input(\"Resposta: \"))\n",
        "print(\"A porta está aberta?\")\n",
        "print(\"1: Sim\")\n",
        "print(\"2: Não\")\n",
        "porta = int(input(\"Resposta: \"))\n",
        "\n",
        "if casa == \"2\" or porta == \"1\":\n",
        "  print(\"Disparar o Alarme!\")\n",
        "else:\n",
        "  print(\"NÃO Disparar o Alarme\")"
      ],
      "metadata": {
        "id": "ibWPgBeRhu16",
        "colab": {
          "base_uri": "https://localhost:8080/"
        },
        "outputId": "c4937328-0f74-4e1b-dc95-db164350cd24"
      },
      "execution_count": null,
      "outputs": [
        {
          "output_type": "stream",
          "name": "stdout",
          "text": [
            "Alarme\n",
            "Tem gente em casa?\n",
            "1: Sim\n",
            "2: Não\n",
            "Resposta: 1\n",
            "A porta está aberta?\n",
            "1: Sim\n",
            "2: Não\n",
            "Resposta: 1\n",
            "NÃO Disparar o Alarme\n"
          ]
        }
      ]
    },
    {
      "cell_type": "markdown",
      "source": [
        "29. Guarda-chuva: sair se não estiver chovendo."
      ],
      "metadata": {
        "id": "39rKIDaMhvE9"
      }
    },
    {
      "cell_type": "code",
      "source": [
        "print(\"Levo o Guarda-chuva?\")\n",
        "\n",
        "print(\"Está chovendo?\")\n",
        "print(\"1: Sim\")\n",
        "print(\"2: Não\")\n",
        "chuva = int(input(\"Resposta: \"))\n",
        "\n",
        "if chuva == 1:\n",
        "  print(\"Levar o Guarda-chuva!\")\n",
        "else:\n",
        "  print(\"NÃO Levar o Guarda-chuva!\")"
      ],
      "metadata": {
        "id": "FwVpaqN5hwI4",
        "colab": {
          "base_uri": "https://localhost:8080/"
        },
        "outputId": "a4d4ff0a-ecd0-424d-ad45-4f1ffc8786a0"
      },
      "execution_count": null,
      "outputs": [
        {
          "output_type": "stream",
          "name": "stdout",
          "text": [
            "Levo o Guarda-chuva?\n",
            "Está chovendo?\n",
            "1: Sim\n",
            "2: Não\n",
            "Resposta: 2\n",
            "NÃO Levar o Guarda-chuva!\n"
          ]
        }
      ]
    },
    {
      "cell_type": "markdown",
      "source": [
        "30. Jogo de adivinhação: vence se número igual ao secreto ou ±1."
      ],
      "metadata": {
        "id": "AU2QhVjYhwfI"
      }
    },
    {
      "cell_type": "code",
      "source": [],
      "metadata": {
        "id": "bCqdgpbZhy3n"
      },
      "execution_count": null,
      "outputs": []
    }
  ]
}