{
  "nbformat": 4,
  "nbformat_minor": 0,
  "metadata": {
    "colab": {
      "provenance": []
    },
    "kernelspec": {
      "name": "python3",
      "display_name": "Python 3"
    },
    "language_info": {
      "name": "python"
    }
  },
  "cells": [
    {
      "cell_type": "markdown",
      "source": [
        "**Lista de Exercícios - Laço for em Python**"
      ],
      "metadata": {
        "id": "dmS2GYOYhKlF"
      }
    },
    {
      "cell_type": "markdown",
      "source": [
        "1. Contagem de 1 a 10\n",
        "\n",
        "Tarefa: Escreva um programa que exiba os números de 1 a 10 usando for."
      ],
      "metadata": {
        "id": "0SemjRwDhJAp"
      }
    },
    {
      "cell_type": "code",
      "execution_count": 2,
      "metadata": {
        "id": "_QYtFD4BhGa6",
        "colab": {
          "base_uri": "https://localhost:8080/"
        },
        "outputId": "0da15755-8eb1-48c2-ff04-c709b7aa01c7"
      },
      "outputs": [
        {
          "output_type": "stream",
          "name": "stdout",
          "text": [
            "1\n",
            "2\n",
            "3\n",
            "4\n",
            "5\n",
            "6\n",
            "7\n",
            "8\n",
            "9\n",
            "10\n"
          ]
        }
      ],
      "source": [
        "for num in range (1, 11):\n",
        "    print(num)"
      ]
    },
    {
      "cell_type": "markdown",
      "source": [
        "2. Contagem Personalizada\n",
        "\n",
        "Tarefa: Peça ao usuário um número e exiba uma contagem de 1 até esse número.\n",
        "\n"
      ],
      "metadata": {
        "id": "NASFXbF0hUBT"
      }
    },
    {
      "cell_type": "code",
      "source": [
        "num = int(input(\"Digite um número: \"))\n",
        "\n",
        "for num1 in range (1, num):\n",
        "  print(num1)"
      ],
      "metadata": {
        "id": "ZyR_OEOBhUqO",
        "colab": {
          "base_uri": "https://localhost:8080/"
        },
        "outputId": "6c023dae-826e-4564-a3dd-7193657b4d02"
      },
      "execution_count": 5,
      "outputs": [
        {
          "output_type": "stream",
          "name": "stdout",
          "text": [
            "Digite um número: 10\n",
            "1\n",
            "2\n",
            "3\n",
            "4\n",
            "5\n",
            "6\n",
            "7\n",
            "8\n",
            "9\n"
          ]
        }
      ]
    },
    {
      "cell_type": "markdown",
      "source": [
        "3. Contagem Regressiva\n",
        "\n",
        "Tarefa: Exiba uma contagem regressiva de 10 até 1 e, ao final, exiba \"Fogo!\"."
      ],
      "metadata": {
        "id": "AnaQamSshVDJ"
      }
    },
    {
      "cell_type": "code",
      "source": [
        "for num in range (10, 0, -1):\n",
        "  print(num)\n",
        "\n",
        "print(\"Fogo!\")"
      ],
      "metadata": {
        "id": "tp3QFRPdhYPb",
        "colab": {
          "base_uri": "https://localhost:8080/"
        },
        "outputId": "beb1e849-570b-43ec-b779-33342b06cd78"
      },
      "execution_count": 12,
      "outputs": [
        {
          "output_type": "stream",
          "name": "stdout",
          "text": [
            "10\n",
            "9\n",
            "8\n",
            "7\n",
            "6\n",
            "5\n",
            "4\n",
            "3\n",
            "2\n",
            "1\n",
            "Fogo!\n"
          ]
        }
      ]
    },
    {
      "cell_type": "markdown",
      "source": [
        "4. Contagem com Passo Personalizado\n",
        "\n",
        "Tarefa: Peça ao usuário três números: início, fim e passo e exiba a sequência correspondente."
      ],
      "metadata": {
        "id": "40K0JsD5hYhs"
      }
    },
    {
      "cell_type": "code",
      "source": [
        "print(\"Contagem de passo\")\n",
        "\n",
        "num1 = int(input(\"Digite o número inicial: \"))\n",
        "num2 = int(input(\"Digite o número final: \"))\n",
        "num3 = int(input(\"Digite o número do intervalo da contgem: \"))\n",
        "\n",
        "for tarefa in range (num1, num2, num3):\n",
        "  print(tarefa)"
      ],
      "metadata": {
        "id": "qZVdMZGmhaeQ",
        "colab": {
          "base_uri": "https://localhost:8080/"
        },
        "outputId": "c6e14dad-c67c-489d-a508-f1bbd0e49d23"
      },
      "execution_count": 14,
      "outputs": [
        {
          "output_type": "stream",
          "name": "stdout",
          "text": [
            "Contagem de passo\n",
            "Digite o número inicial: 0\n",
            "Digite o número final: 20\n",
            "Digite o número do intervalo da contgem: 5\n",
            "0\n",
            "5\n",
            "10\n",
            "15\n"
          ]
        }
      ]
    },
    {
      "cell_type": "markdown",
      "source": [
        "5. Números Pares entre 1 e 20\n",
        "\n",
        "Tarefa: Exiba todos os números pares de 1 a 20."
      ],
      "metadata": {
        "id": "v3dxZ2YZhav9"
      }
    },
    {
      "cell_type": "code",
      "source": [
        "for num in range (2, 21, 2):\n",
        "  print(num)"
      ],
      "metadata": {
        "id": "iVI_u0aehchB",
        "colab": {
          "base_uri": "https://localhost:8080/"
        },
        "outputId": "972cc7c0-1ec3-4305-e942-b3bcb952ce95"
      },
      "execution_count": 20,
      "outputs": [
        {
          "output_type": "stream",
          "name": "stdout",
          "text": [
            "2\n",
            "4\n",
            "6\n",
            "8\n",
            "10\n",
            "12\n",
            "14\n",
            "16\n",
            "18\n",
            "20\n"
          ]
        }
      ]
    },
    {
      "cell_type": "markdown",
      "source": [
        "**Operações Matemáticas**"
      ],
      "metadata": {
        "id": "il6-NViphctr"
      }
    },
    {
      "cell_type": "markdown",
      "source": [
        "6. Soma dos Números de 1 a N\n",
        "\n",
        "Tarefa: Solicite um número ao usuário e exiba a soma de 1 até esse número."
      ],
      "metadata": {
        "id": "dVN71r6hhe42"
      }
    },
    {
      "cell_type": "code",
      "source": [
        "\"\"\"soma = 0\n",
        "num1 = int(input(\"Digite um número: \"))\n",
        "for num in range (1, num1):\n",
        "  soma += num\n",
        "print(f\"A soma de 1 a {num1} é {soma}\")"
      ],
      "metadata": {
        "id": "IubQnw6vhgXA",
        "colab": {
          "base_uri": "https://localhost:8080/"
        },
        "outputId": "7b20ebc6-95e9-4bb0-ef6a-2dece92fa941"
      },
      "execution_count": 37,
      "outputs": [
        {
          "output_type": "stream",
          "name": "stdout",
          "text": [
            "Digite um número: 4\n",
            "A soma de 1 a 4 é 6\n"
          ]
        }
      ]
    },
    {
      "cell_type": "markdown",
      "source": [
        "7. Tabuada de um Número\n",
        "\n",
        "Tarefa: Peça ao usuário um número e exiba a tabuada desse número de 1 a 10."
      ],
      "metadata": {
        "id": "H9vSharHhhbm"
      }
    },
    {
      "cell_type": "code",
      "source": [],
      "metadata": {
        "id": "xJUO0mWchh4K"
      },
      "execution_count": null,
      "outputs": []
    },
    {
      "cell_type": "markdown",
      "source": [
        "8. Média de Notas\n",
        "\n",
        "Tarefa: Peça 5 notas ao usuário e calcule a média delas."
      ],
      "metadata": {
        "id": "-bvdZKHZhjr4"
      }
    },
    {
      "cell_type": "code",
      "source": [],
      "metadata": {
        "id": "78lI5e6_hjds"
      },
      "execution_count": null,
      "outputs": []
    },
    {
      "cell_type": "markdown",
      "source": [
        "9. Soma dos Dígitos de um Número\n",
        "\n",
        "Tarefa: Peça um número ao usuário e some seus dígitos (exemplo: 123 → 1+2+3 = 6)."
      ],
      "metadata": {
        "id": "r1_A4Rq1hka5"
      }
    },
    {
      "cell_type": "code",
      "source": [],
      "metadata": {
        "id": "pQo5xuVPhl9k"
      },
      "execution_count": null,
      "outputs": []
    },
    {
      "cell_type": "markdown",
      "source": [
        "10. Fatorial de um Número\n",
        "\n",
        "Tarefa: Solicite um número ao usuário e exiba o seu fatorial (n!)."
      ],
      "metadata": {
        "id": "FZA7t6c4hmOU"
      }
    },
    {
      "cell_type": "markdown",
      "source": [
        "**Estruturas Condicionais com Repetição**"
      ],
      "metadata": {
        "id": "hrOlgpdjhn1F"
      }
    },
    {
      "cell_type": "markdown",
      "source": [
        "11. Números Pares e Ímpares\n",
        "\n",
        "Tarefa: Escreva um programa que exiba os números de 1 a 20 e indique se cada um é par ou ímpar."
      ],
      "metadata": {
        "id": "uLRFobTdhqHM"
      }
    },
    {
      "cell_type": "code",
      "source": [],
      "metadata": {
        "id": "7gaK-RLWhrkj"
      },
      "execution_count": null,
      "outputs": []
    },
    {
      "cell_type": "markdown",
      "source": [
        "12. Tabuada Personalizada\n",
        "\n",
        "Tarefa: Peça um número ao usuário e exiba sua tabuada de 1 a 10, mas se for múltiplo de 3, substitua pelo texto \"Multiplo de 3\"."
      ],
      "metadata": {
        "id": "RYcN3vTAhr1Y"
      }
    },
    {
      "cell_type": "code",
      "source": [],
      "metadata": {
        "id": "tbMFrG1bhs7U"
      },
      "execution_count": null,
      "outputs": []
    },
    {
      "cell_type": "markdown",
      "source": [
        "13. Soma dos Números Pares e Ímpares\n",
        "\n",
        "Tarefa: Peça um número ao usuário e some separadamente os pares e os ímpares de 1 até esse número."
      ],
      "metadata": {
        "id": "CFTfVi9thtZC"
      }
    },
    {
      "cell_type": "code",
      "source": [],
      "metadata": {
        "id": "1uy4d_JIhvOe"
      },
      "execution_count": null,
      "outputs": []
    },
    {
      "cell_type": "markdown",
      "source": [
        "14. Maior e Menor Número da Lista\n",
        "\n",
        "Tarefa: Peça ao usuário para digitar 5 números e exiba o maior e o menor deles."
      ],
      "metadata": {
        "id": "2hLAClVjhvf2"
      }
    },
    {
      "cell_type": "code",
      "source": [],
      "metadata": {
        "id": "NRF-NRcEhw87"
      },
      "execution_count": null,
      "outputs": []
    },
    {
      "cell_type": "markdown",
      "source": [
        "**Contagem e Classificação**"
      ],
      "metadata": {
        "id": "giyofVI8hxVt"
      }
    },
    {
      "cell_type": "markdown",
      "source": [
        "15. Números Positivos e Negativos\n",
        "\n",
        "Tarefa: Peça ao usuário 10 números e exiba quantos são positivos, negativos ou zero."
      ],
      "metadata": {
        "id": "GN6DsleRhy4H"
      }
    },
    {
      "cell_type": "code",
      "source": [],
      "metadata": {
        "id": "dQMYSVyIh0Ly"
      },
      "execution_count": null,
      "outputs": []
    },
    {
      "cell_type": "markdown",
      "source": [
        "16. Contagem de Números Múltiplos de 3 e 5\n",
        "\n",
        "Tarefa: Peça ao usuário um número N e exiba quantos números entre 1 e N são múltiplos de 3 ou 5."
      ],
      "metadata": {
        "id": "m6ZoOKnOh0Wt"
      }
    },
    {
      "cell_type": "code",
      "source": [],
      "metadata": {
        "id": "oVcMJTath1le"
      },
      "execution_count": null,
      "outputs": []
    },
    {
      "cell_type": "markdown",
      "source": [
        "**Lógica Condicional Aplicada**"
      ],
      "metadata": {
        "id": "wKG4rmNRh2PZ"
      }
    },
    {
      "cell_type": "markdown",
      "source": [
        "17. Verificador de Paridade de Um Número\n",
        "\n",
        "Tarefa: Solicite ao usuário um número e verifique se ele é par ou ímpar.\n",
        "\n",
        "Se o número for par, divida-o por 2 e exiba o resultado.\n",
        "\n",
        "Se o número for ímpar, multiplique-o por 3 e exiba o resultado."
      ],
      "metadata": {
        "id": "-rqr-oIXh3oz"
      }
    },
    {
      "cell_type": "code",
      "source": [],
      "metadata": {
        "id": "IlmtYYcgh45W"
      },
      "execution_count": null,
      "outputs": []
    },
    {
      "cell_type": "markdown",
      "source": [
        "18. Números Múltiplos de 3 e 5\n",
        "\n",
        "Tarefa: Peça ao usuário um número N e exiba todos os números de 1 até N que são múltiplos de 3 e 5."
      ],
      "metadata": {
        "id": "yFSzcmpnh6Mr"
      }
    },
    {
      "cell_type": "code",
      "source": [],
      "metadata": {
        "id": "4578_8Zxh6n2"
      },
      "execution_count": null,
      "outputs": []
    },
    {
      "cell_type": "markdown",
      "source": [
        "19. Adivinhação de Número\n",
        "\n",
        "Tarefa: O computador escolhe um número aleatório de 1 a 10, e o usuário tem 3 tentativas para adivinhar. Dê dicas se o número é maior ou menor."
      ],
      "metadata": {
        "id": "aM8WtP1zh7mO"
      }
    },
    {
      "cell_type": "code",
      "source": [],
      "metadata": {
        "id": "zfhrxiAoh8LF"
      },
      "execution_count": null,
      "outputs": []
    },
    {
      "cell_type": "markdown",
      "source": [
        "20. Números Primos\n",
        "\n",
        "Tarefa: Crie um programa que solicite ao usuário um número e informe se ele é primo ou não. Lembre-se de que um número primo é aquele que é divisível apenas por 1 e por ele mesmo."
      ],
      "metadata": {
        "id": "Mv_vCc6Eh9T3"
      }
    },
    {
      "cell_type": "code",
      "source": [],
      "metadata": {
        "id": "ws3bCQ-Eh-J-"
      },
      "execution_count": null,
      "outputs": []
    }
  ]
}