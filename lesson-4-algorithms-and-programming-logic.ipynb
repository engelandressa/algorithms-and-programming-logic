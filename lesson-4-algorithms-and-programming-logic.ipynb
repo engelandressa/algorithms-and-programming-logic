{
  "nbformat": 4,
  "nbformat_minor": 0,
  "metadata": {
    "colab": {
      "provenance": []
    },
    "kernelspec": {
      "name": "python3",
      "display_name": "Python 3"
    },
    "language_info": {
      "name": "python"
    }
  },
  "cells": [
    {
      "cell_type": "markdown",
      "source": [
        "**Lista de Exercícios - Laço for em Python**"
      ],
      "metadata": {
        "id": "dmS2GYOYhKlF"
      }
    },
    {
      "cell_type": "markdown",
      "source": [
        "1. Contagem de 1 a 10\n",
        "\n",
        "Tarefa: Escreva um programa que exiba os números de 1 a 10 usando for."
      ],
      "metadata": {
        "id": "0SemjRwDhJAp"
      }
    },
    {
      "cell_type": "code",
      "execution_count": null,
      "metadata": {
        "id": "_QYtFD4BhGa6",
        "colab": {
          "base_uri": "https://localhost:8080/"
        },
        "outputId": "0da15755-8eb1-48c2-ff04-c709b7aa01c7"
      },
      "outputs": [
        {
          "output_type": "stream",
          "name": "stdout",
          "text": [
            "1\n",
            "2\n",
            "3\n",
            "4\n",
            "5\n",
            "6\n",
            "7\n",
            "8\n",
            "9\n",
            "10\n"
          ]
        }
      ],
      "source": [
        "for num in range (1, 11):\n",
        "    print(num)"
      ]
    },
    {
      "cell_type": "markdown",
      "source": [
        "2. Contagem Personalizada\n",
        "\n",
        "Tarefa: Peça ao usuário um número e exiba uma contagem de 1 até esse número.\n",
        "\n"
      ],
      "metadata": {
        "id": "NASFXbF0hUBT"
      }
    },
    {
      "cell_type": "code",
      "source": [
        "num = int(input(\"Digite um número: \"))\n",
        "\n",
        "for num1 in range (1, num):\n",
        "  print(num1)"
      ],
      "metadata": {
        "id": "ZyR_OEOBhUqO",
        "colab": {
          "base_uri": "https://localhost:8080/"
        },
        "outputId": "6c023dae-826e-4564-a3dd-7193657b4d02"
      },
      "execution_count": null,
      "outputs": [
        {
          "output_type": "stream",
          "name": "stdout",
          "text": [
            "Digite um número: 10\n",
            "1\n",
            "2\n",
            "3\n",
            "4\n",
            "5\n",
            "6\n",
            "7\n",
            "8\n",
            "9\n"
          ]
        }
      ]
    },
    {
      "cell_type": "markdown",
      "source": [
        "3. Contagem Regressiva\n",
        "\n",
        "Tarefa: Exiba uma contagem regressiva de 10 até 1 e, ao final, exiba \"Fogo!\"."
      ],
      "metadata": {
        "id": "AnaQamSshVDJ"
      }
    },
    {
      "cell_type": "code",
      "source": [
        "for num in range (10, 0, -1):\n",
        "  print(num)\n",
        "\n",
        "print(\"Fogo!\")"
      ],
      "metadata": {
        "id": "tp3QFRPdhYPb",
        "colab": {
          "base_uri": "https://localhost:8080/"
        },
        "outputId": "beb1e849-570b-43ec-b779-33342b06cd78"
      },
      "execution_count": null,
      "outputs": [
        {
          "output_type": "stream",
          "name": "stdout",
          "text": [
            "10\n",
            "9\n",
            "8\n",
            "7\n",
            "6\n",
            "5\n",
            "4\n",
            "3\n",
            "2\n",
            "1\n",
            "Fogo!\n"
          ]
        }
      ]
    },
    {
      "cell_type": "markdown",
      "source": [
        "4. Contagem com Passo Personalizado\n",
        "\n",
        "Tarefa: Peça ao usuário três números: início, fim e passo e exiba a sequência correspondente."
      ],
      "metadata": {
        "id": "40K0JsD5hYhs"
      }
    },
    {
      "cell_type": "code",
      "source": [
        "print(\"Contagem de passo\")\n",
        "\n",
        "num1 = int(input(\"Digite o número inicial: \"))\n",
        "num2 = int(input(\"Digite o número final: \"))\n",
        "num3 = int(input(\"Digite o número do intervalo da contgem: \"))\n",
        "\n",
        "for tarefa in range (num1, num2, num3):\n",
        "  print(tarefa)"
      ],
      "metadata": {
        "id": "qZVdMZGmhaeQ",
        "colab": {
          "base_uri": "https://localhost:8080/"
        },
        "outputId": "c6e14dad-c67c-489d-a508-f1bbd0e49d23"
      },
      "execution_count": null,
      "outputs": [
        {
          "output_type": "stream",
          "name": "stdout",
          "text": [
            "Contagem de passo\n",
            "Digite o número inicial: 0\n",
            "Digite o número final: 20\n",
            "Digite o número do intervalo da contgem: 5\n",
            "0\n",
            "5\n",
            "10\n",
            "15\n"
          ]
        }
      ]
    },
    {
      "cell_type": "markdown",
      "source": [
        "5. Números Pares entre 1 e 20\n",
        "\n",
        "Tarefa: Exiba todos os números pares de 1 a 20."
      ],
      "metadata": {
        "id": "v3dxZ2YZhav9"
      }
    },
    {
      "cell_type": "code",
      "source": [
        "for num in range (2, 21, 2):\n",
        "  print(num)"
      ],
      "metadata": {
        "id": "iVI_u0aehchB",
        "colab": {
          "base_uri": "https://localhost:8080/"
        },
        "outputId": "972cc7c0-1ec3-4305-e942-b3bcb952ce95"
      },
      "execution_count": null,
      "outputs": [
        {
          "output_type": "stream",
          "name": "stdout",
          "text": [
            "2\n",
            "4\n",
            "6\n",
            "8\n",
            "10\n",
            "12\n",
            "14\n",
            "16\n",
            "18\n",
            "20\n"
          ]
        }
      ]
    },
    {
      "cell_type": "markdown",
      "source": [
        "**Operações Matemáticas**"
      ],
      "metadata": {
        "id": "il6-NViphctr"
      }
    },
    {
      "cell_type": "markdown",
      "source": [
        "6. Soma dos Números de 1 a N\n",
        "\n",
        "Tarefa: Solicite um número ao usuário e exiba a soma de 1 até esse número."
      ],
      "metadata": {
        "id": "dVN71r6hhe42"
      }
    },
    {
      "cell_type": "code",
      "source": [
        "\"\"\"soma = 0\n",
        "num1 = int(input(\"Digite um número: \"))\n",
        "for num in range (1, num1):\n",
        "  soma += num\n",
        "print(f\"A soma de 1 a {num1} é {soma}\")"
      ],
      "metadata": {
        "id": "IubQnw6vhgXA",
        "colab": {
          "base_uri": "https://localhost:8080/"
        },
        "outputId": "7b20ebc6-95e9-4bb0-ef6a-2dece92fa941"
      },
      "execution_count": null,
      "outputs": [
        {
          "output_type": "stream",
          "name": "stdout",
          "text": [
            "Digite um número: 4\n",
            "A soma de 1 a 4 é 6\n"
          ]
        }
      ]
    },
    {
      "cell_type": "markdown",
      "source": [
        "7. Tabuada de um Número\n",
        "\n",
        "Tarefa: Peça ao usuário um número e exiba a tabuada desse número de 1 a 10."
      ],
      "metadata": {
        "id": "H9vSharHhhbm"
      }
    },
    {
      "cell_type": "code",
      "source": [
        "print(\"Calcule a tabuada!\")\n",
        "\n",
        "tabuada = int(input(\"Digite o número da tabuada: \"))\n",
        "num = 0\n",
        "\n",
        "for i in range(0, 10):\n",
        "  for j in range(1):\n",
        "    tabuada * tabuada\n",
        "    tab = (num + 1)\n",
        "    num += 1\n",
        "    print(f\"{tabuada} x {tab} = {tabuada * num}\")\n"
      ],
      "metadata": {
        "id": "xJUO0mWchh4K",
        "colab": {
          "base_uri": "https://localhost:8080/"
        },
        "outputId": "4b8009d0-ff5d-451a-bfa3-d4fe1d121b53"
      },
      "execution_count": null,
      "outputs": [
        {
          "output_type": "stream",
          "name": "stdout",
          "text": [
            "Calcule a tabuada!\n",
            "Digite o número da tabuada: 3\n",
            "3 x 1 = 3\n",
            "3 x 2 = 6\n",
            "3 x 3 = 9\n",
            "3 x 4 = 12\n",
            "3 x 5 = 15\n",
            "3 x 6 = 18\n",
            "3 x 7 = 21\n",
            "3 x 8 = 24\n",
            "3 x 9 = 27\n",
            "3 x 10 = 30\n"
          ]
        }
      ]
    },
    {
      "cell_type": "markdown",
      "source": [
        "8. Média de Notas\n",
        "\n",
        "Tarefa: Peça 5 notas ao usuário e calcule a média delas."
      ],
      "metadata": {
        "id": "-bvdZKHZhjr4"
      }
    },
    {
      "cell_type": "code",
      "source": [
        "soma = 0\n",
        "\n",
        "for i in range(0,5):\n",
        "  nota = int(input(\"Digite a nota: \"))\n",
        "  soma += nota\n",
        "\n",
        "media = soma / 5\n",
        "print(f\"{media}\")\n"
      ],
      "metadata": {
        "id": "78lI5e6_hjds",
        "colab": {
          "base_uri": "https://localhost:8080/"
        },
        "outputId": "71f529c3-7e9c-4634-f3a0-746ab07fcd37"
      },
      "execution_count": null,
      "outputs": [
        {
          "output_type": "stream",
          "name": "stdout",
          "text": [
            "Digite a nota: 5\n",
            "Digite a nota: 5\n",
            "Digite a nota: 5\n",
            "Digite a nota: 5\n",
            "Digite a nota: 5\n",
            "5.0\n"
          ]
        }
      ]
    },
    {
      "cell_type": "markdown",
      "source": [
        "9. Soma dos Dígitos de um Número\n",
        "\n",
        "Tarefa: Peça um número ao usuário e some seus dígitos (exemplo: 123 → 1+2+3 = 6)."
      ],
      "metadata": {
        "id": "r1_A4Rq1hka5"
      }
    },
    {
      "cell_type": "code",
      "source": [
        "soma = 0\n",
        "\n",
        "for i in range(0,3):\n",
        "  num = int(input(\"Digite um número: \"))\n",
        "  soma += num\n",
        "\n",
        "print(f\"A soma é: {soma}\")\n"
      ],
      "metadata": {
        "id": "pQo5xuVPhl9k",
        "colab": {
          "base_uri": "https://localhost:8080/"
        },
        "outputId": "2577d2ce-a987-4424-b84c-a8c2a1c3941a"
      },
      "execution_count": null,
      "outputs": [
        {
          "output_type": "stream",
          "name": "stdout",
          "text": [
            "Digite um número: 10\n",
            "Digite um número: 20\n",
            "Digite um número: 30\n",
            "A soma é: 60\n"
          ]
        }
      ]
    },
    {
      "cell_type": "markdown",
      "source": [
        "10. Fatorial de um Número\n",
        "\n",
        "Tarefa: Solicite um número ao usuário e exiba o seu fatorial (n!)."
      ],
      "metadata": {
        "id": "FZA7t6c4hmOU"
      }
    },
    {
      "cell_type": "code",
      "source": [
        "fat = int(input(\"Digite um número para saber o fatorial: \"))\n",
        "fatorial = 1\n",
        "\n",
        "for i in range(fat, 0, -1):\n",
        "  fatorial *= i\n",
        "\n",
        "print(f\"O fatorial de {fat}! é: {fatorial}\")"
      ],
      "metadata": {
        "colab": {
          "base_uri": "https://localhost:8080/"
        },
        "id": "90kNClI694mU",
        "outputId": "cb9ec27a-177d-4237-ce36-f399a351c73d"
      },
      "execution_count": null,
      "outputs": [
        {
          "output_type": "stream",
          "name": "stdout",
          "text": [
            "Digite um número para saber o fatorial: 5\n",
            "O fatorial de 5! é: 120\n"
          ]
        }
      ]
    },
    {
      "cell_type": "markdown",
      "source": [
        "**Estruturas Condicionais com Repetição**"
      ],
      "metadata": {
        "id": "hrOlgpdjhn1F"
      }
    },
    {
      "cell_type": "markdown",
      "source": [
        "11. Números Pares e Ímpares\n",
        "\n",
        "Tarefa: Escreva um programa que exiba os números de 1 a 20 e indique se cada um é par ou ímpar."
      ],
      "metadata": {
        "id": "uLRFobTdhqHM"
      }
    },
    {
      "cell_type": "code",
      "source": [
        "for i in range(1,21):\n",
        "  if i % 2 == 0:\n",
        "    print(f\"O número {i} é par\")\n",
        "  else:\n",
        "    print(f\"O número {i} é ímpar\")\n"
      ],
      "metadata": {
        "id": "7gaK-RLWhrkj",
        "colab": {
          "base_uri": "https://localhost:8080/"
        },
        "outputId": "23cd9212-c097-4601-8636-69c00117df5f"
      },
      "execution_count": null,
      "outputs": [
        {
          "output_type": "stream",
          "name": "stdout",
          "text": [
            "O número 1 é ímpar\n",
            "O número 2 é par\n",
            "O número 3 é ímpar\n",
            "O número 4 é par\n",
            "O número 5 é ímpar\n",
            "O número 6 é par\n",
            "O número 7 é ímpar\n",
            "O número 8 é par\n",
            "O número 9 é ímpar\n",
            "O número 10 é par\n",
            "O número 11 é ímpar\n",
            "O número 12 é par\n",
            "O número 13 é ímpar\n",
            "O número 14 é par\n",
            "O número 15 é ímpar\n",
            "O número 16 é par\n",
            "O número 17 é ímpar\n",
            "O número 18 é par\n",
            "O número 19 é ímpar\n",
            "O número 20 é par\n"
          ]
        }
      ]
    },
    {
      "cell_type": "markdown",
      "source": [
        "12. Tabuada Personalizada\n",
        "\n",
        "Tarefa: Peça um número ao usuário e exiba sua tabuada de 1 a 10, mas se for múltiplo de 3, substitua pelo texto \"Multiplo de 3\"."
      ],
      "metadata": {
        "id": "RYcN3vTAhr1Y"
      }
    },
    {
      "cell_type": "code",
      "source": [
        "print(\"Calcule a tabuada!\")\n",
        "\n",
        "tabuada = int(input(\"Digite o número da tabuada: \"))\n",
        "num = 0\n",
        "if tabuada % 3 == 0:\n",
        "  print(\"Múltiplo de 3\")\n",
        "\n",
        "for i in range(0, 10):\n",
        "  for j in range(1):\n",
        "    tabuada * tabuada\n",
        "    tab = (num + 1)\n",
        "    num += 1\n",
        "    print(f\"{tabuada} x {tab} = {tabuada * num}\")\n"
      ],
      "metadata": {
        "id": "tbMFrG1bhs7U",
        "colab": {
          "base_uri": "https://localhost:8080/"
        },
        "outputId": "f1a8b650-2cfd-4f73-e6c3-46544e9848cc"
      },
      "execution_count": null,
      "outputs": [
        {
          "output_type": "stream",
          "name": "stdout",
          "text": [
            "Calcule a tabuada!\n",
            "Digite o número da tabuada: 3\n",
            "Múltiplo de 3\n",
            "3 x 1 = 3\n",
            "3 x 2 = 6\n",
            "3 x 3 = 9\n",
            "3 x 4 = 12\n",
            "3 x 5 = 15\n",
            "3 x 6 = 18\n",
            "3 x 7 = 21\n",
            "3 x 8 = 24\n",
            "3 x 9 = 27\n",
            "3 x 10 = 30\n"
          ]
        }
      ]
    },
    {
      "cell_type": "markdown",
      "source": [
        "13. Soma dos Números Pares e Ímpares\n",
        "\n",
        "Tarefa: Peça um número ao usuário e some separadamente os pares e os ímpares de 1 até esse número."
      ],
      "metadata": {
        "id": "CFTfVi9thtZC"
      }
    },
    {
      "cell_type": "code",
      "source": [
        "numero = int(input(\"Digite um número inteiro positivo: \"))\n",
        "soma_pares = 0\n",
        "soma_impares = 0\n",
        "\n",
        "for i in range(1, numero + 1):\n",
        "    if i % 2 == 0:\n",
        "        soma_pares += i\n",
        "    else:\n",
        "        soma_impares += i\n",
        "\n",
        "print(\"Soma dos números pares:\", soma_pares)\n",
        "print(\"Soma dos números ímpares:\", soma_impares)\n"
      ],
      "metadata": {
        "colab": {
          "base_uri": "https://localhost:8080/"
        },
        "id": "xG4DSnH3wHIr",
        "outputId": "b4fc8386-724d-4e6a-cb92-b23e320371a1"
      },
      "execution_count": null,
      "outputs": [
        {
          "output_type": "stream",
          "name": "stdout",
          "text": [
            "Digite um número inteiro positivo: 100\n",
            "Soma dos números pares: 2550\n",
            "Soma dos números ímpares: 2500\n"
          ]
        }
      ]
    },
    {
      "cell_type": "markdown",
      "source": [
        "14. Maior e Menor Número da Lista\n",
        "\n",
        "Tarefa: Peça ao usuário para digitar 5 números e exiba o maior e o menor deles."
      ],
      "metadata": {
        "id": "2hLAClVjhvf2"
      }
    },
    {
      "cell_type": "code",
      "source": [
        "numeros = []\n",
        "\n",
        "for i in range(0, 5):\n",
        "    num = float(input(f\"Digite o {i+1}º número: \"))\n",
        "    numeros.append(num)\n",
        "\n",
        "maior = max(numeros)\n",
        "menor = min(numeros)\n",
        "\n",
        "print(f\"Maior número digitado:{maior}\")\n",
        "print(f\"Menor número digitado:{menor}\")\n"
      ],
      "metadata": {
        "colab": {
          "base_uri": "https://localhost:8080/"
        },
        "id": "ppNUoc9CCFkq",
        "outputId": "c7f90277-f0fd-48d6-85bb-d9d39f680f57"
      },
      "execution_count": 26,
      "outputs": [
        {
          "output_type": "stream",
          "name": "stdout",
          "text": [
            "Digite o 1º número: 10\n",
            "Digite o 2º número: 20\n",
            "Digite o 3º número: 30\n",
            "Digite o 4º número: 100\n",
            "Digite o 5º número: 1\n",
            "Maior número digitado:100.0\n",
            "Menor número digitado:1.0\n"
          ]
        }
      ]
    },
    {
      "cell_type": "code",
      "source": [
        "numeros = []\n",
        "\n",
        "for i in range(5):\n",
        "    num = float(input(f\"Digite o {i+1}º número: \"))\n",
        "    numeros.append(num)\n",
        "\n",
        "maior = max(numeros)\n",
        "menor = min(numeros)\n",
        "\n",
        "print(\"Maior número digitado:\", maior)\n",
        "print(\"Menor número digitado:\", menor)\n"
      ],
      "metadata": {
        "id": "NRF-NRcEhw87",
        "colab": {
          "base_uri": "https://localhost:8080/"
        },
        "outputId": "d16dab03-2efa-44ef-f97d-c49fd797a4fe"
      },
      "execution_count": 22,
      "outputs": [
        {
          "output_type": "stream",
          "name": "stdout",
          "text": [
            "Digite o 1º número: 10\n",
            "Digite o 2º número: 20\n",
            "Digite o 3º número: 30\n",
            "Digite o 4º número: 30\n",
            "Digite o 5º número: 10\n",
            "Maior número digitado: 30.0\n",
            "Menor número digitado: 10.0\n"
          ]
        }
      ]
    },
    {
      "cell_type": "markdown",
      "source": [
        "**Contagem e Classificação**"
      ],
      "metadata": {
        "id": "giyofVI8hxVt"
      }
    },
    {
      "cell_type": "markdown",
      "source": [
        "15. Números Positivos e Negativos\n",
        "\n",
        "Tarefa: Peça ao usuário 10 números e exiba quantos são positivos, negativos ou zero."
      ],
      "metadata": {
        "id": "GN6DsleRhy4H"
      }
    },
    {
      "cell_type": "code",
      "source": [
        "numeros = []\n",
        "positivo = 0\n",
        "negativo = 0\n",
        "zero = 0\n",
        "\n",
        "for i in range(10):\n",
        "    num = float(input(f\"Digite o {i+1}º número: \"))\n",
        "    numeros.append(num)\n",
        "\n",
        "    if num > 0:\n",
        "      positivo += 1\n",
        "    elif num < 0:\n",
        "      negativo += 1\n",
        "    else:\n",
        "      zero += 1\n",
        "\n",
        "print(f\"Números positivos: {positivo}\")\n",
        "print(f\"Números negativos: {negativo}\")\n",
        "print(f\"Números zero: {zero}\")\n"
      ],
      "metadata": {
        "id": "dQMYSVyIh0Ly",
        "colab": {
          "base_uri": "https://localhost:8080/"
        },
        "outputId": "bb7bdbb3-d72c-4ddc-f817-dcd72ec569ca"
      },
      "execution_count": 31,
      "outputs": [
        {
          "output_type": "stream",
          "name": "stdout",
          "text": [
            "Digite o 1º número: 10\n",
            "Digite o 2º número: 20\n",
            "Digite o 3º número: 30\n",
            "Digite o 4º número: 40\n",
            "Digite o 5º número: 0\n",
            "Digite o 6º número: -10\n",
            "Digite o 7º número: -20\n",
            "Digite o 8º número: -30\n",
            "Digite o 9º número: -40\n",
            "Digite o 10º número: 0\n",
            "Números positivos: 4\n",
            "Números negativos: 4\n",
            "Números zero: 2\n"
          ]
        }
      ]
    },
    {
      "cell_type": "code",
      "source": [
        "numeros = []\n",
        "positivo = []\n",
        "negativo = []\n",
        "zero = []\n",
        "\n",
        "for i in range(10):\n",
        "    num = float(input(f\"Digite o {i+1}º número: \"))\n",
        "    numeros.append(num)\n",
        "\n",
        "    if num > 0:\n",
        "      positivo.append(num)\n",
        "    elif num < 0:\n",
        "      negativo.append(num)\n",
        "    else:\n",
        "      zero.append(num)\n",
        "\n",
        "print(f\"Números positivos: {positivo}\")\n",
        "print(f\"Números negativos: {negativo}\")\n",
        "print(f\"Números zero: {zero}\")\n"
      ],
      "metadata": {
        "colab": {
          "base_uri": "https://localhost:8080/"
        },
        "id": "eMD5QEuLF09J",
        "outputId": "66d791d5-c5cc-49db-9a80-d5d60e50195e"
      },
      "execution_count": 33,
      "outputs": [
        {
          "output_type": "stream",
          "name": "stdout",
          "text": [
            "Digite o 1º número: 10\n",
            "Digite o 2º número: 20\n",
            "Digite o 3º número: 30\n",
            "Digite o 4º número: 40\n",
            "Digite o 5º número: 50\n",
            "Digite o 6º número: -10\n",
            "Digite o 7º número: -20\n",
            "Digite o 8º número: -30\n",
            "Digite o 9º número: -40\n",
            "Digite o 10º número: 0\n",
            "Números positivos: [10.0, 20.0, 30.0, 40.0, 50.0]\n",
            "Números negativos: [-10.0, -20.0, -30.0, -40.0]\n",
            "Números zero: [0.0]\n"
          ]
        }
      ]
    },
    {
      "cell_type": "code",
      "source": [
        "numeros = []\n",
        "positivo = []\n",
        "negativo = []\n",
        "zero = []\n",
        "\n",
        "for i in range(10):\n",
        "    num = float(input(f\"Digite o {i+1}º número: \"))\n",
        "    numeros.append(num)\n",
        "\n",
        "    if num > 0:\n",
        "      positivo.append(num)\n",
        "    elif num < 0:\n",
        "      negativo.append(num)\n",
        "    else:\n",
        "      zero.append(num)\n",
        "\n",
        "print(f\"Números positivos ({len(positivo)}): {positivo}\")\n",
        "print(f\"Números negativos ({len(negativo)}): {negativo}\")\n",
        "print(f\"Números iguais a zero ({len(zero)}): {zero}\")\n",
        "\n"
      ],
      "metadata": {
        "colab": {
          "base_uri": "https://localhost:8080/"
        },
        "id": "vQ_2nL8bGbRu",
        "outputId": "1029991f-c370-4f12-c353-80899aac57bb"
      },
      "execution_count": 34,
      "outputs": [
        {
          "output_type": "stream",
          "name": "stdout",
          "text": [
            "Digite o 1º número: 10\n",
            "Digite o 2º número: 20\n",
            "Digite o 3º número: 30\n",
            "Digite o 4º número: 40\n",
            "Digite o 5º número: 50\n",
            "Digite o 6º número: -10\n",
            "Digite o 7º número: -20\n",
            "Digite o 8º número: -30\n",
            "Digite o 9º número: -40\n",
            "Digite o 10º número: 0\n",
            "Números positivos (5): [10.0, 20.0, 30.0, 40.0, 50.0]\n",
            "Números negativos (4): [-10.0, -20.0, -30.0, -40.0]\n",
            "Números iguais a zero (1): [0.0]\n"
          ]
        }
      ]
    },
    {
      "cell_type": "markdown",
      "source": [
        "16. Contagem de Números Múltiplos de 3 e 5\n",
        "\n",
        "Tarefa: Peça ao usuário um número N e exiba quantos números entre 1 e N são múltiplos de 3 ou 5."
      ],
      "metadata": {
        "id": "m6ZoOKnOh0Wt"
      }
    },
    {
      "cell_type": "code",
      "source": [
        "numeros = []\n",
        "multiplo = 0\n",
        "\n",
        "N = int(input(\"Digite um número inteiro positivo: \"))\n",
        "\n",
        "for i in range(1, N + 1):\n",
        "    if i % 3 == 0 or i % 5 == 0:\n",
        "      multiplo += 1\n",
        "\n",
        "print(f\"Quantidade de números entre 1 e {N} que são múltiplos de 3 ou 5 é {multiplo}\")\n"
      ],
      "metadata": {
        "id": "oVcMJTath1le",
        "colab": {
          "base_uri": "https://localhost:8080/"
        },
        "outputId": "b7fc2ee8-e944-4d6b-e381-b725d89e0076"
      },
      "execution_count": 38,
      "outputs": [
        {
          "output_type": "stream",
          "name": "stdout",
          "text": [
            "Digite um número inteiro positivo: 5\n",
            "Quantidade de números entre 1 e 5 que são múltiplos de 3 ou 5 é 2\n"
          ]
        }
      ]
    },
    {
      "cell_type": "markdown",
      "source": [
        "**Lógica Condicional Aplicada**"
      ],
      "metadata": {
        "id": "wKG4rmNRh2PZ"
      }
    },
    {
      "cell_type": "markdown",
      "source": [
        "17. Verificador de Paridade de Um Número\n",
        "\n",
        "Tarefa: Solicite ao usuário um número e verifique se ele é par ou ímpar.\n",
        "\n",
        "Se o número for par, divida-o por 2 e exiba o resultado.\n",
        "\n",
        "Se o número for ímpar, multiplique-o por 3 e exiba o resultado."
      ],
      "metadata": {
        "id": "-rqr-oIXh3oz"
      }
    },
    {
      "cell_type": "code",
      "source": [
        "numero = int(input(\"Digite um número: \"))\n",
        "\n",
        "for i in range(1):\n",
        "    if numero % 2 == 0:\n",
        "      print(f\"{(numero/2):.0f}\")\n",
        "    else:\n",
        "      print(f\"{(numero*3):.0f}\")\n"
      ],
      "metadata": {
        "id": "IlmtYYcgh45W",
        "colab": {
          "base_uri": "https://localhost:8080/"
        },
        "outputId": "0298a4ec-6195-4b84-9c66-79ee3c1214bb"
      },
      "execution_count": 61,
      "outputs": [
        {
          "output_type": "stream",
          "name": "stdout",
          "text": [
            "Digite um número: 20\n",
            "10\n"
          ]
        }
      ]
    },
    {
      "cell_type": "markdown",
      "source": [
        "18. Números Múltiplos de 3 e 5\n",
        "\n",
        "Tarefa: Peça ao usuário um número N e exiba todos os números de 1 até N que são múltiplos de 3 e 5."
      ],
      "metadata": {
        "id": "yFSzcmpnh6Mr"
      }
    },
    {
      "cell_type": "code",
      "source": [
        "numeros = []\n",
        "multiplo = []\n",
        "\n",
        "N = int(input(\"Digite um número inteiro positivo: \"))\n",
        "\n",
        "for i in range(1, N + 1):\n",
        "    if i % 3 == 0 and i % 5 == 0:\n",
        "      multiplo.append(i)\n",
        "\n",
        "print(f\"Quantidade de números entre 1 e {N} que são múltiplos de 3 e 5 é {multiplo}\")\n"
      ],
      "metadata": {
        "colab": {
          "base_uri": "https://localhost:8080/"
        },
        "id": "7DdutMAuJshP",
        "outputId": "eec9bf0b-cb06-488d-e2e6-d2fefdca611e"
      },
      "execution_count": 42,
      "outputs": [
        {
          "output_type": "stream",
          "name": "stdout",
          "text": [
            "Digite um número inteiro positivo: 15\n",
            "Quantidade de números entre 1 e 15 que são múltiplos de 3 e 5 é [15]\n"
          ]
        }
      ]
    },
    {
      "cell_type": "code",
      "source": [
        "numeros = []\n",
        "multiplo3 = []\n",
        "multiplo5 = []\n",
        "\n",
        "N = int(input(\"Digite um número inteiro positivo: \"))\n",
        "\n",
        "for i in range(1, N + 1):\n",
        "    if i % 3 == 0:\n",
        "      multiplo3.append(i)\n",
        "    elif i % 5 == 0:\n",
        "      multiplo5.append(i)\n",
        "\n",
        "print(f\"Quantidade de números entre 1 e {N} que são múltiplos de 3 é {multiplo3} 5 é {multiplo5}\")\n"
      ],
      "metadata": {
        "id": "4578_8Zxh6n2",
        "colab": {
          "base_uri": "https://localhost:8080/"
        },
        "outputId": "6b1bde68-1afb-41fd-aa39-da71cb655970"
      },
      "execution_count": 39,
      "outputs": [
        {
          "output_type": "stream",
          "name": "stdout",
          "text": [
            "Digite um número inteiro positivo: 5\n",
            "Quantidade de números entre 1 e 5 que são múltiplos de 3 é [3] 5 é [5]\n"
          ]
        }
      ]
    },
    {
      "cell_type": "markdown",
      "source": [
        "19. Adivinhação de Número\n",
        "\n",
        "Tarefa: O computador escolhe um número aleatório de 1 a 10, e o usuário tem 3 tentativas para adivinhar. Dê dicas se o número é maior ou menor."
      ],
      "metadata": {
        "id": "aM8WtP1zh7mO"
      }
    },
    {
      "cell_type": "code",
      "source": [
        "import random\n",
        "\n",
        "print(\"Jogo de Adivinhação!\")\n",
        "numero = random.randint(1, 10)\n",
        "\n",
        "for i in range(3):\n",
        "  chute = int(input(f\"Digite o {i+1}° número: \"))\n",
        "  if chute == numero:\n",
        "    print(\"Parabens! Você acertou o número secreto!\")\n",
        "    break\n",
        "  elif chute == numero - 1 or chute == numero + 1:\n",
        "    print(f\"Quase lá! Você não acertou, mas chegou bem perto!\")\n",
        "  else:\n",
        "    print(f\"Você errou!\")\n",
        "\n",
        "print(f\"O número secreto era: {numero}\")\n",
        "\n"
      ],
      "metadata": {
        "id": "zfhrxiAoh8LF",
        "colab": {
          "base_uri": "https://localhost:8080/"
        },
        "outputId": "b29de73d-fdc0-4178-dbd0-c83200476e54"
      },
      "execution_count": 67,
      "outputs": [
        {
          "output_type": "stream",
          "name": "stdout",
          "text": [
            "Jogo de Adivinhação!\n",
            "Digite o 1° número: 2\n",
            "Parabens! Você acertou o número secreto!\n",
            "O número secreto era: 2\n"
          ]
        }
      ]
    },
    {
      "cell_type": "code",
      "source": [
        "import random\n",
        "\n",
        "print(\"Jogo de Adivinhação!\")\n",
        "numero = random.randint(1, 10)\n",
        "\n",
        "for i in range(3):\n",
        "  chute = int(input(f\"Digite o {i+1}° número: \"))\n",
        "\n",
        "  if chute == numero:\n",
        "    print(\"Parabens! Você acertou o número secreto!\")\n",
        "    break\n",
        "  elif chute == numero - 1 or chute == numero + 1:\n",
        "    print(f\"Quase lá! Você não acertou, mas chegou bem perto!\")\n",
        "  else:\n",
        "    print(f\"Você errou!\")\n",
        "\n",
        "print(f\"O número secreto era: {numero}\")"
      ],
      "metadata": {
        "colab": {
          "base_uri": "https://localhost:8080/"
        },
        "id": "1_DVRfgIQxeZ",
        "outputId": "21b5e6ea-626a-444e-ba96-a2859bc87010"
      },
      "execution_count": 71,
      "outputs": [
        {
          "output_type": "stream",
          "name": "stdout",
          "text": [
            "Jogo de Adivinhação!\n",
            "Digite o 1° número: 5\n",
            "Você errou!\n",
            "Digite o 2° número: 3\n",
            "Você errou!\n",
            "Digite o 3° número: 1\n",
            "Parabens! Você acertou o número secreto!\n",
            "O número secreto era: 1\n"
          ]
        }
      ]
    },
    {
      "cell_type": "code",
      "source": [
        "import random\n",
        "\n",
        "print(\"Jogo de Adivinhação!\")\n",
        "numero = random.randint(1, 10)\n",
        "\n",
        "for i in range(3):\n",
        "  chute = int(input(f\"Digite o {i+1}° número: \"))\n",
        "\n",
        "  if chute == numero:\n",
        "    print(\"Parabens! Você acertou o número secreto!\")\n",
        "    break\n",
        "  elif chute == numero - 1 or chute == numero + 1:\n",
        "    print(f\"Quase lá! Você não acertou, mas chegou bem perto!\")\n",
        "  else:\n",
        "    print(f\"Você errou!\")\n",
        "\n",
        "print(f\"O número secreto era: {numero}\")"
      ],
      "metadata": {
        "colab": {
          "base_uri": "https://localhost:8080/"
        },
        "id": "DQubOKGmRsTg",
        "outputId": "cecd3576-c784-4d8e-8d87-bda21550ae35"
      },
      "execution_count": 72,
      "outputs": [
        {
          "output_type": "stream",
          "name": "stdout",
          "text": [
            "Jogo de Adivinhação!\n",
            "Digite o 1° número: 6\n",
            "Quase lá! Você não acertou, mas chegou bem perto!\n",
            "Digite o 2° número: 7\n",
            "Parabens! Você acertou o número secreto!\n",
            "O número secreto era: 7\n"
          ]
        }
      ]
    },
    {
      "cell_type": "markdown",
      "source": [
        "20. Números Primos\n",
        "\n",
        "Tarefa: Crie um programa que solicite ao usuário um número e informe se ele é primo ou não. Lembre-se de que um número primo é aquele que é divisível apenas por 1 e por ele mesmo."
      ],
      "metadata": {
        "id": "Mv_vCc6Eh9T3"
      }
    },
    {
      "cell_type": "code",
      "source": [
        "print(\"Descubra se o número é primo!\")\n",
        "numero = int(input(\"Digite um número: \"))\n",
        "primo = 0\n",
        "\n",
        "for i in range(1, numero + 1):\n",
        "    if numero % numero == 0:\n",
        "      primo += 1\n",
        "\n",
        "if primo == 2:\n",
        "  print(f\"O número {numero} é primo\")\n",
        "\n",
        "else:\n",
        "  print(f\"O número {numero} não é primo\")\n"
      ],
      "metadata": {
        "id": "ws3bCQ-Eh-J-",
        "colab": {
          "base_uri": "https://localhost:8080/"
        },
        "outputId": "1ec00cec-4ca6-4e85-c3c4-431d0111a839"
      },
      "execution_count": 50,
      "outputs": [
        {
          "output_type": "stream",
          "name": "stdout",
          "text": [
            "Descubra se o número é primo!\n",
            "Digite um número: 2\n",
            "O número 2 é primo\n"
          ]
        }
      ]
    }
  ]
}