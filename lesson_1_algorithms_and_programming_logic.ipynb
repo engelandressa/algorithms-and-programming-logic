{
  "nbformat": 4,
  "nbformat_minor": 0,
  "metadata": {
    "colab": {
      "provenance": []
    },
    "kernelspec": {
      "name": "python3",
      "display_name": "Python 3"
    },
    "language_info": {
      "name": "python"
    }
  },
  "cells": [
    {
      "cell_type": "code",
      "source": [
        "nome = input(\"Digite seu nome: \")\n",
        "idade = int(input(\"Digite sua idade: \"))\n",
        "altura = float(input(\"Digite sua altura: \"))\n",
        "\n",
        "print(\"tipo de variavel nome: \", type(nome))\n",
        "\n",
        "print(\"tipo de variavel idade: \", type(idade))\n",
        "\n",
        "print(\"tipo de variavel altura: \", type(altura))"
      ],
      "metadata": {
        "colab": {
          "base_uri": "https://localhost:8080/"
        },
        "id": "c5mahvORQIF3",
        "outputId": "f0aef254-2a2d-4439-b3e0-1bdd0859d333"
      },
      "execution_count": null,
      "outputs": [
        {
          "output_type": "stream",
          "name": "stdout",
          "text": [
            "Digite seu nome: Andressa\n",
            "Digite sua idade: 28\n",
            "Digite sua altura: 1.56\n",
            "tipo de variavel nome:  <class 'str'>\n",
            "tipo de variavel idade:  <class 'int'>\n",
            "tipo de variavel altura:  <class 'float'>\n"
          ]
        }
      ]
    },
    {
      "cell_type": "code",
      "source": [
        "name = \"Andressa\"\n",
        "age = 28\n",
        "\n",
        "print(f\"Hi {name}. Are you {age} years old?\" )"
      ],
      "metadata": {
        "id": "ImtyerUfzdKR",
        "colab": {
          "base_uri": "https://localhost:8080/"
        },
        "outputId": "9487f3fc-fb44-4114-cd0e-5ff5dbd9754d"
      },
      "execution_count": null,
      "outputs": [
        {
          "output_type": "stream",
          "name": "stdout",
          "text": [
            "Hi Andressa. Are you 28 years old?\n"
          ]
        }
      ]
    },
    {
      "cell_type": "code",
      "source": [
        "name = input(\"Write your name: \")\n",
        "\n",
        "print(f\"Welcome, {name}!\")"
      ],
      "metadata": {
        "id": "P5ZcgE866gqU",
        "colab": {
          "base_uri": "https://localhost:8080/"
        },
        "outputId": "30b0c65e-9fbf-4ed8-e815-039a12ab7327"
      },
      "execution_count": null,
      "outputs": [
        {
          "output_type": "stream",
          "name": "stdout",
          "text": [
            "Write your name: Andressa\n",
            "Welcome, Andressa!\n"
          ]
        }
      ]
    },
    {
      "cell_type": "code",
      "source": [
        "age = int(input(\"Write your age: \"))\n",
        "height = float(input(\"Write your height: \"))\n",
        "\n",
        "print(f\"You are {age} years old, and {height} meters height.\")"
      ],
      "metadata": {
        "colab": {
          "base_uri": "https://localhost:8080/"
        },
        "id": "ii1pFRMT-ISn",
        "outputId": "28096074-e8a7-4b5a-81ec-2e07275d8159"
      },
      "execution_count": null,
      "outputs": [
        {
          "output_type": "stream",
          "name": "stdout",
          "text": [
            "Write your age: 28\n",
            "Write your height: 1.56\n",
            "You are 28 years old, and 1.56 meters height.\n"
          ]
        }
      ]
    },
    {
      "cell_type": "markdown",
      "source": [
        "**Saláro**"
      ],
      "metadata": {
        "id": "vv_JUCywaSDO"
      }
    },
    {
      "cell_type": "markdown",
      "source": [
        "Crie um programa que leia o nome e o salário de um funcionário, mostrando no final uma mensagem."
      ],
      "metadata": {
        "id": "7VtV0K_JeMms"
      }
    },
    {
      "cell_type": "code",
      "source": [
        "nome = input(\"Digite seu nome: \")\n",
        "salario = float(input(\"Digite seu salário: \"))\n",
        "\n",
        "print(f\"Olá, {nome} o seu salário atual é de R${salario}.\")"
      ],
      "metadata": {
        "colab": {
          "base_uri": "https://localhost:8080/"
        },
        "id": "VeSd3Q_0AH7z",
        "outputId": "bdb1987c-f777-4dee-dabd-e55047075184"
      },
      "execution_count": null,
      "outputs": [
        {
          "output_type": "stream",
          "name": "stdout",
          "text": [
            "Digite seu nome: John\n",
            "Digite seu salário: 5900\n",
            "Olá, John o seu salário atual é de R$5900.0.\n"
          ]
        }
      ]
    },
    {
      "cell_type": "code",
      "source": [
        "nome = input(\"Digite seu nome: \")\n",
        "salario = float(input(\"Digite seu salário: \"))\n",
        "salario_formatado = f\"R$ {salario:.2f}\"\n",
        "\n",
        "print(f\"Olá, {nome} o seu salário atual é de {salario_formatado}.\")"
      ],
      "metadata": {
        "colab": {
          "base_uri": "https://localhost:8080/"
        },
        "id": "xu_R_AVsDUXJ",
        "outputId": "ed67dcd2-dce3-41ad-ebaa-ecd49cfb97b1"
      },
      "execution_count": null,
      "outputs": [
        {
          "output_type": "stream",
          "name": "stdout",
          "text": [
            "Digite seu nome: Jane\n",
            "Digite seu salário: 8999.00\n",
            "Olá, Jane o seu salário atual é de R$ 8999.00.\n"
          ]
        }
      ]
    },
    {
      "cell_type": "code",
      "source": [
        "nome = input(\"Digite seu nome: \")\n",
        "salario = float(input(\"Digite seu salário: \"))\n",
        "\n",
        "print(f\"{nome} {salario:.2f}\")"
      ],
      "metadata": {
        "colab": {
          "base_uri": "https://localhost:8080/"
        },
        "id": "gPmn2h_dTdrc",
        "outputId": "bcb1a697-381d-42a9-b207-895aadc761c4"
      },
      "execution_count": null,
      "outputs": [
        {
          "output_type": "stream",
          "name": "stdout",
          "text": [
            "Digite seu nome: John\n",
            "Digite seu salário: 5999\n",
            "John 5999.00\n"
          ]
        }
      ]
    },
    {
      "cell_type": "markdown",
      "source": [
        "**Média**"
      ],
      "metadata": {
        "id": "xpVfDWpnaV1u"
      }
    },
    {
      "cell_type": "markdown",
      "source": [
        "Faça um programa que leia as duas notas de um aluno em uma matéria e mostre na tela a sua média na disciplina."
      ],
      "metadata": {
        "id": "_CWLkxSaeP3p"
      }
    },
    {
      "cell_type": "code",
      "source": [
        "materia = input(\"Digite a matéria: \")\n",
        "aluno = input(\"Digite o nome do aluno: \")\n",
        "nota_prova_1 = float(input(\"Digite a nota da prova 1: \"))\n",
        "nota_prova_2 = float(input(\"Digite a nota da prova 2: \"))\n",
        "media_aluno = (nota_prova_1 + nota_prova_2)/2\n",
        "\n",
        "print(f\"Na matéria de {materia}, o aluno {aluno} obteve média de: {media_aluno}\")"
      ],
      "metadata": {
        "colab": {
          "base_uri": "https://localhost:8080/"
        },
        "id": "6XOk0cutI6Wg",
        "outputId": "4b07a1ca-6a6b-4c1e-c160-e08c9af47e16"
      },
      "execution_count": null,
      "outputs": [
        {
          "output_type": "stream",
          "name": "stdout",
          "text": [
            "Digite a matéria: Matemática\n",
            "Digite o nome do aluno: John\n",
            "Digite a nota da prova 1: 8.8\n",
            "Digite a nota da prova 2: 9\n",
            "Na matéria de Matemática, o aluno John obteve média de: 8.9\n"
          ]
        }
      ]
    },
    {
      "cell_type": "code",
      "source": [
        "nota_1 = float(input(\"Digite a nota 1: \"))\n",
        "nota_2 = float(input(\"Digite a nota 2: \"))\n",
        "\n",
        "print(f\"Média: {(nota_1+nota_2)/2}\")\n",
        "\n",
        "media = (nota_1 + nota_2) / 2\n",
        "\n",
        "print(f\"Média: {(nota_1+nota_2)/2:.2f}\")\n",
        "\n",
        "if(media >= 6):\n",
        "  print(\"Aprovado\")\n",
        "else:\n",
        "  print(\"Reprovado\")"
      ],
      "metadata": {
        "colab": {
          "base_uri": "https://localhost:8080/"
        },
        "id": "_OUY5VjjUX6F",
        "outputId": "806d12aa-3c4b-4f1d-d220-4d846a6b8123"
      },
      "execution_count": null,
      "outputs": [
        {
          "output_type": "stream",
          "name": "stdout",
          "text": [
            "Digite a nota 1: 2\n",
            "Digite a nota 2: 2\n",
            "Média: 2.0\n",
            "Média: 2.00\n",
            "Reprovado\n"
          ]
        }
      ]
    },
    {
      "cell_type": "markdown",
      "source": [
        "**Operadores**"
      ],
      "metadata": {
        "id": "4alulKZNabZa"
      }
    },
    {
      "cell_type": "markdown",
      "source": [
        "Crie um algoritmo que leia um número real e mostre na tela o seu dobro e a sua terça parte."
      ],
      "metadata": {
        "id": "Ea6z71EaeSfh"
      }
    },
    {
      "cell_type": "code",
      "source": [
        "numero = float(input(\"Digite um número: \"))\n",
        "numero_dobro = numero*2\n",
        "terca_parte = numero/3\n",
        "terca_parte_formatado = f\"{terca_parte:.2f}\"\n",
        "\n",
        "print(f\"O dobro de {numero} é de {numero_dobro} e a terça parte de {numero} é de: {terca_parte_formatado}\")"
      ],
      "metadata": {
        "colab": {
          "base_uri": "https://localhost:8080/"
        },
        "id": "0gi6vF3maPcp",
        "outputId": "50869c12-1c32-482d-bd5a-aaef8d530ea6"
      },
      "execution_count": null,
      "outputs": [
        {
          "output_type": "stream",
          "name": "stdout",
          "text": [
            "Digite um número: 2\n",
            "O dobro de 2.0 é de 4.0 e a terça parte de 2.0 é de: 0.67\n"
          ]
        }
      ]
    },
    {
      "cell_type": "markdown",
      "source": [
        "**Cálculo de área de um quadrado**"
      ],
      "metadata": {
        "id": "vAFQx22ub8rp"
      }
    },
    {
      "cell_type": "markdown",
      "source": [
        "A = b.h"
      ],
      "metadata": {
        "id": "CR0e-0jdeT7z"
      }
    },
    {
      "cell_type": "code",
      "source": [
        "altura = float(input(\"Digite a medida da altura do quadrado: \"))\n",
        "base = float(input(\"Digite a medida da base do quadrado: \"))\n",
        "area = altura * base\n",
        "\n",
        "print(f\"A área do quadrado é de {area}\")"
      ],
      "metadata": {
        "colab": {
          "base_uri": "https://localhost:8080/"
        },
        "id": "y1_CNtNpcDBU",
        "outputId": "2d259eeb-3eaa-4e7f-bd1d-dc50711514f6"
      },
      "execution_count": null,
      "outputs": [
        {
          "output_type": "stream",
          "name": "stdout",
          "text": [
            "Digite a medida da altura do quadrado: 2\n",
            "Digite a medida da base do quadrado: 2\n",
            "A área do quadrado é de 4.0\n"
          ]
        }
      ]
    },
    {
      "cell_type": "markdown",
      "source": [
        "**Peça o lado de um quadrado e mostre sua área**"
      ],
      "metadata": {
        "id": "qC68n3GodGNu"
      }
    },
    {
      "cell_type": "markdown",
      "source": [
        "Área = lado²"
      ],
      "metadata": {
        "id": "PcaWgL2weWG6"
      }
    },
    {
      "cell_type": "code",
      "source": [
        "lado = float(input(\"Digite a medida do lado do seu quadrado: \"))\n",
        "area = lado * lado\n",
        "\n",
        "print(f\"A área do quadrado é de {area}\")"
      ],
      "metadata": {
        "colab": {
          "base_uri": "https://localhost:8080/"
        },
        "id": "_psnpkVAdHZm",
        "outputId": "4c4cee0c-15ee-4edd-aa03-b1d361aedbfb"
      },
      "execution_count": null,
      "outputs": [
        {
          "output_type": "stream",
          "name": "stdout",
          "text": [
            "Digite a medida do lado do seu quadrado: 3\n",
            "A área do quadrado é de 9.0\n"
          ]
        }
      ]
    },
    {
      "cell_type": "markdown",
      "source": [
        "**Cálculo de área de um triângulo**"
      ],
      "metadata": {
        "id": "R-DTb9TbdkOp"
      }
    },
    {
      "cell_type": "markdown",
      "source": [
        "Área = (base × altura) / 2"
      ],
      "metadata": {
        "id": "Gi1sN-NueXua"
      }
    },
    {
      "cell_type": "code",
      "source": [
        "altura = float(input(\"Digite a medida da altura do seu triângulo: \"))\n",
        "base = float(input(\"Digite a medida da base do seu triângulo: \"))\n",
        "area = (altura * base)/2\n",
        "\n",
        "print(f\"A área do seu triângulo é de {area}\")"
      ],
      "metadata": {
        "colab": {
          "base_uri": "https://localhost:8080/"
        },
        "id": "3cmtzBxMdlRv",
        "outputId": "a3ae3cd7-7042-4551-ccb7-9d9fd81ebc39"
      },
      "execution_count": null,
      "outputs": [
        {
          "output_type": "stream",
          "name": "stdout",
          "text": [
            "Digite a medida da altura do seu triângulo: 3\n",
            "Digite a medida da base do seu triângulo: 2\n",
            "A área do seu triângulo é de 3.0\n"
          ]
        }
      ]
    },
    {
      "cell_type": "markdown",
      "source": [
        "**Cálculo de área de um círculo**"
      ],
      "metadata": {
        "id": "8ILQBgUxeIGQ"
      }
    },
    {
      "cell_type": "markdown",
      "source": [
        "Área = π × raio²"
      ],
      "metadata": {
        "id": "biWfaGnAeZkC"
      }
    },
    {
      "cell_type": "code",
      "source": [
        "raio = float(input(\"Digite o raio do círculo: \"))\n",
        "area = (raio*raio)*3.14\n",
        "\n",
        "print(f\"A área do seu círculo é de {area}\")"
      ],
      "metadata": {
        "colab": {
          "base_uri": "https://localhost:8080/"
        },
        "id": "HEjdzzY6eI8L",
        "outputId": "9084cb28-1036-4b08-8f28-0245f09d2411"
      },
      "execution_count": null,
      "outputs": [
        {
          "output_type": "stream",
          "name": "stdout",
          "text": [
            "Digite o raio do círculo: 3\n",
            "A área do seu círculo é de 28.26\n"
          ]
        }
      ]
    },
    {
      "cell_type": "markdown",
      "source": [
        "**Construção**"
      ],
      "metadata": {
        "id": "ztOLb1kAug2G"
      }
    },
    {
      "cell_type": "markdown",
      "source": [
        "Faça um algoritmo que leia a largura e altura de uma parede, calcule e mostre a área a ser pintada e a quantidade de tinta necessária para o serviço, sabendo que cada litro de tinta pinta uma área de 2metros quadrados."
      ],
      "metadata": {
        "id": "kt3oW4UZebG7"
      }
    },
    {
      "cell_type": "code",
      "source": [
        "altura = float(input(\"Digite a altura da parede: \"))\n",
        "largura = float(input(\"Digite a largura da parede: \"))\n",
        "area = altura*largura\n",
        "tinta = area/2\n",
        "\n",
        "print(f\"Para pintar a parede com área de {area}m² é necessário {tinta} litros de tinta.\")"
      ],
      "metadata": {
        "colab": {
          "base_uri": "https://localhost:8080/"
        },
        "id": "7E53pOmiujvs",
        "outputId": "2b7be10f-0cf1-4e7a-a07e-1f9ec1a152ae"
      },
      "execution_count": null,
      "outputs": [
        {
          "output_type": "stream",
          "name": "stdout",
          "text": [
            "Digite a altura da parede: 3\n",
            "Digite a largura da parede: 5\n",
            "Para pintar a parede com área de 15.0m² é necessário 7.5 litros de tinta.\n"
          ]
        }
      ]
    },
    {
      "cell_type": "markdown",
      "source": [
        "**IMC (Índice de Massa Corporal)**"
      ],
      "metadata": {
        "id": "wyoOQ0uRz2AU"
      }
    },
    {
      "cell_type": "markdown",
      "source": [
        "IMC = peso / (altura ** 2)"
      ],
      "metadata": {
        "id": "7JotNEnTecwK"
      }
    },
    {
      "cell_type": "code",
      "source": [
        "print(\"Vamos calcular seu IMC\")\n",
        "\n",
        "altura = float(input(\"Digite a sua altura: \"))\n",
        "peso = float(input(\"Digite seu peso: \"))\n",
        "imc = peso/(altura*altura)\n",
        "imc_formatado = f\"{imc:.2f}\"\n",
        "\n",
        "print(f\"Seu IMC é de {imc_formatado}\")"
      ],
      "metadata": {
        "colab": {
          "base_uri": "https://localhost:8080/"
        },
        "id": "-PxrGsTbz3i1",
        "outputId": "e2249265-3ac0-4d9b-fe74-76cee5c5e9bc"
      },
      "execution_count": null,
      "outputs": [
        {
          "output_type": "stream",
          "name": "stdout",
          "text": [
            "Vamos calcular seu IMC\n",
            "Digite a sua altura: 1.56\n",
            "Digite seu peso: 46\n",
            "Seu IMC é de 18.90\n"
          ]
        }
      ]
    },
    {
      "cell_type": "code",
      "source": [
        "print(\"Vamos calcular seu IMC\")\n",
        "\n",
        "altura = float(input(\"Digite a sua altura: \"))\n",
        "peso = float(input(\"Digite seu peso: \"))\n",
        "imc = peso/(altura*altura)\n",
        "imc_formatado = f\"{imc:.2f}\"\n",
        "\n",
        "print(f\"Seu IMC é de {imc_formatado}\")\n",
        "\n",
        "#IMC\n",
        "\n",
        "if imc < 18.5:\n",
        "    print(\"Abaixo do peso!\")\n",
        "elif 18.6 <= imc <= 24.9:\n",
        "    print(\"Peso ideal!\")\n",
        "elif 25 <= imc <= 29.9:\n",
        "    print(\"Levemente acima do peso!\")\n",
        "elif 30 <= imc <= 34.9:\n",
        "    print(\"Obesidade grau 1!\")\n",
        "elif 35 <= imc <= 39.9:\n",
        "    print(\"Obesidade grau 2!\")\n",
        "else:\n",
        "    print(\"Obesidade grau 3!\")"
      ],
      "metadata": {
        "colab": {
          "base_uri": "https://localhost:8080/"
        },
        "id": "4c5z8R4r3aQO",
        "outputId": "300e9170-e418-4dcb-a4c4-d2c3d7a9c09c"
      },
      "execution_count": null,
      "outputs": [
        {
          "output_type": "stream",
          "name": "stdout",
          "text": [
            "Vamos calcular seu IMC\n",
            "Digite a sua altura: 1.56\n",
            "Digite seu peso: 45\n",
            "Seu IMC é de 18.49\n",
            "Abaixo do peso!\n"
          ]
        }
      ]
    },
    {
      "cell_type": "markdown",
      "source": [
        "**Múltiplos**"
      ],
      "metadata": {
        "id": "CI4YpdkU9DI2"
      }
    },
    {
      "cell_type": "markdown",
      "source": [
        "Elaborar um algoritmo que lê 2 valores a e b e os escreve com a mensagem: \"São múltiplos\" ou \"Não são múltiplos\"."
      ],
      "metadata": {
        "id": "phl7uNmRefzg"
      }
    },
    {
      "cell_type": "code",
      "source": [
        "valor_a = float(input(\"Digite um valor: \"))\n",
        "valor_b = float(input(\"Digite um valor: \"))\n",
        "\n",
        "print(valor_a%valor_b)\n",
        "\n",
        "#if a%b==0\n",
        "\n",
        "if valor_a%valor_b == 0:\n",
        "  print(\"Múltiplo!\")\n",
        "else:\n",
        "  print(\"Não é múltiplo\")"
      ],
      "metadata": {
        "id": "kKEn-qWk9EwY",
        "colab": {
          "base_uri": "https://localhost:8080/"
        },
        "outputId": "d8c59b34-cef1-4c17-bd2c-aa1d4ecdd5dd"
      },
      "execution_count": null,
      "outputs": [
        {
          "output_type": "stream",
          "name": "stdout",
          "text": [
            "Digite um valor: 4\n",
            "Digite um valor: 7\n",
            "4.0\n",
            "Não é múltiplo\n"
          ]
        }
      ]
    },
    {
      "cell_type": "markdown",
      "source": [
        "**Desconto em compras**"
      ],
      "metadata": {
        "id": "EpSYhNKl-sd5"
      }
    },
    {
      "cell_type": "markdown",
      "source": [
        "Peça o valor de um produto e aplique um desconto de 10%."
      ],
      "metadata": {
        "id": "c_fq3pUvehsx"
      }
    },
    {
      "cell_type": "code",
      "source": [
        "print(\"Calculando o desconto!\")\n",
        "\n",
        "produto = input(\"Digite o produto: \")\n",
        "valor_do_produto = float(input(\"Digite o valor do produto: \"))\n",
        "desconto = float(input(\"Digite o valor do desconto: \"))\n",
        "\n",
        "valor_do_desconto = valor_do_produto*(desconto/100)\n",
        "valor_com_desconto = valor_do_produto-valor_do_desconto\n",
        "valor_com_desconto_formatado = f\"{valor_com_desconto:.2f}\"\n",
        "\n",
        "print(f\"Com {desconto}% de desconto, o produto: {produto}, custava: R${valor_do_produto} fica por: R${valor_com_desconto_formatado}\")"
      ],
      "metadata": {
        "colab": {
          "base_uri": "https://localhost:8080/"
        },
        "id": "lAhne8FX-tnB",
        "outputId": "90541128-80de-4b6b-b16f-39c9adae491f"
      },
      "execution_count": null,
      "outputs": [
        {
          "output_type": "stream",
          "name": "stdout",
          "text": [
            "Calculando o desconto!\n",
            "Digite o produto: Pacote com 3 meias\n",
            "Digite o valor do produto: 49.99\n",
            "Digite o valor do desconto: 10\n",
            "Com 10.0% de desconto, o produto: Pacote com 3 meias, custava: R$49.99 fica por: R$44.99\n"
          ]
        }
      ]
    },
    {
      "cell_type": "markdown",
      "source": [
        "**Aumento salarial**"
      ],
      "metadata": {
        "id": "ssQ2EEioCjaI"
      }
    },
    {
      "cell_type": "markdown",
      "source": [
        "Peça o salário de um funcionário e aumente em 15%."
      ],
      "metadata": {
        "id": "vP7BYhyUei2a"
      }
    },
    {
      "cell_type": "code",
      "source": [
        "print(\"Seu salário com 15% de aumento!\")\n",
        "\n",
        "salario = float(input(\"Digite seu salário: \"))\n",
        "\n",
        "valor_do_aumento = salario*(15/100)\n",
        "salario_com_aumento = valor_do_aumento+salario\n",
        "salario_com_aumento_formatado = f\"{salario_com_aumento:.2f}\"\n",
        "\n",
        "print(f\"Seu salário pasará a ser R${salario_com_aumento_formatado}!\")"
      ],
      "metadata": {
        "colab": {
          "base_uri": "https://localhost:8080/"
        },
        "id": "bJpPt0THCkbB",
        "outputId": "fe75fee0-840a-473d-9367-cb5e6c9f8c2a"
      },
      "execution_count": null,
      "outputs": [
        {
          "output_type": "stream",
          "name": "stdout",
          "text": [
            "Seu salário com 15% de aumento!\n",
            "Digite seu salário: 2750\n",
            "Seu salário pasará a ser R$3162.50!\n"
          ]
        }
      ]
    },
    {
      "cell_type": "markdown",
      "source": [
        "**Cálculo do tempo de viagem**"
      ],
      "metadata": {
        "id": "pVJWxfY7EEcY"
      }
    },
    {
      "cell_type": "markdown",
      "source": [
        "Peça a distância a ser percorrida e a velocidade média, depois calcule o tempo da viagem\n",
        "\n",
        "Tempo = distância / velocidade"
      ],
      "metadata": {
        "id": "sVHYRYfGekjQ"
      }
    },
    {
      "cell_type": "code",
      "source": [
        "print(\"Calcule o tempo de viagem!\")\n",
        "\n",
        "distancia = float(input(\"Digite a distância: \"))\n",
        "velocidade = float(input(\"Digite a velocidade: \"))\n",
        "\n",
        "tempo = distancia/velocidade\n",
        "\n",
        "print(f\"Você chegará em seu destino em {tempo} horas\")"
      ],
      "metadata": {
        "colab": {
          "base_uri": "https://localhost:8080/"
        },
        "id": "txHZUqGMEFjy",
        "outputId": "f5e10d46-9a5a-4a72-9402-4205d6e28579"
      },
      "execution_count": null,
      "outputs": [
        {
          "output_type": "stream",
          "name": "stdout",
          "text": [
            "Calcule o tempo de viagem!\n",
            "Digite a distância: 200\n",
            "Digite a velocidade: 80\n",
            "Você chegará em seu destino em 2.5 horas\n"
          ]
        }
      ]
    },
    {
      "cell_type": "markdown",
      "source": [
        "**Conta de luz**"
      ],
      "metadata": {
        "id": "xxnuIyRcFJY9"
      }
    },
    {
      "cell_type": "markdown",
      "source": [
        "Peça a quantidade de kWh consumidos e o valor por kWh, depois calcule o valor da conta de energia."
      ],
      "metadata": {
        "id": "OTTQKL8VembI"
      }
    },
    {
      "cell_type": "code",
      "source": [
        "print(\"Calculando o valor da sua energia!\")\n",
        "\n",
        "consumo = float(input(\"Digite o consumo do mês: \"))\n",
        "tarifa = float(input(\"Digite a tarifa atual por kWh: \"))\n",
        "\n",
        "valor = consumo*tarifa\n",
        "valor_formatado = f\"{valor:.2f}\"\n",
        "\n",
        "print(f\"Sua energia ficará R${valor_formatado}\")"
      ],
      "metadata": {
        "colab": {
          "base_uri": "https://localhost:8080/"
        },
        "id": "DWiSW_CNFLAZ",
        "outputId": "3bd7ff59-10f2-43d2-b155-89aa2bff4da4"
      },
      "execution_count": null,
      "outputs": [
        {
          "output_type": "stream",
          "name": "stdout",
          "text": [
            "Calculando o valor da sua energia!\n",
            "Digite o consumo do mês: 200\n",
            "Digite a tarifa atual por kWh: 0.6\n",
            "Sua energia ficará R$120.00\n"
          ]
        }
      ]
    },
    {
      "cell_type": "markdown",
      "source": [
        "**Conversão de dinheiro**"
      ],
      "metadata": {
        "id": "JeXX3CSyGtFP"
      }
    },
    {
      "cell_type": "markdown",
      "source": [
        "Peça um valor em reais e converta para dólares. (Considere o valor do dólar como R$ 5,00)"
      ],
      "metadata": {
        "id": "RZTvWyDweoug"
      }
    },
    {
      "cell_type": "code",
      "source": [
        "print(\"Convertendo para Dólar!\")\n",
        "\n",
        "valor_em_reais = float(input(\"Digite o valor em reais: \"))\n",
        "dolar = 5\n",
        "\n",
        "valor_em_dolar = valor_em_reais/dolar\n",
        "valor_em_dolar_formatado = f\"{valor_em_dolar:.2f}\"\n",
        "valor_em_reais_formatado = f\"{valor_em_reais:.2f}\"\n",
        "\n",
        "print(f\"Com R${valor_em_reais_formatado} você terá ${valor_em_dolar_formatado}!\")"
      ],
      "metadata": {
        "colab": {
          "base_uri": "https://localhost:8080/"
        },
        "id": "4kRO84oaGuIt",
        "outputId": "1954862f-c309-4f10-bdaa-7d15a9a42b4e"
      },
      "execution_count": null,
      "outputs": [
        {
          "output_type": "stream",
          "name": "stdout",
          "text": [
            "Convertendo para Dólar!\n",
            "Digite o valor em reais: 1500\n",
            "Com R$1500.00 você terá $300.00!\n"
          ]
        }
      ]
    },
    {
      "cell_type": "code",
      "source": [
        "print(\"Convertendo para Dólar!\")\n",
        "\n",
        "valor_em_reais = float(input(\"Digite o valor em reais: \"))\n",
        "valor_do_dolar = float(input(\"Digite o valor do dólar hoje: \"))\n",
        "\n",
        "valor_em_dolar = valor_em_reais/valor_do_dolar\n",
        "valor_em_dolar_formatado = f\"{valor_em_dolar:.2f}\"\n",
        "valor_em_reais_formatado = f\"{valor_em_reais:.2f}\"\n",
        "\n",
        "print(f\"Com R${valor_em_reais_formatado} você terá ${valor_em_dolar_formatado}!\")"
      ],
      "metadata": {
        "colab": {
          "base_uri": "https://localhost:8080/"
        },
        "id": "lqGo2rt_HP_m",
        "outputId": "80e8ae8b-57a8-4076-969d-2c61bed15728"
      },
      "execution_count": null,
      "outputs": [
        {
          "output_type": "stream",
          "name": "stdout",
          "text": [
            "Convertendo para Dólar!\n",
            "Digite o valor em reais: 1500\n",
            "Digite o valor do dólar hoje: 5.2\n",
            "Com R$1500.00 você terá $288.46!\n"
          ]
        }
      ]
    },
    {
      "cell_type": "markdown",
      "source": [
        "**Salário**"
      ],
      "metadata": {
        "id": "LQ-_c-_aIW44"
      }
    },
    {
      "cell_type": "markdown",
      "source": [
        "Crie um programa que leia o número de dias trabalhados em um mês e mostre o salário de um funcionário, sabendo que ele trabalha 8 horas por dia e ganha R$25,00 por hora trabalhada."
      ],
      "metadata": {
        "id": "mnGggzlNeqJJ"
      }
    },
    {
      "cell_type": "code",
      "source": [
        "print(\"Calcular quanto recebo esse mês!\")\n",
        "\n",
        "dias_trabalhados = int(input(\"Quantos dias eu trabalhei: \"))\n",
        "\n",
        "salario = dias_trabalhados*(8*25)\n",
        "salario_formatado = f\"{salario:.2f}\"\n",
        "\n",
        "print(f\"Esse mês eu recebo R${salario_formatado}!\")"
      ],
      "metadata": {
        "colab": {
          "base_uri": "https://localhost:8080/"
        },
        "id": "Is_TpP34IYiX",
        "outputId": "4ec9401d-2caa-4b17-f50a-80c17bf924f8"
      },
      "execution_count": null,
      "outputs": [
        {
          "output_type": "stream",
          "name": "stdout",
          "text": [
            "Calcular quanto recebo esse mês!\n",
            "Quantos dias eu trabalhei: 20\n",
            "Esse mês eu recebo R$4000.00!\n"
          ]
        }
      ]
    },
    {
      "cell_type": "code",
      "source": [
        "print(\"Calcular quanto recebo esse mês!\")\n",
        "\n",
        "horas_trabalhadas = float(input(\"Quantos horas eu trabalhei: \"))\n",
        "valor_por_hora = float(input(\"Valor por hora: \"))\n",
        "\n",
        "salario = horas_trabalhadas*valor_por_hora\n",
        "salario_formatado = f\"{salario:.2f}\"\n",
        "\n",
        "print(f\"Esse mês eu recebo R${salario_formatado}!\")"
      ],
      "metadata": {
        "colab": {
          "base_uri": "https://localhost:8080/"
        },
        "id": "p-1TIsAfJNXr",
        "outputId": "051e6541-d785-49fc-afce-ccd84375e0bb"
      },
      "execution_count": null,
      "outputs": [
        {
          "output_type": "stream",
          "name": "stdout",
          "text": [
            "Calcular quanto recebo esse mês!\n",
            "Quantos horas eu trabalhei: 160\n",
            "Valor por hora: 25\n",
            "Esse mês eu recebo R$4000.00!\n"
          ]
        }
      ]
    },
    {
      "cell_type": "markdown",
      "source": [
        "**Locadora**"
      ],
      "metadata": {
        "id": "M4b8AT3LKDlG"
      }
    },
    {
      "cell_type": "markdown",
      "source": [
        "A locadora de carros precisa da sua ajuda para cobrar seus serviços. Escreva um programa que pergunte a quantidade de Km percorridos por um carro alugado e a quantidade de dias pelos quais ele foi alugado. Calcule o preço total a pagar, sabendo que o carro custa R$ 90,00 por dia e R$ 0,20 por Km rodado."
      ],
      "metadata": {
        "id": "_htIz4bhesJX"
      }
    },
    {
      "cell_type": "code",
      "source": [
        "km = float(input(\"Digite os km percorridos: \"))\n",
        "dias = int(input(\"Digite os dias do aluguel: \"))\n",
        "\n",
        "preco_do_carro_por_dia = dias*90\n",
        "preco_por_km_rodado = km*0.2\n",
        "total_a_pagar = preco_do_carro_por_dia+preco_por_km_rodado\n",
        "total_a_pagar_formatado = f\"{total_a_pagar:.2f}\"\n",
        "\n",
        "print(f\"Total a pagar: R${total_a_pagar_formatado}\")"
      ],
      "metadata": {
        "colab": {
          "base_uri": "https://localhost:8080/"
        },
        "id": "5SwXoEcuKFME",
        "outputId": "0e79fe14-88b9-4d0c-91e3-759c6975d443"
      },
      "execution_count": null,
      "outputs": [
        {
          "output_type": "stream",
          "name": "stdout",
          "text": [
            "Digite os km percorridos: 200\n",
            "Digite os dias do aluguel: 5\n",
            "Total a pagar: R$490.00\n"
          ]
        }
      ]
    },
    {
      "cell_type": "markdown",
      "source": [
        "**Custo de imposto**"
      ],
      "metadata": {
        "id": "M8rDeo12LYin"
      }
    },
    {
      "cell_type": "markdown",
      "source": [
        "O custo ao consumidor de um carro novo é a soma do custo de fábrica com a percentagem do distribuidor e dos impostos (aplicados ao custo de fábrica). Supondo que a percentagem do distribuidor seja de 28% e os impostos de 45%, escrever um algoritmo que leia o custo de fábrica de um carro e escreva o custo ao consumidor."
      ],
      "metadata": {
        "id": "iHn2HKpTeuCv"
      }
    },
    {
      "cell_type": "code",
      "source": [
        "print(\"Calculando o preço do produto final com os impostos de 45% e o valor do distribuidor de 28%!\")\n",
        "\n",
        "custo_de_fabrica = float(input(\"Digite o custo de fábrica: \"))\n",
        "custo_mais_distribuidor = custo_de_fabrica+(custo_de_fabrica*(28/100))\n",
        "custo_mais_impostos = custo_de_fabrica+(custo_de_fabrica*(45/100))\n",
        "preco_final = custo_mais_distribuidor+custo_mais_impostos\n",
        "preco_final_formatado = f\"{preco_final:.2f}\"\n",
        "\n",
        "print(f\"O preço final é de R${preco_final_formatado}\")"
      ],
      "metadata": {
        "colab": {
          "base_uri": "https://localhost:8080/"
        },
        "id": "fUqMi-r3LaPz",
        "outputId": "d8cb564c-bdbb-4a3f-ff9f-6f88cf3f8de2"
      },
      "execution_count": null,
      "outputs": [
        {
          "output_type": "stream",
          "name": "stdout",
          "text": [
            "Calculando o preço do produto final com os impostos de 45% e o valor do distribuidor de 28%!\n",
            "Digite o custo de fábrica: 40000\n",
            "O preço final é de R$109200.00\n"
          ]
        }
      ]
    },
    {
      "cell_type": "code",
      "source": [
        "print(\"Calculando o preço do produto final com os impostos + valor do distribuidor!\")\n",
        "\n",
        "custo_de_fabrica = float(input(\"Digite o custo de fábrica: \"))\n",
        "valor_do_distribuidor = float(input(\"Digite o valor da porcentagem do distribuidor: \"))\n",
        "valor_do_imposto = float(input(\"Digite o valor da porcentagem de imposto: \"))\n",
        "\n",
        "custo_mais_distribuidor = custo_de_fabrica+(custo_de_fabrica*(valor_do_distribuidor/100))\n",
        "custo_mais_impostos = custo_de_fabrica+(custo_de_fabrica*(valor_do_imposto/100))\n",
        "preco_final = custo_mais_distribuidor+custo_mais_impostos\n",
        "preco_final_formatado = f\"{preco_final:.2f}\"\n",
        "\n",
        "print(f\"O preço final é de R${preco_final_formatado}\")"
      ],
      "metadata": {
        "colab": {
          "base_uri": "https://localhost:8080/"
        },
        "id": "h1g2uDA3OD09",
        "outputId": "8d45956a-e381-41b0-d8fb-0d89c3e008ba"
      },
      "execution_count": null,
      "outputs": [
        {
          "output_type": "stream",
          "name": "stdout",
          "text": [
            "Calculando o preço do produto final com os impostos + valor do distribuidor!\n",
            "Digite o custo de fábrica: 40000\n",
            "Digite o valor da porcentagem do distribuidor: 28\n",
            "Digite o valor da porcentagem de imposto: 45\n",
            "O preço final é de R$109200.00\n"
          ]
        }
      ]
    }
  ]
}